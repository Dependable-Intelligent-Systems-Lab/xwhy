{
 "cells": [
  {
   "cell_type": "markdown",
   "id": "ace5e2d9",
   "metadata": {
    "papermill": {
     "duration": 0.023361,
     "end_time": "2021-09-05T15:26:51.822933",
     "exception": false,
     "start_time": "2021-09-05T15:26:51.799572",
     "status": "completed"
    },
    "tags": []
   },
   "source": [
    "## Fooling LIME and SHAP: Adversarial Attacks on Post hoc Explanation Methods\n",
    "Source: [https://github.com/dylan-slack/Fooling-LIME-SHAP](https://github.com/dylan-slack/Fooling-LIME-SHAP)\n",
    "Paper: [Fooling LIME and SHAP: Adversarial Attacks on Post hoc Explanation Methods](https://arxiv.org/pdf/1911.02508.pdf)"
   ]
  },
  {
   "cell_type": "code",
   "execution_count": 1,
   "id": "6c81563c",
   "metadata": {
    "execution": {
     "iopub.execute_input": "2021-09-05T15:26:51.871219Z",
     "iopub.status.busy": "2021-09-05T15:26:51.870035Z",
     "iopub.status.idle": "2021-09-05T15:26:54.720313Z",
     "shell.execute_reply": "2021-09-05T15:26:54.719460Z",
     "shell.execute_reply.started": "2021-09-01T15:06:00.993866Z"
    },
    "papermill": {
     "duration": 2.875619,
     "end_time": "2021-09-05T15:26:54.720507",
     "exception": false,
     "start_time": "2021-09-05T15:26:51.844888",
     "status": "completed"
    },
    "tags": []
   },
   "outputs": [],
   "source": [
    "from plotly.subplots import make_subplots\n",
    "import plotly.graph_objects as go\n",
    "import plotly.express as px\n",
    "import matplotlib\n",
    "\n",
    "import pandas as pd\n",
    "import numpy as np\n",
    "import matplotlib.pyplot as plt\n",
    "from  matplotlib.colors import LinearSegmentedColormap\n",
    "from sklearn.linear_model import LinearRegression\n",
    "from sklearn.ensemble import RandomForestClassifier"
   ]
  },
  {
   "cell_type": "code",
   "execution_count": 2,
   "id": "d6cfa680",
   "metadata": {
    "execution": {
     "iopub.execute_input": "2021-09-05T15:26:54.771139Z",
     "iopub.status.busy": "2021-09-05T15:26:54.770374Z",
     "iopub.status.idle": "2021-09-05T15:26:56.850431Z",
     "shell.execute_reply": "2021-09-05T15:26:56.849729Z",
     "shell.execute_reply.started": "2021-09-01T15:00:12.320162Z"
    },
    "papermill": {
     "duration": 2.106978,
     "end_time": "2021-09-05T15:26:56.850574",
     "exception": false,
     "start_time": "2021-09-05T15:26:54.743596",
     "status": "completed"
    },
    "tags": []
   },
   "outputs": [
    {
     "name": "stdout",
     "output_type": "stream",
     "text": [
      "warning: Setting remote service path not supported by protocol.\r\n",
      "warning: Setting remote service path not supported by protocol.\r\n"
     ]
    }
   ],
   "source": [
    "!git clone https://github.com/dylan-slack/Fooling-LIME-SHAP.git -quite"
   ]
  },
  {
   "cell_type": "code",
   "execution_count": 3,
   "id": "0d6ef22d",
   "metadata": {
    "execution": {
     "iopub.execute_input": "2021-09-05T15:26:56.901538Z",
     "iopub.status.busy": "2021-09-05T15:26:56.900828Z",
     "iopub.status.idle": "2021-09-05T15:26:56.904084Z",
     "shell.execute_reply": "2021-09-05T15:26:56.903572Z",
     "shell.execute_reply.started": "2021-09-01T15:00:14.664474Z"
    },
    "papermill": {
     "duration": 0.03112,
     "end_time": "2021-09-05T15:26:56.904229",
     "exception": false,
     "start_time": "2021-09-05T15:26:56.873109",
     "status": "completed"
    },
    "tags": []
   },
   "outputs": [],
   "source": [
    "import sys\n",
    "sys.path.insert(1, '/kaggle/working/Fooling-LIME-SHAP')"
   ]
  },
  {
   "cell_type": "code",
   "execution_count": 4,
   "id": "8248a5fc",
   "metadata": {
    "execution": {
     "iopub.execute_input": "2021-09-05T15:26:56.955378Z",
     "iopub.status.busy": "2021-09-05T15:26:56.954652Z",
     "iopub.status.idle": "2021-09-05T15:27:05.929041Z",
     "shell.execute_reply": "2021-09-05T15:27:05.927758Z",
     "shell.execute_reply.started": "2021-09-01T15:00:23.95033Z"
    },
    "papermill": {
     "duration": 9.00303,
     "end_time": "2021-09-05T15:27:05.929212",
     "exception": false,
     "start_time": "2021-09-05T15:26:56.926182",
     "status": "completed"
    },
    "tags": []
   },
   "outputs": [],
   "source": [
    "import warnings\n",
    "warnings.filterwarnings('ignore') \n",
    "\n",
    "from adversarial_models import * \n",
    "from utils import *\n",
    "from get_data import *\n",
    "\n",
    "from sklearn.model_selection import train_test_split\n",
    "from sklearn.preprocessing import StandardScaler\n",
    "\n",
    "import numpy as np\n",
    "import pandas as pd\n",
    "\n",
    "import lime\n",
    "import lime.lime_tabular\n",
    "import shap\n",
    "from copy import deepcopy"
   ]
  },
  {
   "cell_type": "code",
   "execution_count": 5,
   "id": "126d31e0",
   "metadata": {
    "execution": {
     "iopub.execute_input": "2021-09-05T15:27:05.989764Z",
     "iopub.status.busy": "2021-09-05T15:27:05.989054Z",
     "iopub.status.idle": "2021-09-05T15:27:05.994252Z",
     "shell.execute_reply": "2021-09-05T15:27:05.994727Z",
     "shell.execute_reply.started": "2021-09-01T15:00:37.332078Z"
    },
    "papermill": {
     "duration": 0.043063,
     "end_time": "2021-09-05T15:27:05.994933",
     "exception": false,
     "start_time": "2021-09-05T15:27:05.951870",
     "status": "completed"
    },
    "tags": []
   },
   "outputs": [],
   "source": [
    "def get_and_preprocess_compas_data(params):\n",
    "    \"\"\"Handle processing of COMPAS according to: https://github.com/propublica/compas-analysis\n",
    "\n",
    "    Parameters\n",
    "    ----------\n",
    "    params : Params\n",
    "    Returns\n",
    "    ----------\n",
    "    Pandas data frame X of processed data, np.ndarray y, and list of column names\n",
    "    \"\"\"\n",
    "    PROTECTED_CLASS = params.protected_class\n",
    "    UNPROTECTED_CLASS = params.unprotected_class\n",
    "    POSITIVE_OUTCOME = params.positive_outcome\n",
    "    NEGATIVE_OUTCOME = params.negative_outcome\n",
    "\n",
    "    compas_df = pd.read_csv(\"./Fooling-LIME-SHAP/data/compas-scores-two-years.csv\", index_col=0)\n",
    "    compas_df = compas_df.loc[(compas_df['days_b_screening_arrest'] <= 30) &\n",
    "                              (compas_df['days_b_screening_arrest'] >= -30) &\n",
    "                              (compas_df['is_recid'] != -1) &\n",
    "                              (compas_df['c_charge_degree'] != \"O\") &\n",
    "                              (compas_df['score_text'] != \"NA\")]\n",
    "\n",
    "    compas_df['length_of_stay'] = (\n",
    "                pd.to_datetime(compas_df['c_jail_out']) - pd.to_datetime(compas_df['c_jail_in'])).dt.days\n",
    "    X = compas_df[['age', 'two_year_recid', 'c_charge_degree', 'race', 'sex', 'priors_count', 'length_of_stay']]\n",
    "\n",
    "    # if person has high score give them the _negative_ model outcome\n",
    "    y = np.array([NEGATIVE_OUTCOME if score == 'High' else POSITIVE_OUTCOME for score in compas_df['score_text']])\n",
    "    sens = X.pop('race')\n",
    "\n",
    "    # assign African-American as the protected class\n",
    "    X = pd.get_dummies(X)\n",
    "    sensitive_attr = np.array(pd.get_dummies(sens).pop('African-American'))\n",
    "    X['race'] = sensitive_attr\n",
    "\n",
    "    # make sure everything is lining up\n",
    "    assert all((sens == 'African-American') == (X['race'] == PROTECTED_CLASS))\n",
    "    cols = [col for col in X]\n",
    "\n",
    "    return X, y, cols\n",
    "\n",
    "\n",
    "def get_and_preprocess_cc(params):\n",
    "    \"\"\"\"Handle processing of Communities and Crime.  We exclude rows with missing values and predict\n",
    "    if the violent crime is in the 50th percentile.\n",
    "    Parameters\n",
    "    ----------\n",
    "    params : Params\n",
    "    Returns:\n",
    "    ----------\n",
    "    Pandas data frame X of processed data, np.ndarray y, and list of column names\n",
    "    \"\"\"\n",
    "    PROTECTED_CLASS = params.protected_class\n",
    "    UNPROTECTED_CLASS = params.unprotected_class\n",
    "    POSITIVE_OUTCOME = params.positive_outcome\n",
    "    NEGATIVE_OUTCOME = params.negative_outcome\n",
    "\n",
    "    X = pd.read_csv(\"./Fooling-LIME-SHAP/data/communities_and_crime_new_version.csv\", index_col=0)\n",
    "\n",
    "    # everything over 50th percentil gets negative outcome (lots of crime is bad)\n",
    "    high_violent_crimes_threshold = 50\n",
    "    y_col = 'ViolentCrimesPerPop numeric'\n",
    "\n",
    "    X = X[X[y_col] != \"?\"]\n",
    "    X[y_col] = X[y_col].values.astype('float32')\n",
    "\n",
    "    # just dump all x's that have missing values \n",
    "    cols_with_missing_values = []\n",
    "    for col in X:\n",
    "        if len(np.where(X[col].values == '?')[0]) >= 1:\n",
    "            cols_with_missing_values.append(col)\n",
    "\n",
    "    y = X[y_col]\n",
    "    y_cutoff = np.percentile(y, high_violent_crimes_threshold)\n",
    "    X = X.drop(\n",
    "        cols_with_missing_values + ['communityname string', 'fold numeric', 'county numeric', 'community numeric',\n",
    "                                    'state numeric'] + [y_col], axis=1)\n",
    "\n",
    "    # setup ys\n",
    "    cols = [c for c in X]\n",
    "    y = np.array([NEGATIVE_OUTCOME if val > y_cutoff else POSITIVE_OUTCOME for val in y])\n",
    "\n",
    "    return X, y, cols"
   ]
  },
  {
   "cell_type": "code",
   "execution_count": 6,
   "id": "dc1ce73d",
   "metadata": {
    "execution": {
     "iopub.execute_input": "2021-09-05T15:27:06.044862Z",
     "iopub.status.busy": "2021-09-05T15:27:06.043823Z",
     "iopub.status.idle": "2021-09-05T15:27:06.247335Z",
     "shell.execute_reply": "2021-09-05T15:27:06.246574Z",
     "shell.execute_reply.started": "2021-09-01T15:00:54.534303Z"
    },
    "papermill": {
     "duration": 0.229997,
     "end_time": "2021-09-05T15:27:06.247506",
     "exception": false,
     "start_time": "2021-09-05T15:27:06.017509",
     "status": "completed"
    },
    "tags": []
   },
   "outputs": [],
   "source": [
    "# Get the data set and do some preprocessing\n",
    "params = Params(\"./Fooling-LIME-SHAP/model_configurations/experiment_params.json\") \n",
    "np.random.seed(params.seed)\n",
    "X, y, cols = get_and_preprocess_compas_data(params)\n",
    "\n",
    "# Add a random column -- this is what we'll have LIME/SHAP explain.\n",
    "X['unrelated_column'] = np.random.choice([0,1],size=X.shape[0])\n",
    "features = [c for c in X]\n",
    "\n",
    "categorical_feature_name = ['two_year_recid', 'c_charge_degree_F', 'c_charge_degree_M',\\\n",
    "                            'sex_Female', 'sex_Male', 'race', 'unrelated_column']\n",
    "\n",
    "categorical_feature_indcs = [features.index(c) for c in categorical_feature_name]\n",
    "\n",
    "race_indc = features.index('race')\n",
    "unrelated_indcs = features.index('unrelated_column')\n",
    "X = X.values"
   ]
  },
  {
   "cell_type": "code",
   "execution_count": 7,
   "id": "12a19595",
   "metadata": {
    "execution": {
     "iopub.execute_input": "2021-09-05T15:27:06.304162Z",
     "iopub.status.busy": "2021-09-05T15:27:06.303149Z",
     "iopub.status.idle": "2021-09-05T15:27:06.306109Z",
     "shell.execute_reply": "2021-09-05T15:27:06.305429Z",
     "shell.execute_reply.started": "2021-09-01T15:01:07.223644Z"
    },
    "papermill": {
     "duration": 0.035916,
     "end_time": "2021-09-05T15:27:06.306277",
     "exception": false,
     "start_time": "2021-09-05T15:27:06.270361",
     "status": "completed"
    },
    "tags": []
   },
   "outputs": [],
   "source": [
    "\n",
    "class racist_model_f:\n",
    "    # Decision rule: classify negatively if race is black\n",
    "    def predict(self,X):\n",
    "        return np.array([params.negative_outcome if x[race_indc] > 0 else params.positive_outcome for x in X])\n",
    "\n",
    "    def predict_proba(self, X): \n",
    "        return one_hot_encode(self.predict(X))\n",
    "\n",
    "    def score(self, X,y):\n",
    "        return np.sum(self.predict(X)==y) / len(X)\n",
    "    \n",
    "class innocuous_model_psi:\n",
    "    # Decision rule: classify according to randomly drawn column 'unrelated column'\n",
    "    def predict(self,X):\n",
    "        return np.array([params.negative_outcome if x[unrelated_indcs] > 0 else params.positive_outcome for x in X])\n",
    "\n",
    "    def predict_proba(self, X): \n",
    "        return one_hot_encode(self.predict(X))\n",
    "\n",
    "    def score(self, X,y):\n",
    "        return np.sum(self.predict(X)==y) / len(X)"
   ]
  },
  {
   "cell_type": "code",
   "execution_count": 8,
   "id": "6e42660f",
   "metadata": {
    "execution": {
     "iopub.execute_input": "2021-09-05T15:27:06.359858Z",
     "iopub.status.busy": "2021-09-05T15:27:06.358543Z",
     "iopub.status.idle": "2021-09-05T15:27:37.981634Z",
     "shell.execute_reply": "2021-09-05T15:27:37.980914Z",
     "shell.execute_reply.started": "2021-09-01T15:01:20.684528Z"
    },
    "papermill": {
     "duration": 31.652958,
     "end_time": "2021-09-05T15:27:37.981790",
     "exception": false,
     "start_time": "2021-09-05T15:27:06.328832",
     "status": "completed"
    },
    "tags": []
   },
   "outputs": [],
   "source": [
    "# Split the data and normalize\n",
    "xtrain,xtest,ytrain,ytest = train_test_split(X,y)\n",
    "xtest_not_normalized = deepcopy(xtest)\n",
    "ss = StandardScaler().fit(xtrain)\n",
    "xtrain = ss.transform(xtrain)\n",
    "xtest = ss.transform(xtest)\n",
    "\n",
    "# Train the adversarial model for LIME with f and psi \n",
    "adv_lime = Adversarial_Lime_Model(racist_model_f(), innocuous_model_psi()).\\\n",
    "            train(xtrain, ytrain, feature_names=features, categorical_features=categorical_feature_indcs)"
   ]
  },
  {
   "cell_type": "code",
   "execution_count": 9,
   "id": "5686909c",
   "metadata": {
    "execution": {
     "iopub.execute_input": "2021-09-05T15:27:38.037139Z",
     "iopub.status.busy": "2021-09-05T15:27:38.036455Z",
     "iopub.status.idle": "2021-09-05T15:27:38.301530Z",
     "shell.execute_reply": "2021-09-05T15:27:38.302576Z",
     "shell.execute_reply.started": "2021-09-01T15:01:50.536071Z"
    },
    "papermill": {
     "duration": 0.297724,
     "end_time": "2021-09-05T15:27:38.302851",
     "exception": false,
     "start_time": "2021-09-05T15:27:38.005127",
     "status": "completed"
    },
    "tags": []
   },
   "outputs": [
    {
     "name": "stdout",
     "output_type": "stream",
     "text": [
      "Explanation on biased f:\n",
      " [('race=0', -0.9986343456272184), ('sex_Female=0', 2.0027981228433426e-05), ('unrelated_column=0', -1.7913202734343337e-05)] \n",
      "\n",
      "\n",
      "Explanation on adversarial model:\n",
      " [('unrelated_column=0', -0.9981443627773983), ('sex_Male=0', 0.0012015987966745123), ('two_year_recid=1', -0.0005130675716729507)] \n",
      "\n",
      "Prediction fidelity: 1.0\n"
     ]
    }
   ],
   "source": [
    "# Let's just look at a the first example in the test set\n",
    "ex_indc = np.random.choice(xtest.shape[0])\n",
    "\n",
    "# To get a baseline, we'll look at LIME applied to the biased model f\n",
    "normal_explainer = lime.lime_tabular.LimeTabularExplainer(xtrain,feature_names=adv_lime.get_column_names(),\n",
    "                                                          discretize_continuous=False,\n",
    "                                                          categorical_features=categorical_feature_indcs)\n",
    "\n",
    "normal_exp = normal_explainer.explain_instance(xtest[ex_indc], racist_model_f().predict_proba).as_list()\n",
    "\n",
    "print (\"Explanation on biased f:\\n\",normal_exp[:3],\"\\n\\n\")\n",
    "\n",
    "# Now, lets look at the explanations on the adversarial model \n",
    "adv_explainer = lime.lime_tabular.LimeTabularExplainer(xtrain,feature_names=adv_lime.get_column_names(), \n",
    "                                                       discretize_continuous=False,\n",
    "                                                       categorical_features=categorical_feature_indcs)\n",
    "\n",
    "adv_exp = adv_explainer.explain_instance(xtest[ex_indc], adv_lime.predict_proba).as_list()\n",
    "\n",
    "print (\"Explanation on adversarial model:\\n\",adv_exp[:3],\"\\n\")\n",
    "\n",
    "print(\"Prediction fidelity: {0:3.2}\".format(adv_lime.fidelity(xtest[ex_indc:ex_indc+1])))"
   ]
  },
  {
   "cell_type": "code",
   "execution_count": 10,
   "id": "2d945b19",
   "metadata": {
    "execution": {
     "iopub.execute_input": "2021-09-05T15:27:38.394290Z",
     "iopub.status.busy": "2021-09-05T15:27:38.393154Z",
     "iopub.status.idle": "2021-09-05T15:27:56.936287Z",
     "shell.execute_reply": "2021-09-05T15:27:56.935661Z",
     "shell.execute_reply.started": "2021-09-01T15:01:50.80554Z"
    },
    "papermill": {
     "duration": 18.594291,
     "end_time": "2021-09-05T15:27:56.936471",
     "exception": false,
     "start_time": "2021-09-05T15:27:38.342180",
     "status": "completed"
    },
    "tags": []
   },
   "outputs": [],
   "source": [
    "# Train the adversarial model\n",
    "adv_shap = Adversarial_Kernel_SHAP_Model(racist_model_f(), innocuous_model_psi()).\\\n",
    "            train(xtrain, ytrain, feature_names=features)"
   ]
  },
  {
   "cell_type": "code",
   "execution_count": 11,
   "id": "042482ae",
   "metadata": {
    "execution": {
     "iopub.execute_input": "2021-09-05T15:27:56.991008Z",
     "iopub.status.busy": "2021-09-05T15:27:56.990303Z",
     "iopub.status.idle": "2021-09-05T15:28:04.527267Z",
     "shell.execute_reply": "2021-09-05T15:28:04.527801Z",
     "shell.execute_reply.started": "2021-09-01T15:02:07.526541Z"
    },
    "papermill": {
     "duration": 7.568234,
     "end_time": "2021-09-05T15:28:04.528054",
     "exception": false,
     "start_time": "2021-09-05T15:27:56.959820",
     "status": "completed"
    },
    "tags": []
   },
   "outputs": [
    {
     "data": {
      "application/vnd.jupyter.widget-view+json": {
       "model_id": "58af808dcb1b4894a703830f962dbaa5",
       "version_major": 2,
       "version_minor": 0
      },
      "text/plain": [
       "  0%|          | 0/1 [00:00<?, ?it/s]"
      ]
     },
     "metadata": {},
     "output_type": "display_data"
    },
    {
     "data": {
      "application/vnd.jupyter.widget-view+json": {
       "model_id": "9c519595324541f6bacdf4b8cc04bb47",
       "version_major": 2,
       "version_minor": 0
      },
      "text/plain": [
       "  0%|          | 0/1 [00:00<?, ?it/s]"
      ]
     },
     "metadata": {},
     "output_type": "display_data"
    },
    {
     "data": {
      "image/png": "[encoded data removed]",
      "text/plain": [
       "<Figure size 576x396 with 1 Axes>"
      ]
     },
     "metadata": {
      "needs_background": "light"
     },
     "output_type": "display_data"
    },
    {
     "data": {
      "image/png": "[encoded data removed]",
      "text/plain": [
       "<Figure size 576x396 with 1 Axes>"
      ]
     },
     "metadata": {
      "needs_background": "light"
     },
     "output_type": "display_data"
    },
    {
     "name": "stdout",
     "output_type": "stream",
     "text": [
      "Fidelity: 1.0\n"
     ]
    }
   ],
   "source": [
    "# Set the background distribution for the shap explainer using kmeans\n",
    "background_distribution = shap.kmeans(xtrain,10)\n",
    "\n",
    "# Let's use the shap kernel explainer and grab a point to explain\n",
    "to_examine = np.random.choice(xtest.shape[0])\n",
    "\n",
    "# Explain the biased model\n",
    "biased_kernel_explainer = shap.KernelExplainer(racist_model_f().predict, background_distribution)\n",
    "biased_shap_values = biased_kernel_explainer.shap_values(xtest[to_examine:to_examine+1])\n",
    "\n",
    "# Explain the adversarial model\n",
    "adv_kerenel_explainer = shap.KernelExplainer(adv_shap.predict, background_distribution)\n",
    "adv_shap_values = adv_kerenel_explainer.shap_values(xtest[to_examine:to_examine+1])\n",
    "\n",
    "# Plot it using SHAP's plotting features.\n",
    "shap.summary_plot(biased_shap_values, feature_names=features, plot_type=\"bar\")\n",
    "shap.summary_plot(adv_shap_values, feature_names=features, plot_type=\"bar\")\n",
    "\n",
    "print (\"Fidelity: {0:3.2}\".format(adv_shap.fidelity(xtest[to_examine:to_examine+1])))"
   ]
  },
  {
   "cell_type": "code",
   "execution_count": 12,
   "id": "f074ddc5",
   "metadata": {
    "execution": {
     "iopub.execute_input": "2021-09-05T15:28:04.605342Z",
     "iopub.status.busy": "2021-09-05T15:28:04.604521Z",
     "iopub.status.idle": "2021-09-05T15:28:04.607569Z",
     "shell.execute_reply": "2021-09-05T15:28:04.607021Z",
     "shell.execute_reply.started": "2021-09-01T15:03:49.509624Z"
    },
    "papermill": {
     "duration": 0.051494,
     "end_time": "2021-09-05T15:28:04.607737",
     "exception": false,
     "start_time": "2021-09-05T15:28:04.556243",
     "status": "completed"
    },
    "tags": []
   },
   "outputs": [],
   "source": [
    "def Wasserstein_Dist(XX, YY):\n",
    "  \n",
    "    import numpy as np\n",
    "    nx = len(XX)\n",
    "    ny = len(YY)\n",
    "    n = nx + ny\n",
    "\n",
    "    XY = np.concatenate([XX,YY])\n",
    "    X2 = np.concatenate([np.repeat(1/nx, nx), np.repeat(0, ny)])\n",
    "    Y2 = np.concatenate([np.repeat(0, nx), np.repeat(1/ny, ny)])\n",
    "\n",
    "    S_Ind = np.argsort(XY)\n",
    "    XY_Sorted = XY[S_Ind]\n",
    "    X2_Sorted = X2[S_Ind]\n",
    "    Y2_Sorted = Y2[S_Ind]\n",
    "\n",
    "    Res = 0\n",
    "    E_CDF = 0\n",
    "    F_CDF = 0\n",
    "    power = 1\n",
    "\n",
    "    for ii in range(0, n-2):\n",
    "        E_CDF = E_CDF + X2_Sorted[ii]\n",
    "        F_CDF = F_CDF + Y2_Sorted[ii]\n",
    "        height = abs(F_CDF-E_CDF)\n",
    "        width = XY_Sorted[ii+1] - XY_Sorted[ii]\n",
    "        Res = Res + (height ** power) * width;  \n",
    " \n",
    "    return Res\n",
    "\n",
    "def WasserstainLIME2(X_input, model, num_perturb = 500, L_num_perturb = 100, kernel_width2 = 0.75, epsilon = 0.1):\n",
    "    '''\n",
    "    WasserstainLIME is a statistical version of LIME (local interpretable model-agnostic explanations) \n",
    "    in which instead of Euclidean distance, the ECDF-based distance is used.\n",
    "    \n",
    "    X_input: should be a numpy array that represents one point in a n-dimensional space.\n",
    "    \n",
    "    num_perturb: Is the number of perturbations that the algorithm uses.\n",
    "    \n",
    "    L_num_perturb: Is the number of perturbations in the local areas that the algorithm uses.\n",
    "    \n",
    "    kernel_width: Is the Kernel Width. When the decision space is very dynamic, the kernel width should be low like 0.2, \n",
    "    otherwise kernel with around 0.75 would be ideal.\n",
    "    \n",
    "    model: It is the trained model that can be for a classification or regression. \n",
    "    \n",
    "    epsilon: It is used to normalize the WD values.\n",
    "    \n",
    "    '''\n",
    "    \n",
    "    X_input = (X_input - np.mean(X_input,axis=0)) / np.std(X_input,axis=0) #Standarization of data\n",
    "\n",
    "    X_lime = np.random.normal(0,1,size=(num_perturb,X_input.shape[0]))\n",
    "    \n",
    "    Xi2 = np.zeros((L_num_perturb,X_input.shape[0]))\n",
    "    \n",
    "    for jj in range(X_input.shape[0]):\n",
    "        Xi2[:,jj] = X_input[jj] + np.random.normal(0,0.05,L_num_perturb)\n",
    "\n",
    "    y_lime2  = np.zeros((num_perturb,1))\n",
    "    WD       = np.zeros((num_perturb,1))\n",
    "    weights2 = np.zeros((num_perturb,1))\n",
    "    \n",
    "    for ind, ii in enumerate(X_lime):\n",
    "        \n",
    "        df2 = pd.DataFrame()\n",
    "        \n",
    "        for jj in range(X_input.shape[0]):\n",
    "            temp1 = ii[jj] + np.random.normal(0,0.3,L_num_perturb)\n",
    "            df2[len(df2.columns)] = temp1\n",
    "\n",
    "        temp3 = model.predict(df2.to_numpy())\n",
    "\n",
    "        y_lime2[ind] = np.mean(temp3)  # For classification: np.argmax(np.bincount(temp3))\n",
    "        \n",
    "        WD1 = np.zeros((X_input.shape[0],1))\n",
    "        \n",
    "        df2 = df2.to_numpy()\n",
    "        \n",
    "        for kk in range(X_input.shape[0]):\n",
    "            #print( df2.shape)\n",
    "            WD1[kk] = Wasserstein_Dist(Xi2[:,kk], df2[:,kk])\n",
    "        \n",
    "        #print(WD1)\n",
    "        #print(ind)\n",
    "        WD[ind] = sum(WD1)\n",
    "        #print(WD)\n",
    "    \n",
    "        weights2[ind] = np.sqrt(np.exp(-((epsilon*WD[ind])**2)/(kernel_width2**2))) \n",
    "        #print(weights2[ind])\n",
    "        \n",
    "        del df2\n",
    "    \n",
    "    weights2 = weights2.flatten()\n",
    "    #print(weights2)\n",
    "    \n",
    "    simpler_model2 = LinearRegression() \n",
    "    simpler_model2.fit(X_lime, y_lime2, sample_weight=weights2)\n",
    "    y_linmodel2 = simpler_model2.predict(X_lime)\n",
    "    y_linmodel2 = y_linmodel2 < 0.5 #Conver to binary class\n",
    "    y_linmodel2 = y_linmodel2.flatten()\n",
    "    \n",
    "    return X_lime, y_lime2, weights2, y_linmodel2, simpler_model2.coef_.flatten()"
   ]
  },
  {
   "cell_type": "code",
   "execution_count": 13,
   "id": "2e398edd",
   "metadata": {
    "execution": {
     "iopub.execute_input": "2021-09-05T15:28:04.668636Z",
     "iopub.status.busy": "2021-09-05T15:28:04.667840Z",
     "iopub.status.idle": "2021-09-05T15:29:31.579782Z",
     "shell.execute_reply": "2021-09-05T15:29:31.579215Z",
     "shell.execute_reply.started": "2021-09-01T15:06:09.63965Z"
    },
    "papermill": {
     "duration": 86.945919,
     "end_time": "2021-09-05T15:29:31.579957",
     "exception": false,
     "start_time": "2021-09-05T15:28:04.634038",
     "status": "completed"
    },
    "tags": []
   },
   "outputs": [
    {
     "data": {
      "text/html": [
       "        <script type=\"text/javascript\">\n",
       "        window.PlotlyConfig = {MathJaxConfig: 'local'};\n",
       "        if (window.MathJax) {MathJax.Hub.Config({SVG: {font: \"STIX-Web\"}});}\n",
       "        if (typeof require !== 'undefined') {\n",
       "        require.undef(\"plotly\");\n",
       "        requirejs.config({\n",
       "            paths: {\n",
       "                'plotly': ['https://cdn.plot.ly/plotly-2.2.0.min']\n",
       "            }\n",
       "        });\n",
       "        require(['plotly'], function(Plotly) {\n",
       "            window._Plotly = Plotly;\n",
       "        });\n",
       "        }\n",
       "        </script>\n",
       "        "
      ]
     },
     "metadata": {},
     "output_type": "display_data"
    },
    {
     "data": {
      "text/html": [
       "<div>                            <div id=\"174223c9-59d6-4e1b-af27-9a171ef628da\" class=\"plotly-graph-div\" style=\"height:525px; width:100%;\"></div>            <script type=\"text/javascript\">                require([\"plotly\"], function(Plotly) {                    window.PLOTLYENV=window.PLOTLYENV || {};                                    if (document.getElementById(\"174223c9-59d6-4e1b-af27-9a171ef628da\")) {                    Plotly.newPlot(                        \"174223c9-59d6-4e1b-af27-9a171ef628da\",                        [{\"alignmentgroup\":\"True\",\"hovertemplate\":\"feature_names=%{y}<br>WDL=%{x}<extra></extra>\",\"legendgroup\":\"age\",\"marker\":{\"color\":\"#636efa\",\"pattern\":{\"shape\":\"\"}},\"name\":\"age\",\"offsetgroup\":\"age\",\"orientation\":\"h\",\"showlegend\":true,\"textposition\":\"auto\",\"type\":\"bar\",\"x\":[-0.018081189131704305],\"xaxis\":\"x\",\"y\":[\"age\"],\"yaxis\":\"y\"},{\"alignmentgroup\":\"True\",\"hovertemplate\":\"feature_names=%{y}<br>WDL=%{x}<extra></extra>\",\"legendgroup\":\"two_year_recid\",\"marker\":{\"color\":\"#EF553B\",\"pattern\":{\"shape\":\"\"}},\"name\":\"two_year_recid\",\"offsetgroup\":\"two_year_recid\",\"orientation\":\"h\",\"showlegend\":true,\"textposition\":\"auto\",\"type\":\"bar\",\"x\":[0.06745540827314905],\"xaxis\":\"x\",\"y\":[\"two_year_recid\"],\"yaxis\":\"y\"},{\"alignmentgroup\":\"True\",\"hovertemplate\":\"feature_names=%{y}<br>WDL=%{x}<extra></extra>\",\"legendgroup\":\"priors_count\",\"marker\":{\"color\":\"#00cc96\",\"pattern\":{\"shape\":\"\"}},\"name\":\"priors_count\",\"offsetgroup\":\"priors_count\",\"orientation\":\"h\",\"showlegend\":true,\"textposition\":\"auto\",\"type\":\"bar\",\"x\":[0.0867109375969369],\"xaxis\":\"x\",\"y\":[\"priors_count\"],\"yaxis\":\"y\"},{\"alignmentgroup\":\"True\",\"hovertemplate\":\"feature_names=%{y}<br>WDL=%{x}<extra></extra>\",\"legendgroup\":\"length_of_stay\",\"marker\":{\"color\":\"#ab63fa\",\"pattern\":{\"shape\":\"\"}},\"name\":\"length_of_stay\",\"offsetgroup\":\"length_of_stay\",\"orientation\":\"h\",\"showlegend\":true,\"textposition\":\"auto\",\"type\":\"bar\",\"x\":[-0.0035841212305207097],\"xaxis\":\"x\",\"y\":[\"length_of_stay\"],\"yaxis\":\"y\"},{\"alignmentgroup\":\"True\",\"hovertemplate\":\"feature_names=%{y}<br>WDL=%{x}<extra></extra>\",\"legendgroup\":\"c_charge_degree_F\",\"marker\":{\"color\":\"#FFA15A\",\"pattern\":{\"shape\":\"\"}},\"name\":\"c_charge_degree_F\",\"offsetgroup\":\"c_charge_degree_F\",\"orientation\":\"h\",\"showlegend\":true,\"textposition\":\"auto\",\"type\":\"bar\",\"x\":[0.030192144543018506],\"xaxis\":\"x\",\"y\":[\"c_charge_degree_F\"],\"yaxis\":\"y\"},{\"alignmentgroup\":\"True\",\"hovertemplate\":\"feature_names=%{y}<br>WDL=%{x}<extra></extra>\",\"legendgroup\":\"c_charge_degree_M\",\"marker\":{\"color\":\"#19d3f3\",\"pattern\":{\"shape\":\"\"}},\"name\":\"c_charge_degree_M\",\"offsetgroup\":\"c_charge_degree_M\",\"orientation\":\"h\",\"showlegend\":true,\"textposition\":\"auto\",\"type\":\"bar\",\"x\":[0.15095671897241195],\"xaxis\":\"x\",\"y\":[\"c_charge_degree_M\"],\"yaxis\":\"y\"},{\"alignmentgroup\":\"True\",\"hovertemplate\":\"feature_names=%{y}<br>WDL=%{x}<extra></extra>\",\"legendgroup\":\"sex_Female\",\"marker\":{\"color\":\"#FF6692\",\"pattern\":{\"shape\":\"\"}},\"name\":\"sex_Female\",\"offsetgroup\":\"sex_Female\",\"orientation\":\"h\",\"showlegend\":true,\"textposition\":\"auto\",\"type\":\"bar\",\"x\":[-0.03843299719762636],\"xaxis\":\"x\",\"y\":[\"sex_Female\"],\"yaxis\":\"y\"},{\"alignmentgroup\":\"True\",\"hovertemplate\":\"feature_names=%{y}<br>WDL=%{x}<extra></extra>\",\"legendgroup\":\"sex_Male\",\"marker\":{\"color\":\"#B6E880\",\"pattern\":{\"shape\":\"\"}},\"name\":\"sex_Male\",\"offsetgroup\":\"sex_Male\",\"orientation\":\"h\",\"showlegend\":true,\"textposition\":\"auto\",\"type\":\"bar\",\"x\":[0.06300927709616953],\"xaxis\":\"x\",\"y\":[\"sex_Male\"],\"yaxis\":\"y\"},{\"alignmentgroup\":\"True\",\"hovertemplate\":\"feature_names=%{y}<br>WDL=%{x}<extra></extra>\",\"legendgroup\":\"race\",\"marker\":{\"color\":\"#FF97FF\",\"pattern\":{\"shape\":\"\"}},\"name\":\"race\",\"offsetgroup\":\"race\",\"orientation\":\"h\",\"showlegend\":true,\"textposition\":\"auto\",\"type\":\"bar\",\"x\":[-0.40556314911260666],\"xaxis\":\"x\",\"y\":[\"race\"],\"yaxis\":\"y\"},{\"alignmentgroup\":\"True\",\"hovertemplate\":\"feature_names=%{y}<br>WDL=%{x}<extra></extra>\",\"legendgroup\":\"unrelated_column\",\"marker\":{\"color\":\"#FECB52\",\"pattern\":{\"shape\":\"\"}},\"name\":\"unrelated_column\",\"offsetgroup\":\"unrelated_column\",\"orientation\":\"h\",\"showlegend\":true,\"textposition\":\"auto\",\"type\":\"bar\",\"x\":[-0.002248823549479403],\"xaxis\":\"x\",\"y\":[\"unrelated_column\"],\"yaxis\":\"y\"}],                        {\"barmode\":\"relative\",\"legend\":{\"title\":{\"text\":\"feature_names\"},\"tracegroupgap\":0},\"margin\":{\"t\":60},\"template\":{\"data\":{\"bar\":[{\"error_x\":{\"color\":\"#2a3f5f\"},\"error_y\":{\"color\":\"#2a3f5f\"},\"marker\":{\"line\":{\"color\":\"#E5ECF6\",\"width\":0.5},\"pattern\":{\"fillmode\":\"overlay\",\"size\":10,\"solidity\":0.2}},\"type\":\"bar\"}],\"barpolar\":[{\"marker\":{\"line\":{\"color\":\"#E5ECF6\",\"width\":0.5},\"pattern\":{\"fillmode\":\"overlay\",\"size\":10,\"solidity\":0.2}},\"type\":\"barpolar\"}],\"carpet\":[{\"aaxis\":{\"endlinecolor\":\"#2a3f5f\",\"gridcolor\":\"white\",\"linecolor\":\"white\",\"minorgridcolor\":\"white\",\"startlinecolor\":\"#2a3f5f\"},\"baxis\":{\"endlinecolor\":\"#2a3f5f\",\"gridcolor\":\"white\",\"linecolor\":\"white\",\"minorgridcolor\":\"white\",\"startlinecolor\":\"#2a3f5f\"},\"type\":\"carpet\"}],\"choropleth\":[{\"colorbar\":{\"outlinewidth\":0,\"ticks\":\"\"},\"type\":\"choropleth\"}],\"contour\":[{\"colorbar\":{\"outlinewidth\":0,\"ticks\":\"\"},\"colorscale\":[[0.0,\"#0d0887\"],[0.1111111111111111,\"#46039f\"],[0.2222222222222222,\"#7201a8\"],[0.3333333333333333,\"#9c179e\"],[0.4444444444444444,\"#bd3786\"],[0.5555555555555556,\"#d8576b\"],[0.6666666666666666,\"#ed7953\"],[0.7777777777777778,\"#fb9f3a\"],[0.8888888888888888,\"#fdca26\"],[1.0,\"#f0f921\"]],\"type\":\"contour\"}],\"contourcarpet\":[{\"colorbar\":{\"outlinewidth\":0,\"ticks\":\"\"},\"type\":\"contourcarpet\"}],\"heatmap\":[{\"colorbar\":{\"outlinewidth\":0,\"ticks\":\"\"},\"colorscale\":[[0.0,\"#0d0887\"],[0.1111111111111111,\"#46039f\"],[0.2222222222222222,\"#7201a8\"],[0.3333333333333333,\"#9c179e\"],[0.4444444444444444,\"#bd3786\"],[0.5555555555555556,\"#d8576b\"],[0.6666666666666666,\"#ed7953\"],[0.7777777777777778,\"#fb9f3a\"],[0.8888888888888888,\"#fdca26\"],[1.0,\"#f0f921\"]],\"type\":\"heatmap\"}],\"heatmapgl\":[{\"colorbar\":{\"outlinewidth\":0,\"ticks\":\"\"},\"colorscale\":[[0.0,\"#0d0887\"],[0.1111111111111111,\"#46039f\"],[0.2222222222222222,\"#7201a8\"],[0.3333333333333333,\"#9c179e\"],[0.4444444444444444,\"#bd3786\"],[0.5555555555555556,\"#d8576b\"],[0.6666666666666666,\"#ed7953\"],[0.7777777777777778,\"#fb9f3a\"],[0.8888888888888888,\"#fdca26\"],[1.0,\"#f0f921\"]],\"type\":\"heatmapgl\"}],\"histogram\":[{\"marker\":{\"pattern\":{\"fillmode\":\"overlay\",\"size\":10,\"solidity\":0.2}},\"type\":\"histogram\"}],\"histogram2d\":[{\"colorbar\":{\"outlinewidth\":0,\"ticks\":\"\"},\"colorscale\":[[0.0,\"#0d0887\"],[0.1111111111111111,\"#46039f\"],[0.2222222222222222,\"#7201a8\"],[0.3333333333333333,\"#9c179e\"],[0.4444444444444444,\"#bd3786\"],[0.5555555555555556,\"#d8576b\"],[0.6666666666666666,\"#ed7953\"],[0.7777777777777778,\"#fb9f3a\"],[0.8888888888888888,\"#fdca26\"],[1.0,\"#f0f921\"]],\"type\":\"histogram2d\"}],\"histogram2dcontour\":[{\"colorbar\":{\"outlinewidth\":0,\"ticks\":\"\"},\"colorscale\":[[0.0,\"#0d0887\"],[0.1111111111111111,\"#46039f\"],[0.2222222222222222,\"#7201a8\"],[0.3333333333333333,\"#9c179e\"],[0.4444444444444444,\"#bd3786\"],[0.5555555555555556,\"#d8576b\"],[0.6666666666666666,\"#ed7953\"],[0.7777777777777778,\"#fb9f3a\"],[0.8888888888888888,\"#fdca26\"],[1.0,\"#f0f921\"]],\"type\":\"histogram2dcontour\"}],\"mesh3d\":[{\"colorbar\":{\"outlinewidth\":0,\"ticks\":\"\"},\"type\":\"mesh3d\"}],\"parcoords\":[{\"line\":{\"colorbar\":{\"outlinewidth\":0,\"ticks\":\"\"}},\"type\":\"parcoords\"}],\"pie\":[{\"automargin\":true,\"type\":\"pie\"}],\"scatter\":[{\"marker\":{\"colorbar\":{\"outlinewidth\":0,\"ticks\":\"\"}},\"type\":\"scatter\"}],\"scatter3d\":[{\"line\":{\"colorbar\":{\"outlinewidth\":0,\"ticks\":\"\"}},\"marker\":{\"colorbar\":{\"outlinewidth\":0,\"ticks\":\"\"}},\"type\":\"scatter3d\"}],\"scattercarpet\":[{\"marker\":{\"colorbar\":{\"outlinewidth\":0,\"ticks\":\"\"}},\"type\":\"scattercarpet\"}],\"scattergeo\":[{\"marker\":{\"colorbar\":{\"outlinewidth\":0,\"ticks\":\"\"}},\"type\":\"scattergeo\"}],\"scattergl\":[{\"marker\":{\"colorbar\":{\"outlinewidth\":0,\"ticks\":\"\"}},\"type\":\"scattergl\"}],\"scattermapbox\":[{\"marker\":{\"colorbar\":{\"outlinewidth\":0,\"ticks\":\"\"}},\"type\":\"scattermapbox\"}],\"scatterpolar\":[{\"marker\":{\"colorbar\":{\"outlinewidth\":0,\"ticks\":\"\"}},\"type\":\"scatterpolar\"}],\"scatterpolargl\":[{\"marker\":{\"colorbar\":{\"outlinewidth\":0,\"ticks\":\"\"}},\"type\":\"scatterpolargl\"}],\"scatterternary\":[{\"marker\":{\"colorbar\":{\"outlinewidth\":0,\"ticks\":\"\"}},\"type\":\"scatterternary\"}],\"surface\":[{\"colorbar\":{\"outlinewidth\":0,\"ticks\":\"\"},\"colorscale\":[[0.0,\"#0d0887\"],[0.1111111111111111,\"#46039f\"],[0.2222222222222222,\"#7201a8\"],[0.3333333333333333,\"#9c179e\"],[0.4444444444444444,\"#bd3786\"],[0.5555555555555556,\"#d8576b\"],[0.6666666666666666,\"#ed7953\"],[0.7777777777777778,\"#fb9f3a\"],[0.8888888888888888,\"#fdca26\"],[1.0,\"#f0f921\"]],\"type\":\"surface\"}],\"table\":[{\"cells\":{\"fill\":{\"color\":\"#EBF0F8\"},\"line\":{\"color\":\"white\"}},\"header\":{\"fill\":{\"color\":\"#C8D4E3\"},\"line\":{\"color\":\"white\"}},\"type\":\"table\"}]},\"layout\":{\"annotationdefaults\":{\"arrowcolor\":\"#2a3f5f\",\"arrowhead\":0,\"arrowwidth\":1},\"autotypenumbers\":\"strict\",\"coloraxis\":{\"colorbar\":{\"outlinewidth\":0,\"ticks\":\"\"}},\"colorscale\":{\"diverging\":[[0,\"#8e0152\"],[0.1,\"#c51b7d\"],[0.2,\"#de77ae\"],[0.3,\"#f1b6da\"],[0.4,\"#fde0ef\"],[0.5,\"#f7f7f7\"],[0.6,\"#e6f5d0\"],[0.7,\"#b8e186\"],[0.8,\"#7fbc41\"],[0.9,\"#4d9221\"],[1,\"#276419\"]],\"sequential\":[[0.0,\"#0d0887\"],[0.1111111111111111,\"#46039f\"],[0.2222222222222222,\"#7201a8\"],[0.3333333333333333,\"#9c179e\"],[0.4444444444444444,\"#bd3786\"],[0.5555555555555556,\"#d8576b\"],[0.6666666666666666,\"#ed7953\"],[0.7777777777777778,\"#fb9f3a\"],[0.8888888888888888,\"#fdca26\"],[1.0,\"#f0f921\"]],\"sequentialminus\":[[0.0,\"#0d0887\"],[0.1111111111111111,\"#46039f\"],[0.2222222222222222,\"#7201a8\"],[0.3333333333333333,\"#9c179e\"],[0.4444444444444444,\"#bd3786\"],[0.5555555555555556,\"#d8576b\"],[0.6666666666666666,\"#ed7953\"],[0.7777777777777778,\"#fb9f3a\"],[0.8888888888888888,\"#fdca26\"],[1.0,\"#f0f921\"]]},\"colorway\":[\"#636efa\",\"#EF553B\",\"#00cc96\",\"#ab63fa\",\"#FFA15A\",\"#19d3f3\",\"#FF6692\",\"#B6E880\",\"#FF97FF\",\"#FECB52\"],\"font\":{\"color\":\"#2a3f5f\"},\"geo\":{\"bgcolor\":\"white\",\"lakecolor\":\"white\",\"landcolor\":\"#E5ECF6\",\"showlakes\":true,\"showland\":true,\"subunitcolor\":\"white\"},\"hoverlabel\":{\"align\":\"left\"},\"hovermode\":\"closest\",\"mapbox\":{\"style\":\"light\"},\"paper_bgcolor\":\"white\",\"plot_bgcolor\":\"#E5ECF6\",\"polar\":{\"angularaxis\":{\"gridcolor\":\"white\",\"linecolor\":\"white\",\"ticks\":\"\"},\"bgcolor\":\"#E5ECF6\",\"radialaxis\":{\"gridcolor\":\"white\",\"linecolor\":\"white\",\"ticks\":\"\"}},\"scene\":{\"xaxis\":{\"backgroundcolor\":\"#E5ECF6\",\"gridcolor\":\"white\",\"gridwidth\":2,\"linecolor\":\"white\",\"showbackground\":true,\"ticks\":\"\",\"zerolinecolor\":\"white\"},\"yaxis\":{\"backgroundcolor\":\"#E5ECF6\",\"gridcolor\":\"white\",\"gridwidth\":2,\"linecolor\":\"white\",\"showbackground\":true,\"ticks\":\"\",\"zerolinecolor\":\"white\"},\"zaxis\":{\"backgroundcolor\":\"#E5ECF6\",\"gridcolor\":\"white\",\"gridwidth\":2,\"linecolor\":\"white\",\"showbackground\":true,\"ticks\":\"\",\"zerolinecolor\":\"white\"}},\"shapedefaults\":{\"line\":{\"color\":\"#2a3f5f\"}},\"ternary\":{\"aaxis\":{\"gridcolor\":\"white\",\"linecolor\":\"white\",\"ticks\":\"\"},\"baxis\":{\"gridcolor\":\"white\",\"linecolor\":\"white\",\"ticks\":\"\"},\"bgcolor\":\"#E5ECF6\",\"caxis\":{\"gridcolor\":\"white\",\"linecolor\":\"white\",\"ticks\":\"\"}},\"title\":{\"x\":0.05},\"xaxis\":{\"automargin\":true,\"gridcolor\":\"white\",\"linecolor\":\"white\",\"ticks\":\"\",\"title\":{\"standoff\":15},\"zerolinecolor\":\"white\",\"zerolinewidth\":2},\"yaxis\":{\"automargin\":true,\"gridcolor\":\"white\",\"linecolor\":\"white\",\"ticks\":\"\",\"title\":{\"standoff\":15},\"zerolinecolor\":\"white\",\"zerolinewidth\":2}}},\"xaxis\":{\"anchor\":\"y\",\"domain\":[0.0,1.0],\"title\":{\"text\":\"WDL\"}},\"yaxis\":{\"anchor\":\"x\",\"categoryarray\":[\"unrelated_column\",\"race\",\"sex_Male\",\"sex_Female\",\"c_charge_degree_M\",\"c_charge_degree_F\",\"length_of_stay\",\"priors_count\",\"two_year_recid\",\"age\"],\"categoryorder\":\"array\",\"domain\":[0.0,1.0],\"title\":{\"text\":\"feature_names\"}}},                        {\"responsive\": true}                    ).then(function(){\n",
       "                            \n",
       "var gd = document.getElementById('174223c9-59d6-4e1b-af27-9a171ef628da');\n",
       "var x = new MutationObserver(function (mutations, observer) {{\n",
       "        var display = window.getComputedStyle(gd).display;\n",
       "        if (!display || display === 'none') {{\n",
       "            console.log([gd, 'removed!']);\n",
       "            Plotly.purge(gd);\n",
       "            observer.disconnect();\n",
       "        }}\n",
       "}});\n",
       "\n",
       "// Listen for the removal of the full notebook cells\n",
       "var notebookContainer = gd.closest('#notebook-container');\n",
       "if (notebookContainer) {{\n",
       "    x.observe(notebookContainer, {childList: true});\n",
       "}}\n",
       "\n",
       "// Listen for the clearing of the current output cell\n",
       "var outputEl = gd.closest('.output');\n",
       "if (outputEl) {{\n",
       "    x.observe(outputEl, {childList: true});\n",
       "}}\n",
       "\n",
       "                        })                };                });            </script>        </div>"
      ]
     },
     "metadata": {},
     "output_type": "display_data"
    }
   ],
   "source": [
    "X_lime, y_lime2, weights2, y_linmodel2, WLIME_Coef1 = WasserstainLIME2(xtest[to_examine:to_examine+1].flatten(), \n",
    "                                                                      num_perturb = 2000, \n",
    "                                                                      kernel_width2 = 0.5, \n",
    "                                                                      L_num_perturb = 500,\n",
    "                                                                      model = racist_model_f(), \n",
    "                                                                      epsilon = 0.3)\n",
    "\n",
    "\n",
    "\n",
    "df3 = pd.DataFrame()\n",
    "temp0 = np.zeros((2,2))\n",
    "\n",
    "df3['WDL'] = WLIME_Coef1\n",
    "df3['feature_names'] = features\n",
    "\n",
    "import plotly.express as px\n",
    "fig = px.bar(df3, x='WDL', y='feature_names', orientation='h', color='feature_names')\n",
    "fig.show()"
   ]
  },
  {
   "cell_type": "code",
   "execution_count": 14,
   "id": "2c0acc95",
   "metadata": {
    "execution": {
     "iopub.execute_input": "2021-09-05T15:29:31.640890Z",
     "iopub.status.busy": "2021-09-05T15:29:31.640098Z",
     "iopub.status.idle": "2021-09-05T15:29:44.324894Z",
     "shell.execute_reply": "2021-09-05T15:29:44.324172Z",
     "shell.execute_reply.started": "2021-09-01T15:07:36.929109Z"
    },
    "papermill": {
     "duration": 12.717057,
     "end_time": "2021-09-05T15:29:44.325084",
     "exception": false,
     "start_time": "2021-09-05T15:29:31.608027",
     "status": "completed"
    },
    "tags": []
   },
   "outputs": [
    {
     "data": {
      "text/html": [
       "<div>                            <div id=\"f08e8e57-6077-4d82-b47b-3d256d0a0648\" class=\"plotly-graph-div\" style=\"height:525px; width:100%;\"></div>            <script type=\"text/javascript\">                require([\"plotly\"], function(Plotly) {                    window.PLOTLYENV=window.PLOTLYENV || {};                                    if (document.getElementById(\"f08e8e57-6077-4d82-b47b-3d256d0a0648\")) {                    Plotly.newPlot(                        \"f08e8e57-6077-4d82-b47b-3d256d0a0648\",                        [{\"alignmentgroup\":\"True\",\"hovertemplate\":\"feature_names=%{y}<br>WDL=%{x}<extra></extra>\",\"legendgroup\":\"age\",\"marker\":{\"color\":\"#636efa\",\"pattern\":{\"shape\":\"\"}},\"name\":\"age\",\"offsetgroup\":\"age\",\"orientation\":\"h\",\"showlegend\":true,\"textposition\":\"auto\",\"type\":\"bar\",\"x\":[0.02949631225305801],\"xaxis\":\"x\",\"y\":[\"age\"],\"yaxis\":\"y\"},{\"alignmentgroup\":\"True\",\"hovertemplate\":\"feature_names=%{y}<br>WDL=%{x}<extra></extra>\",\"legendgroup\":\"two_year_recid\",\"marker\":{\"color\":\"#EF553B\",\"pattern\":{\"shape\":\"\"}},\"name\":\"two_year_recid\",\"offsetgroup\":\"two_year_recid\",\"orientation\":\"h\",\"showlegend\":true,\"textposition\":\"auto\",\"type\":\"bar\",\"x\":[0.06512427696588347],\"xaxis\":\"x\",\"y\":[\"two_year_recid\"],\"yaxis\":\"y\"},{\"alignmentgroup\":\"True\",\"hovertemplate\":\"feature_names=%{y}<br>WDL=%{x}<extra></extra>\",\"legendgroup\":\"priors_count\",\"marker\":{\"color\":\"#00cc96\",\"pattern\":{\"shape\":\"\"}},\"name\":\"priors_count\",\"offsetgroup\":\"priors_count\",\"orientation\":\"h\",\"showlegend\":true,\"textposition\":\"auto\",\"type\":\"bar\",\"x\":[0.08419787318148163],\"xaxis\":\"x\",\"y\":[\"priors_count\"],\"yaxis\":\"y\"},{\"alignmentgroup\":\"True\",\"hovertemplate\":\"feature_names=%{y}<br>WDL=%{x}<extra></extra>\",\"legendgroup\":\"length_of_stay\",\"marker\":{\"color\":\"#ab63fa\",\"pattern\":{\"shape\":\"\"}},\"name\":\"length_of_stay\",\"offsetgroup\":\"length_of_stay\",\"orientation\":\"h\",\"showlegend\":true,\"textposition\":\"auto\",\"type\":\"bar\",\"x\":[-0.06076128445491942],\"xaxis\":\"x\",\"y\":[\"length_of_stay\"],\"yaxis\":\"y\"},{\"alignmentgroup\":\"True\",\"hovertemplate\":\"feature_names=%{y}<br>WDL=%{x}<extra></extra>\",\"legendgroup\":\"c_charge_degree_F\",\"marker\":{\"color\":\"#FFA15A\",\"pattern\":{\"shape\":\"\"}},\"name\":\"c_charge_degree_F\",\"offsetgroup\":\"c_charge_degree_F\",\"orientation\":\"h\",\"showlegend\":true,\"textposition\":\"auto\",\"type\":\"bar\",\"x\":[0.04501191699558372],\"xaxis\":\"x\",\"y\":[\"c_charge_degree_F\"],\"yaxis\":\"y\"},{\"alignmentgroup\":\"True\",\"hovertemplate\":\"feature_names=%{y}<br>WDL=%{x}<extra></extra>\",\"legendgroup\":\"c_charge_degree_M\",\"marker\":{\"color\":\"#19d3f3\",\"pattern\":{\"shape\":\"\"}},\"name\":\"c_charge_degree_M\",\"offsetgroup\":\"c_charge_degree_M\",\"orientation\":\"h\",\"showlegend\":true,\"textposition\":\"auto\",\"type\":\"bar\",\"x\":[0.06742455875842614],\"xaxis\":\"x\",\"y\":[\"c_charge_degree_M\"],\"yaxis\":\"y\"},{\"alignmentgroup\":\"True\",\"hovertemplate\":\"feature_names=%{y}<br>WDL=%{x}<extra></extra>\",\"legendgroup\":\"sex_Female\",\"marker\":{\"color\":\"#FF6692\",\"pattern\":{\"shape\":\"\"}},\"name\":\"sex_Female\",\"offsetgroup\":\"sex_Female\",\"orientation\":\"h\",\"showlegend\":true,\"textposition\":\"auto\",\"type\":\"bar\",\"x\":[0.07217036209771034],\"xaxis\":\"x\",\"y\":[\"sex_Female\"],\"yaxis\":\"y\"},{\"alignmentgroup\":\"True\",\"hovertemplate\":\"feature_names=%{y}<br>WDL=%{x}<extra></extra>\",\"legendgroup\":\"sex_Male\",\"marker\":{\"color\":\"#B6E880\",\"pattern\":{\"shape\":\"\"}},\"name\":\"sex_Male\",\"offsetgroup\":\"sex_Male\",\"orientation\":\"h\",\"showlegend\":true,\"textposition\":\"auto\",\"type\":\"bar\",\"x\":[-0.10058958656816737],\"xaxis\":\"x\",\"y\":[\"sex_Male\"],\"yaxis\":\"y\"},{\"alignmentgroup\":\"True\",\"hovertemplate\":\"feature_names=%{y}<br>WDL=%{x}<extra></extra>\",\"legendgroup\":\"race\",\"marker\":{\"color\":\"#FF97FF\",\"pattern\":{\"shape\":\"\"}},\"name\":\"race\",\"offsetgroup\":\"race\",\"orientation\":\"h\",\"showlegend\":true,\"textposition\":\"auto\",\"type\":\"bar\",\"x\":[-0.09019348020954009],\"xaxis\":\"x\",\"y\":[\"race\"],\"yaxis\":\"y\"},{\"alignmentgroup\":\"True\",\"hovertemplate\":\"feature_names=%{y}<br>WDL=%{x}<extra></extra>\",\"legendgroup\":\"unrelated_column\",\"marker\":{\"color\":\"#FECB52\",\"pattern\":{\"shape\":\"\"}},\"name\":\"unrelated_column\",\"offsetgroup\":\"unrelated_column\",\"orientation\":\"h\",\"showlegend\":true,\"textposition\":\"auto\",\"type\":\"bar\",\"x\":[-0.36200369784670944],\"xaxis\":\"x\",\"y\":[\"unrelated_column\"],\"yaxis\":\"y\"}],                        {\"barmode\":\"relative\",\"legend\":{\"title\":{\"text\":\"feature_names\"},\"tracegroupgap\":0},\"margin\":{\"t\":60},\"template\":{\"data\":{\"bar\":[{\"error_x\":{\"color\":\"#2a3f5f\"},\"error_y\":{\"color\":\"#2a3f5f\"},\"marker\":{\"line\":{\"color\":\"#E5ECF6\",\"width\":0.5},\"pattern\":{\"fillmode\":\"overlay\",\"size\":10,\"solidity\":0.2}},\"type\":\"bar\"}],\"barpolar\":[{\"marker\":{\"line\":{\"color\":\"#E5ECF6\",\"width\":0.5},\"pattern\":{\"fillmode\":\"overlay\",\"size\":10,\"solidity\":0.2}},\"type\":\"barpolar\"}],\"carpet\":[{\"aaxis\":{\"endlinecolor\":\"#2a3f5f\",\"gridcolor\":\"white\",\"linecolor\":\"white\",\"minorgridcolor\":\"white\",\"startlinecolor\":\"#2a3f5f\"},\"baxis\":{\"endlinecolor\":\"#2a3f5f\",\"gridcolor\":\"white\",\"linecolor\":\"white\",\"minorgridcolor\":\"white\",\"startlinecolor\":\"#2a3f5f\"},\"type\":\"carpet\"}],\"choropleth\":[{\"colorbar\":{\"outlinewidth\":0,\"ticks\":\"\"},\"type\":\"choropleth\"}],\"contour\":[{\"colorbar\":{\"outlinewidth\":0,\"ticks\":\"\"},\"colorscale\":[[0.0,\"#0d0887\"],[0.1111111111111111,\"#46039f\"],[0.2222222222222222,\"#7201a8\"],[0.3333333333333333,\"#9c179e\"],[0.4444444444444444,\"#bd3786\"],[0.5555555555555556,\"#d8576b\"],[0.6666666666666666,\"#ed7953\"],[0.7777777777777778,\"#fb9f3a\"],[0.8888888888888888,\"#fdca26\"],[1.0,\"#f0f921\"]],\"type\":\"contour\"}],\"contourcarpet\":[{\"colorbar\":{\"outlinewidth\":0,\"ticks\":\"\"},\"type\":\"contourcarpet\"}],\"heatmap\":[{\"colorbar\":{\"outlinewidth\":0,\"ticks\":\"\"},\"colorscale\":[[0.0,\"#0d0887\"],[0.1111111111111111,\"#46039f\"],[0.2222222222222222,\"#7201a8\"],[0.3333333333333333,\"#9c179e\"],[0.4444444444444444,\"#bd3786\"],[0.5555555555555556,\"#d8576b\"],[0.6666666666666666,\"#ed7953\"],[0.7777777777777778,\"#fb9f3a\"],[0.8888888888888888,\"#fdca26\"],[1.0,\"#f0f921\"]],\"type\":\"heatmap\"}],\"heatmapgl\":[{\"colorbar\":{\"outlinewidth\":0,\"ticks\":\"\"},\"colorscale\":[[0.0,\"#0d0887\"],[0.1111111111111111,\"#46039f\"],[0.2222222222222222,\"#7201a8\"],[0.3333333333333333,\"#9c179e\"],[0.4444444444444444,\"#bd3786\"],[0.5555555555555556,\"#d8576b\"],[0.6666666666666666,\"#ed7953\"],[0.7777777777777778,\"#fb9f3a\"],[0.8888888888888888,\"#fdca26\"],[1.0,\"#f0f921\"]],\"type\":\"heatmapgl\"}],\"histogram\":[{\"marker\":{\"pattern\":{\"fillmode\":\"overlay\",\"size\":10,\"solidity\":0.2}},\"type\":\"histogram\"}],\"histogram2d\":[{\"colorbar\":{\"outlinewidth\":0,\"ticks\":\"\"},\"colorscale\":[[0.0,\"#0d0887\"],[0.1111111111111111,\"#46039f\"],[0.2222222222222222,\"#7201a8\"],[0.3333333333333333,\"#9c179e\"],[0.4444444444444444,\"#bd3786\"],[0.5555555555555556,\"#d8576b\"],[0.6666666666666666,\"#ed7953\"],[0.7777777777777778,\"#fb9f3a\"],[0.8888888888888888,\"#fdca26\"],[1.0,\"#f0f921\"]],\"type\":\"histogram2d\"}],\"histogram2dcontour\":[{\"colorbar\":{\"outlinewidth\":0,\"ticks\":\"\"},\"colorscale\":[[0.0,\"#0d0887\"],[0.1111111111111111,\"#46039f\"],[0.2222222222222222,\"#7201a8\"],[0.3333333333333333,\"#9c179e\"],[0.4444444444444444,\"#bd3786\"],[0.5555555555555556,\"#d8576b\"],[0.6666666666666666,\"#ed7953\"],[0.7777777777777778,\"#fb9f3a\"],[0.8888888888888888,\"#fdca26\"],[1.0,\"#f0f921\"]],\"type\":\"histogram2dcontour\"}],\"mesh3d\":[{\"colorbar\":{\"outlinewidth\":0,\"ticks\":\"\"},\"type\":\"mesh3d\"}],\"parcoords\":[{\"line\":{\"colorbar\":{\"outlinewidth\":0,\"ticks\":\"\"}},\"type\":\"parcoords\"}],\"pie\":[{\"automargin\":true,\"type\":\"pie\"}],\"scatter\":[{\"marker\":{\"colorbar\":{\"outlinewidth\":0,\"ticks\":\"\"}},\"type\":\"scatter\"}],\"scatter3d\":[{\"line\":{\"colorbar\":{\"outlinewidth\":0,\"ticks\":\"\"}},\"marker\":{\"colorbar\":{\"outlinewidth\":0,\"ticks\":\"\"}},\"type\":\"scatter3d\"}],\"scattercarpet\":[{\"marker\":{\"colorbar\":{\"outlinewidth\":0,\"ticks\":\"\"}},\"type\":\"scattercarpet\"}],\"scattergeo\":[{\"marker\":{\"colorbar\":{\"outlinewidth\":0,\"ticks\":\"\"}},\"type\":\"scattergeo\"}],\"scattergl\":[{\"marker\":{\"colorbar\":{\"outlinewidth\":0,\"ticks\":\"\"}},\"type\":\"scattergl\"}],\"scattermapbox\":[{\"marker\":{\"colorbar\":{\"outlinewidth\":0,\"ticks\":\"\"}},\"type\":\"scattermapbox\"}],\"scatterpolar\":[{\"marker\":{\"colorbar\":{\"outlinewidth\":0,\"ticks\":\"\"}},\"type\":\"scatterpolar\"}],\"scatterpolargl\":[{\"marker\":{\"colorbar\":{\"outlinewidth\":0,\"ticks\":\"\"}},\"type\":\"scatterpolargl\"}],\"scatterternary\":[{\"marker\":{\"colorbar\":{\"outlinewidth\":0,\"ticks\":\"\"}},\"type\":\"scatterternary\"}],\"surface\":[{\"colorbar\":{\"outlinewidth\":0,\"ticks\":\"\"},\"colorscale\":[[0.0,\"#0d0887\"],[0.1111111111111111,\"#46039f\"],[0.2222222222222222,\"#7201a8\"],[0.3333333333333333,\"#9c179e\"],[0.4444444444444444,\"#bd3786\"],[0.5555555555555556,\"#d8576b\"],[0.6666666666666666,\"#ed7953\"],[0.7777777777777778,\"#fb9f3a\"],[0.8888888888888888,\"#fdca26\"],[1.0,\"#f0f921\"]],\"type\":\"surface\"}],\"table\":[{\"cells\":{\"fill\":{\"color\":\"#EBF0F8\"},\"line\":{\"color\":\"white\"}},\"header\":{\"fill\":{\"color\":\"#C8D4E3\"},\"line\":{\"color\":\"white\"}},\"type\":\"table\"}]},\"layout\":{\"annotationdefaults\":{\"arrowcolor\":\"#2a3f5f\",\"arrowhead\":0,\"arrowwidth\":1},\"autotypenumbers\":\"strict\",\"coloraxis\":{\"colorbar\":{\"outlinewidth\":0,\"ticks\":\"\"}},\"colorscale\":{\"diverging\":[[0,\"#8e0152\"],[0.1,\"#c51b7d\"],[0.2,\"#de77ae\"],[0.3,\"#f1b6da\"],[0.4,\"#fde0ef\"],[0.5,\"#f7f7f7\"],[0.6,\"#e6f5d0\"],[0.7,\"#b8e186\"],[0.8,\"#7fbc41\"],[0.9,\"#4d9221\"],[1,\"#276419\"]],\"sequential\":[[0.0,\"#0d0887\"],[0.1111111111111111,\"#46039f\"],[0.2222222222222222,\"#7201a8\"],[0.3333333333333333,\"#9c179e\"],[0.4444444444444444,\"#bd3786\"],[0.5555555555555556,\"#d8576b\"],[0.6666666666666666,\"#ed7953\"],[0.7777777777777778,\"#fb9f3a\"],[0.8888888888888888,\"#fdca26\"],[1.0,\"#f0f921\"]],\"sequentialminus\":[[0.0,\"#0d0887\"],[0.1111111111111111,\"#46039f\"],[0.2222222222222222,\"#7201a8\"],[0.3333333333333333,\"#9c179e\"],[0.4444444444444444,\"#bd3786\"],[0.5555555555555556,\"#d8576b\"],[0.6666666666666666,\"#ed7953\"],[0.7777777777777778,\"#fb9f3a\"],[0.8888888888888888,\"#fdca26\"],[1.0,\"#f0f921\"]]},\"colorway\":[\"#636efa\",\"#EF553B\",\"#00cc96\",\"#ab63fa\",\"#FFA15A\",\"#19d3f3\",\"#FF6692\",\"#B6E880\",\"#FF97FF\",\"#FECB52\"],\"font\":{\"color\":\"#2a3f5f\"},\"geo\":{\"bgcolor\":\"white\",\"lakecolor\":\"white\",\"landcolor\":\"#E5ECF6\",\"showlakes\":true,\"showland\":true,\"subunitcolor\":\"white\"},\"hoverlabel\":{\"align\":\"left\"},\"hovermode\":\"closest\",\"mapbox\":{\"style\":\"light\"},\"paper_bgcolor\":\"white\",\"plot_bgcolor\":\"#E5ECF6\",\"polar\":{\"angularaxis\":{\"gridcolor\":\"white\",\"linecolor\":\"white\",\"ticks\":\"\"},\"bgcolor\":\"#E5ECF6\",\"radialaxis\":{\"gridcolor\":\"white\",\"linecolor\":\"white\",\"ticks\":\"\"}},\"scene\":{\"xaxis\":{\"backgroundcolor\":\"#E5ECF6\",\"gridcolor\":\"white\",\"gridwidth\":2,\"linecolor\":\"white\",\"showbackground\":true,\"ticks\":\"\",\"zerolinecolor\":\"white\"},\"yaxis\":{\"backgroundcolor\":\"#E5ECF6\",\"gridcolor\":\"white\",\"gridwidth\":2,\"linecolor\":\"white\",\"showbackground\":true,\"ticks\":\"\",\"zerolinecolor\":\"white\"},\"zaxis\":{\"backgroundcolor\":\"#E5ECF6\",\"gridcolor\":\"white\",\"gridwidth\":2,\"linecolor\":\"white\",\"showbackground\":true,\"ticks\":\"\",\"zerolinecolor\":\"white\"}},\"shapedefaults\":{\"line\":{\"color\":\"#2a3f5f\"}},\"ternary\":{\"aaxis\":{\"gridcolor\":\"white\",\"linecolor\":\"white\",\"ticks\":\"\"},\"baxis\":{\"gridcolor\":\"white\",\"linecolor\":\"white\",\"ticks\":\"\"},\"bgcolor\":\"#E5ECF6\",\"caxis\":{\"gridcolor\":\"white\",\"linecolor\":\"white\",\"ticks\":\"\"}},\"title\":{\"x\":0.05},\"xaxis\":{\"automargin\":true,\"gridcolor\":\"white\",\"linecolor\":\"white\",\"ticks\":\"\",\"title\":{\"standoff\":15},\"zerolinecolor\":\"white\",\"zerolinewidth\":2},\"yaxis\":{\"automargin\":true,\"gridcolor\":\"white\",\"linecolor\":\"white\",\"ticks\":\"\",\"title\":{\"standoff\":15},\"zerolinecolor\":\"white\",\"zerolinewidth\":2}}},\"xaxis\":{\"anchor\":\"y\",\"domain\":[0.0,1.0],\"title\":{\"text\":\"WDL\"}},\"yaxis\":{\"anchor\":\"x\",\"categoryarray\":[\"unrelated_column\",\"race\",\"sex_Male\",\"sex_Female\",\"c_charge_degree_M\",\"c_charge_degree_F\",\"length_of_stay\",\"priors_count\",\"two_year_recid\",\"age\"],\"categoryorder\":\"array\",\"domain\":[0.0,1.0],\"title\":{\"text\":\"feature_names\"}}},                        {\"responsive\": true}                    ).then(function(){\n",
       "                            \n",
       "var gd = document.getElementById('f08e8e57-6077-4d82-b47b-3d256d0a0648');\n",
       "var x = new MutationObserver(function (mutations, observer) {{\n",
       "        var display = window.getComputedStyle(gd).display;\n",
       "        if (!display || display === 'none') {{\n",
       "            console.log([gd, 'removed!']);\n",
       "            Plotly.purge(gd);\n",
       "            observer.disconnect();\n",
       "        }}\n",
       "}});\n",
       "\n",
       "// Listen for the removal of the full notebook cells\n",
       "var notebookContainer = gd.closest('#notebook-container');\n",
       "if (notebookContainer) {{\n",
       "    x.observe(notebookContainer, {childList: true});\n",
       "}}\n",
       "\n",
       "// Listen for the clearing of the current output cell\n",
       "var outputEl = gd.closest('.output');\n",
       "if (outputEl) {{\n",
       "    x.observe(outputEl, {childList: true});\n",
       "}}\n",
       "\n",
       "                        })                };                });            </script>        </div>"
      ]
     },
     "metadata": {},
     "output_type": "display_data"
    }
   ],
   "source": [
    "X_lime, y_lime2, weights2, y_linmodel2, WLIME_Coef2 = WasserstainLIME2(xtest[to_examine:to_examine+1].flatten(), \n",
    "                                                                      num_perturb = 500, \n",
    "                                                                      kernel_width2 = 0.75, \n",
    "                                                                      model = adv_shap, \n",
    "                                                                      epsilon = 0.3)\n",
    "#print(WLIME_Coef)\n",
    "\n",
    "df3 = pd.DataFrame()\n",
    "temp0 = np.zeros((2,2))\n",
    "\n",
    "df3['WDL'] = WLIME_Coef2 \n",
    "df3['feature_names'] = features\n",
    "\n",
    "import plotly.express as px\n",
    "fig = px.bar(df3, x='WDL', y='feature_names', orientation='h', color='feature_names')\n",
    "fig.show()"
   ]
  },
  {
   "cell_type": "code",
   "execution_count": 15,
   "id": "64377f2c",
   "metadata": {
    "execution": {
     "iopub.execute_input": "2021-09-05T15:29:44.389022Z",
     "iopub.status.busy": "2021-09-05T15:29:44.387828Z",
     "iopub.status.idle": "2021-09-05T15:29:44.392933Z",
     "shell.execute_reply": "2021-09-05T15:29:44.392397Z",
     "shell.execute_reply.started": "2021-09-01T15:07:49.342629Z"
    },
    "papermill": {
     "duration": 0.039461,
     "end_time": "2021-09-05T15:29:44.393112",
     "exception": false,
     "start_time": "2021-09-05T15:29:44.353651",
     "status": "completed"
    },
    "tags": []
   },
   "outputs": [
    {
     "data": {
      "text/plain": [
       "array([-0.21873746,  0.02125266,  0.0015837 , -0.18383946, -0.09685009,\n",
       "       -0.09685009, -0.02246654, -0.02035048, -0.21228539,  0.28933381])"
      ]
     },
     "execution_count": 15,
     "metadata": {},
     "output_type": "execute_result"
    }
   ],
   "source": [
    "adv_shap_values[0]"
   ]
  },
  {
   "cell_type": "code",
   "execution_count": 16,
   "id": "dae9180d",
   "metadata": {
    "execution": {
     "iopub.execute_input": "2021-09-05T15:29:44.456624Z",
     "iopub.status.busy": "2021-09-05T15:29:44.455568Z",
     "iopub.status.idle": "2021-09-05T15:29:44.458344Z",
     "shell.execute_reply": "2021-09-05T15:29:44.457707Z",
     "shell.execute_reply.started": "2021-09-01T15:07:49.354459Z"
    },
    "papermill": {
     "duration": 0.036477,
     "end_time": "2021-09-05T15:29:44.458517",
     "exception": false,
     "start_time": "2021-09-05T15:29:44.422040",
     "status": "completed"
    },
    "tags": []
   },
   "outputs": [],
   "source": [
    "lime_features = ['priors_count', 'c_charge_degree_F','two_year_recid','sex_Male','length_of_stay','age','c_charge_degree_M','unrelated_column','sex_Female','race']"
   ]
  },
  {
   "cell_type": "code",
   "execution_count": 17,
   "id": "c6471347",
   "metadata": {
    "execution": {
     "iopub.execute_input": "2021-09-05T15:29:44.525186Z",
     "iopub.status.busy": "2021-09-05T15:29:44.524468Z",
     "iopub.status.idle": "2021-09-05T15:29:44.528787Z",
     "shell.execute_reply": "2021-09-05T15:29:44.529273Z",
     "shell.execute_reply.started": "2021-09-01T15:07:49.366706Z"
    },
    "papermill": {
     "duration": 0.040518,
     "end_time": "2021-09-05T15:29:44.529487",
     "exception": false,
     "start_time": "2021-09-05T15:29:44.488969",
     "status": "completed"
    },
    "tags": []
   },
   "outputs": [
    {
     "data": {
      "text/plain": [
       "[2.758851410141496e-07,\n",
       " 4.896484804686421e-06,\n",
       " -8.072093428418658e-06,\n",
       " -9.045761477659396e-06,\n",
       " -9.645811751882923e-06,\n",
       " -1.0977768582945641e-05,\n",
       " -1.300641330657808e-05,\n",
       " -1.7913202734343337e-05,\n",
       " 2.0027981228433426e-05,\n",
       " -0.9986343456272184]"
      ]
     },
     "execution_count": 17,
     "metadata": {},
     "output_type": "execute_result"
    }
   ],
   "source": [
    "normal_exp\n",
    "exp4 = []\n",
    "for ii, jj in normal_exp:\n",
    "    exp4.append(jj)\n",
    "exp_racist = exp4[::-1]\n",
    "exp_racist"
   ]
  },
  {
   "cell_type": "code",
   "execution_count": 18,
   "id": "72d7a8f8",
   "metadata": {
    "execution": {
     "iopub.execute_input": "2021-09-05T15:29:44.598295Z",
     "iopub.status.busy": "2021-09-05T15:29:44.597376Z",
     "iopub.status.idle": "2021-09-05T15:29:44.673648Z",
     "shell.execute_reply": "2021-09-05T15:29:44.673064Z",
     "shell.execute_reply.started": "2021-09-01T15:07:49.382422Z"
    },
    "papermill": {
     "duration": 0.114775,
     "end_time": "2021-09-05T15:29:44.673828",
     "exception": false,
     "start_time": "2021-09-05T15:29:44.559053",
     "status": "completed"
    },
    "tags": []
   },
   "outputs": [
    {
     "data": {
      "text/html": [
       "<div>                            <div id=\"b87fe6d9-dcd4-4a06-9c7b-78aeedb897ad\" class=\"plotly-graph-div\" style=\"height:600px; width:1500px;\"></div>            <script type=\"text/javascript\">                require([\"plotly\"], function(Plotly) {                    window.PLOTLYENV=window.PLOTLYENV || {};                                    if (document.getElementById(\"b87fe6d9-dcd4-4a06-9c7b-78aeedb897ad\")) {                    Plotly.newPlot(                        \"b87fe6d9-dcd4-4a06-9c7b-78aeedb897ad\",                        [{\"marker\":{\"color\":[8,6,0,3,9,4,7,1,2,5],\"coloraxis\":\"coloraxis\"},\"orientation\":\"h\",\"type\":\"bar\",\"x\":[-0.018081189131704305,0.06745540827314905,0.0867109375969369,-0.0035841212305207097,0.030192144543018506,0.15095671897241195,-0.03843299719762636,0.06300927709616953,-0.40556314911260666,-0.002248823549479403],\"xaxis\":\"x\",\"y\":[\"age\",\"two_year_recid\",\"priors_count\",\"length_of_stay\",\"c_charge_degree_F\",\"c_charge_degree_M\",\"sex_Female\",\"sex_Male\",\"race\",\"unrelated_column\"],\"yaxis\":\"y\"},{\"marker\":{\"color\":[8,0,1,2,3,4,5,6,7,9],\"coloraxis\":\"coloraxis\"},\"orientation\":\"h\",\"type\":\"bar\",\"x\":[0.0,0.0,0.0,0.0,0.0,0.0,0.0,0.0,-0.581551090948367,0.0],\"xaxis\":\"x2\",\"y\":[\"age\",\"two_year_recid\",\"priors_count\",\"length_of_stay\",\"c_charge_degree_F\",\"c_charge_degree_M\",\"sex_Female\",\"sex_Male\",\"race\",\"unrelated_column\"],\"yaxis\":\"y2\"},{\"marker\":{\"color\":[9,7,6,5,4,3,2,0,1,8],\"coloraxis\":\"coloraxis\"},\"orientation\":\"h\",\"type\":\"bar\",\"x\":[2.758851410141496e-07,4.896484804686421e-06,-8.072093428418658e-06,-9.045761477659396e-06,-9.645811751882923e-06,-1.0977768582945641e-05,-1.300641330657808e-05,-1.7913202734343337e-05,2.0027981228433426e-05,-0.9986343456272184],\"xaxis\":\"x3\",\"y\":[\"priors_count\",\"c_charge_degree_F\",\"two_year_recid\",\"sex_Male\",\"length_of_stay\",\"age\",\"c_charge_degree_M\",\"unrelated_column\",\"sex_Female\",\"race\"],\"yaxis\":\"y3\"}],                        {\"annotations\":[{\"font\":{\"size\":16},\"showarrow\":false,\"text\":\"SMILE\",\"x\":0.13333333333333333,\"xanchor\":\"center\",\"xref\":\"paper\",\"y\":1.0,\"yanchor\":\"bottom\",\"yref\":\"paper\"},{\"font\":{\"size\":16},\"showarrow\":false,\"text\":\"SHAP\",\"x\":0.5,\"xanchor\":\"center\",\"xref\":\"paper\",\"y\":1.0,\"yanchor\":\"bottom\",\"yref\":\"paper\"},{\"font\":{\"size\":16},\"showarrow\":false,\"text\":\"LIME\",\"x\":0.8666666666666667,\"xanchor\":\"center\",\"xref\":\"paper\",\"y\":1.0,\"yanchor\":\"bottom\",\"yref\":\"paper\"}],\"coloraxis\":{\"colorscale\":[[0.0,\"rgb(255,0,0)\"],[1.0,\"rgb(0,0,255)\"]]},\"height\":600,\"showlegend\":false,\"template\":{\"data\":{\"bar\":[{\"error_x\":{\"color\":\"#2a3f5f\"},\"error_y\":{\"color\":\"#2a3f5f\"},\"marker\":{\"line\":{\"color\":\"#E5ECF6\",\"width\":0.5},\"pattern\":{\"fillmode\":\"overlay\",\"size\":10,\"solidity\":0.2}},\"type\":\"bar\"}],\"barpolar\":[{\"marker\":{\"line\":{\"color\":\"#E5ECF6\",\"width\":0.5},\"pattern\":{\"fillmode\":\"overlay\",\"size\":10,\"solidity\":0.2}},\"type\":\"barpolar\"}],\"carpet\":[{\"aaxis\":{\"endlinecolor\":\"#2a3f5f\",\"gridcolor\":\"white\",\"linecolor\":\"white\",\"minorgridcolor\":\"white\",\"startlinecolor\":\"#2a3f5f\"},\"baxis\":{\"endlinecolor\":\"#2a3f5f\",\"gridcolor\":\"white\",\"linecolor\":\"white\",\"minorgridcolor\":\"white\",\"startlinecolor\":\"#2a3f5f\"},\"type\":\"carpet\"}],\"choropleth\":[{\"colorbar\":{\"outlinewidth\":0,\"ticks\":\"\"},\"type\":\"choropleth\"}],\"contour\":[{\"colorbar\":{\"outlinewidth\":0,\"ticks\":\"\"},\"colorscale\":[[0.0,\"#0d0887\"],[0.1111111111111111,\"#46039f\"],[0.2222222222222222,\"#7201a8\"],[0.3333333333333333,\"#9c179e\"],[0.4444444444444444,\"#bd3786\"],[0.5555555555555556,\"#d8576b\"],[0.6666666666666666,\"#ed7953\"],[0.7777777777777778,\"#fb9f3a\"],[0.8888888888888888,\"#fdca26\"],[1.0,\"#f0f921\"]],\"type\":\"contour\"}],\"contourcarpet\":[{\"colorbar\":{\"outlinewidth\":0,\"ticks\":\"\"},\"type\":\"contourcarpet\"}],\"heatmap\":[{\"colorbar\":{\"outlinewidth\":0,\"ticks\":\"\"},\"colorscale\":[[0.0,\"#0d0887\"],[0.1111111111111111,\"#46039f\"],[0.2222222222222222,\"#7201a8\"],[0.3333333333333333,\"#9c179e\"],[0.4444444444444444,\"#bd3786\"],[0.5555555555555556,\"#d8576b\"],[0.6666666666666666,\"#ed7953\"],[0.7777777777777778,\"#fb9f3a\"],[0.8888888888888888,\"#fdca26\"],[1.0,\"#f0f921\"]],\"type\":\"heatmap\"}],\"heatmapgl\":[{\"colorbar\":{\"outlinewidth\":0,\"ticks\":\"\"},\"colorscale\":[[0.0,\"#0d0887\"],[0.1111111111111111,\"#46039f\"],[0.2222222222222222,\"#7201a8\"],[0.3333333333333333,\"#9c179e\"],[0.4444444444444444,\"#bd3786\"],[0.5555555555555556,\"#d8576b\"],[0.6666666666666666,\"#ed7953\"],[0.7777777777777778,\"#fb9f3a\"],[0.8888888888888888,\"#fdca26\"],[1.0,\"#f0f921\"]],\"type\":\"heatmapgl\"}],\"histogram\":[{\"marker\":{\"pattern\":{\"fillmode\":\"overlay\",\"size\":10,\"solidity\":0.2}},\"type\":\"histogram\"}],\"histogram2d\":[{\"colorbar\":{\"outlinewidth\":0,\"ticks\":\"\"},\"colorscale\":[[0.0,\"#0d0887\"],[0.1111111111111111,\"#46039f\"],[0.2222222222222222,\"#7201a8\"],[0.3333333333333333,\"#9c179e\"],[0.4444444444444444,\"#bd3786\"],[0.5555555555555556,\"#d8576b\"],[0.6666666666666666,\"#ed7953\"],[0.7777777777777778,\"#fb9f3a\"],[0.8888888888888888,\"#fdca26\"],[1.0,\"#f0f921\"]],\"type\":\"histogram2d\"}],\"histogram2dcontour\":[{\"colorbar\":{\"outlinewidth\":0,\"ticks\":\"\"},\"colorscale\":[[0.0,\"#0d0887\"],[0.1111111111111111,\"#46039f\"],[0.2222222222222222,\"#7201a8\"],[0.3333333333333333,\"#9c179e\"],[0.4444444444444444,\"#bd3786\"],[0.5555555555555556,\"#d8576b\"],[0.6666666666666666,\"#ed7953\"],[0.7777777777777778,\"#fb9f3a\"],[0.8888888888888888,\"#fdca26\"],[1.0,\"#f0f921\"]],\"type\":\"histogram2dcontour\"}],\"mesh3d\":[{\"colorbar\":{\"outlinewidth\":0,\"ticks\":\"\"},\"type\":\"mesh3d\"}],\"parcoords\":[{\"line\":{\"colorbar\":{\"outlinewidth\":0,\"ticks\":\"\"}},\"type\":\"parcoords\"}],\"pie\":[{\"automargin\":true,\"type\":\"pie\"}],\"scatter\":[{\"marker\":{\"colorbar\":{\"outlinewidth\":0,\"ticks\":\"\"}},\"type\":\"scatter\"}],\"scatter3d\":[{\"line\":{\"colorbar\":{\"outlinewidth\":0,\"ticks\":\"\"}},\"marker\":{\"colorbar\":{\"outlinewidth\":0,\"ticks\":\"\"}},\"type\":\"scatter3d\"}],\"scattercarpet\":[{\"marker\":{\"colorbar\":{\"outlinewidth\":0,\"ticks\":\"\"}},\"type\":\"scattercarpet\"}],\"scattergeo\":[{\"marker\":{\"colorbar\":{\"outlinewidth\":0,\"ticks\":\"\"}},\"type\":\"scattergeo\"}],\"scattergl\":[{\"marker\":{\"colorbar\":{\"outlinewidth\":0,\"ticks\":\"\"}},\"type\":\"scattergl\"}],\"scattermapbox\":[{\"marker\":{\"colorbar\":{\"outlinewidth\":0,\"ticks\":\"\"}},\"type\":\"scattermapbox\"}],\"scatterpolar\":[{\"marker\":{\"colorbar\":{\"outlinewidth\":0,\"ticks\":\"\"}},\"type\":\"scatterpolar\"}],\"scatterpolargl\":[{\"marker\":{\"colorbar\":{\"outlinewidth\":0,\"ticks\":\"\"}},\"type\":\"scatterpolargl\"}],\"scatterternary\":[{\"marker\":{\"colorbar\":{\"outlinewidth\":0,\"ticks\":\"\"}},\"type\":\"scatterternary\"}],\"surface\":[{\"colorbar\":{\"outlinewidth\":0,\"ticks\":\"\"},\"colorscale\":[[0.0,\"#0d0887\"],[0.1111111111111111,\"#46039f\"],[0.2222222222222222,\"#7201a8\"],[0.3333333333333333,\"#9c179e\"],[0.4444444444444444,\"#bd3786\"],[0.5555555555555556,\"#d8576b\"],[0.6666666666666666,\"#ed7953\"],[0.7777777777777778,\"#fb9f3a\"],[0.8888888888888888,\"#fdca26\"],[1.0,\"#f0f921\"]],\"type\":\"surface\"}],\"table\":[{\"cells\":{\"fill\":{\"color\":\"#EBF0F8\"},\"line\":{\"color\":\"white\"}},\"header\":{\"fill\":{\"color\":\"#C8D4E3\"},\"line\":{\"color\":\"white\"}},\"type\":\"table\"}]},\"layout\":{\"annotationdefaults\":{\"arrowcolor\":\"#2a3f5f\",\"arrowhead\":0,\"arrowwidth\":1},\"autotypenumbers\":\"strict\",\"coloraxis\":{\"colorbar\":{\"outlinewidth\":0,\"ticks\":\"\"}},\"colorscale\":{\"diverging\":[[0,\"#8e0152\"],[0.1,\"#c51b7d\"],[0.2,\"#de77ae\"],[0.3,\"#f1b6da\"],[0.4,\"#fde0ef\"],[0.5,\"#f7f7f7\"],[0.6,\"#e6f5d0\"],[0.7,\"#b8e186\"],[0.8,\"#7fbc41\"],[0.9,\"#4d9221\"],[1,\"#276419\"]],\"sequential\":[[0.0,\"#0d0887\"],[0.1111111111111111,\"#46039f\"],[0.2222222222222222,\"#7201a8\"],[0.3333333333333333,\"#9c179e\"],[0.4444444444444444,\"#bd3786\"],[0.5555555555555556,\"#d8576b\"],[0.6666666666666666,\"#ed7953\"],[0.7777777777777778,\"#fb9f3a\"],[0.8888888888888888,\"#fdca26\"],[1.0,\"#f0f921\"]],\"sequentialminus\":[[0.0,\"#0d0887\"],[0.1111111111111111,\"#46039f\"],[0.2222222222222222,\"#7201a8\"],[0.3333333333333333,\"#9c179e\"],[0.4444444444444444,\"#bd3786\"],[0.5555555555555556,\"#d8576b\"],[0.6666666666666666,\"#ed7953\"],[0.7777777777777778,\"#fb9f3a\"],[0.8888888888888888,\"#fdca26\"],[1.0,\"#f0f921\"]]},\"colorway\":[\"#636efa\",\"#EF553B\",\"#00cc96\",\"#ab63fa\",\"#FFA15A\",\"#19d3f3\",\"#FF6692\",\"#B6E880\",\"#FF97FF\",\"#FECB52\"],\"font\":{\"color\":\"#2a3f5f\"},\"geo\":{\"bgcolor\":\"white\",\"lakecolor\":\"white\",\"landcolor\":\"#E5ECF6\",\"showlakes\":true,\"showland\":true,\"subunitcolor\":\"white\"},\"hoverlabel\":{\"align\":\"left\"},\"hovermode\":\"closest\",\"mapbox\":{\"style\":\"light\"},\"paper_bgcolor\":\"white\",\"plot_bgcolor\":\"#E5ECF6\",\"polar\":{\"angularaxis\":{\"gridcolor\":\"white\",\"linecolor\":\"white\",\"ticks\":\"\"},\"bgcolor\":\"#E5ECF6\",\"radialaxis\":{\"gridcolor\":\"white\",\"linecolor\":\"white\",\"ticks\":\"\"}},\"scene\":{\"xaxis\":{\"backgroundcolor\":\"#E5ECF6\",\"gridcolor\":\"white\",\"gridwidth\":2,\"linecolor\":\"white\",\"showbackground\":true,\"ticks\":\"\",\"zerolinecolor\":\"white\"},\"yaxis\":{\"backgroundcolor\":\"#E5ECF6\",\"gridcolor\":\"white\",\"gridwidth\":2,\"linecolor\":\"white\",\"showbackground\":true,\"ticks\":\"\",\"zerolinecolor\":\"white\"},\"zaxis\":{\"backgroundcolor\":\"#E5ECF6\",\"gridcolor\":\"white\",\"gridwidth\":2,\"linecolor\":\"white\",\"showbackground\":true,\"ticks\":\"\",\"zerolinecolor\":\"white\"}},\"shapedefaults\":{\"line\":{\"color\":\"#2a3f5f\"}},\"ternary\":{\"aaxis\":{\"gridcolor\":\"white\",\"linecolor\":\"white\",\"ticks\":\"\"},\"baxis\":{\"gridcolor\":\"white\",\"linecolor\":\"white\",\"ticks\":\"\"},\"bgcolor\":\"#E5ECF6\",\"caxis\":{\"gridcolor\":\"white\",\"linecolor\":\"white\",\"ticks\":\"\"}},\"title\":{\"x\":0.05},\"xaxis\":{\"automargin\":true,\"gridcolor\":\"white\",\"linecolor\":\"white\",\"ticks\":\"\",\"title\":{\"standoff\":15},\"zerolinecolor\":\"white\",\"zerolinewidth\":2},\"yaxis\":{\"automargin\":true,\"gridcolor\":\"white\",\"linecolor\":\"white\",\"ticks\":\"\",\"title\":{\"standoff\":15},\"zerolinecolor\":\"white\",\"zerolinewidth\":2}}},\"title\":{\"text\":\"Comparing SHAP, LIME and SMILE against Adversarial Attack - Racist Model\"},\"width\":1500,\"xaxis\":{\"anchor\":\"y\",\"domain\":[0.0,0.26666666666666666]},\"xaxis2\":{\"anchor\":\"y2\",\"domain\":[0.3666666666666667,0.6333333333333333]},\"xaxis3\":{\"anchor\":\"y3\",\"domain\":[0.7333333333333334,1.0]},\"yaxis\":{\"anchor\":\"x\",\"domain\":[0.0,1.0]},\"yaxis2\":{\"anchor\":\"x2\",\"domain\":[0.0,1.0]},\"yaxis3\":{\"anchor\":\"x3\",\"domain\":[0.0,1.0]}},                        {\"responsive\": true}                    ).then(function(){\n",
       "                            \n",
       "var gd = document.getElementById('b87fe6d9-dcd4-4a06-9c7b-78aeedb897ad');\n",
       "var x = new MutationObserver(function (mutations, observer) {{\n",
       "        var display = window.getComputedStyle(gd).display;\n",
       "        if (!display || display === 'none') {{\n",
       "            console.log([gd, 'removed!']);\n",
       "            Plotly.purge(gd);\n",
       "            observer.disconnect();\n",
       "        }}\n",
       "}});\n",
       "\n",
       "// Listen for the removal of the full notebook cells\n",
       "var notebookContainer = gd.closest('#notebook-container');\n",
       "if (notebookContainer) {{\n",
       "    x.observe(notebookContainer, {childList: true});\n",
       "}}\n",
       "\n",
       "// Listen for the clearing of the current output cell\n",
       "var outputEl = gd.closest('.output');\n",
       "if (outputEl) {{\n",
       "    x.observe(outputEl, {childList: true});\n",
       "}}\n",
       "\n",
       "                        })                };                });            </script>        </div>"
      ]
     },
     "metadata": {},
     "output_type": "display_data"
    }
   ],
   "source": [
    "fig = make_subplots(rows=1, cols=3,\n",
    "                    subplot_titles=(\"SMILE\",\"SHAP\",\"LIME\"),\n",
    "                    horizontal_spacing = 0.1)\n",
    "\n",
    "fig.add_trace(\n",
    "    go.Bar(x=WLIME_Coef1, y=features, orientation='h', \n",
    "           marker=dict(color=np.argsort(WLIME_Coef1), coloraxis=\"coloraxis\")),#, color=df3['feature_names']),\n",
    "    row=1, col=1\n",
    ")\n",
    "\n",
    "fig.add_trace(\n",
    "    go.Bar(x=biased_shap_values[0], y=features, orientation='h', \n",
    "           marker=dict(color=np.argsort(biased_shap_values[0]), coloraxis=\"coloraxis\")),\n",
    "    row=1, col=2\n",
    ")\n",
    "\n",
    "fig.add_trace(\n",
    "    go.Bar(x=exp_racist, y=lime_features, orientation='h', \n",
    "           marker=dict(color=np.argsort(exp_racist), coloraxis=\"coloraxis\")),\n",
    "    row=1, col=3\n",
    ")\n",
    "\n",
    "fig.update_layout(height=600, width=1500, title_text=\"Comparing SHAP, LIME and SMILE against Adversarial Attack - Racist Model\",\n",
    "                  coloraxis=dict(colorscale='Bluered_r'), showlegend=False) # px.colors.sequential.Viridis\n",
    "fig.show()"
   ]
  },
  {
   "cell_type": "code",
   "execution_count": 19,
   "id": "9ea2865a",
   "metadata": {
    "execution": {
     "iopub.execute_input": "2021-09-05T15:29:44.743202Z",
     "iopub.status.busy": "2021-09-05T15:29:44.742293Z",
     "iopub.status.idle": "2021-09-05T15:29:44.745386Z",
     "shell.execute_reply": "2021-09-05T15:29:44.745906Z",
     "shell.execute_reply.started": "2021-09-01T15:07:49.467432Z"
    },
    "papermill": {
     "duration": 0.041718,
     "end_time": "2021-09-05T15:29:44.746132",
     "exception": false,
     "start_time": "2021-09-05T15:29:44.704414",
     "status": "completed"
    },
    "tags": []
   },
   "outputs": [
    {
     "data": {
      "text/plain": [
       "[-7.280598930616827e-05,\n",
       " -0.00018164896760443006,\n",
       " -0.00018354024072875124,\n",
       " -0.0003080079575628089,\n",
       " -0.0003248976438156429,\n",
       " -0.000337167643657034,\n",
       " -0.00041210902462883556,\n",
       " -0.0005130675716729507,\n",
       " 0.0012015987966745123,\n",
       " -0.9981443627773983]"
      ]
     },
     "execution_count": 19,
     "metadata": {},
     "output_type": "execute_result"
    }
   ],
   "source": [
    "# adv_exp\n",
    "exp3 = []\n",
    "for ii, jj in adv_exp:\n",
    "    exp3.append(jj)\n",
    "exp_adv = exp3[::-1]\n",
    "exp_adv"
   ]
  },
  {
   "cell_type": "code",
   "execution_count": 20,
   "id": "bb352f23",
   "metadata": {
    "execution": {
     "iopub.execute_input": "2021-09-05T15:29:44.811433Z",
     "iopub.status.busy": "2021-09-05T15:29:44.810680Z",
     "iopub.status.idle": "2021-09-05T15:29:44.864459Z",
     "shell.execute_reply": "2021-09-05T15:29:44.865048Z",
     "shell.execute_reply.started": "2021-09-01T15:07:49.477664Z"
    },
    "papermill": {
     "duration": 0.088686,
     "end_time": "2021-09-05T15:29:44.865264",
     "exception": false,
     "start_time": "2021-09-05T15:29:44.776578",
     "status": "completed"
    },
    "tags": []
   },
   "outputs": [
    {
     "data": {
      "text/html": [
       "<div>                            <div id=\"ef054bdf-9635-454a-9182-0b2382ece8a0\" class=\"plotly-graph-div\" style=\"height:600px; width:1500px;\"></div>            <script type=\"text/javascript\">                require([\"plotly\"], function(Plotly) {                    window.PLOTLYENV=window.PLOTLYENV || {};                                    if (document.getElementById(\"ef054bdf-9635-454a-9182-0b2382ece8a0\")) {                    Plotly.newPlot(                        \"ef054bdf-9635-454a-9182-0b2382ece8a0\",                        [{\"marker\":{\"color\":[9,7,8,3,0,4,1,5,6,2],\"coloraxis\":\"coloraxis\"},\"orientation\":\"h\",\"type\":\"bar\",\"x\":[0.02949631225305801,0.06512427696588347,0.08419787318148163,-0.06076128445491942,0.04501191699558372,0.06742455875842614,0.07217036209771034,-0.10058958656816737,-0.09019348020954009,-0.36200369784670944],\"xaxis\":\"x\",\"y\":[\"age\",\"two_year_recid\",\"priors_count\",\"length_of_stay\",\"c_charge_degree_F\",\"c_charge_degree_M\",\"sex_Female\",\"sex_Male\",\"race\",\"unrelated_column\"],\"yaxis\":\"y\"},{\"marker\":{\"color\":[0,8,3,5,4,6,7,2,1,9],\"coloraxis\":\"coloraxis\"},\"orientation\":\"h\",\"type\":\"bar\",\"x\":[-0.21873746258062582,0.021252661790575157,0.001583701097635008,-0.18383945930932347,-0.09685008589739573,-0.09685008589739585,-0.022466541163884003,-0.02035048195125981,-0.21228538509808761,0.2893338065405463],\"xaxis\":\"x2\",\"y\":[\"age\",\"two_year_recid\",\"priors_count\",\"length_of_stay\",\"c_charge_degree_F\",\"c_charge_degree_M\",\"sex_Female\",\"sex_Male\",\"race\",\"unrelated_column\"],\"yaxis\":\"y2\"},{\"marker\":{\"color\":[9,7,6,5,4,3,2,1,0,8],\"coloraxis\":\"coloraxis\"},\"orientation\":\"h\",\"type\":\"bar\",\"x\":[-7.280598930616827e-05,-0.00018164896760443006,-0.00018354024072875124,-0.0003080079575628089,-0.0003248976438156429,-0.000337167643657034,-0.00041210902462883556,-0.0005130675716729507,0.0012015987966745123,-0.9981443627773983],\"xaxis\":\"x3\",\"y\":[\"age\",\"two_year_recid\",\"priors_count\",\"length_of_stay\",\"c_charge_degree_F\",\"c_charge_degree_M\",\"sex_Female\",\"sex_Male\",\"race\",\"unrelated_column\"],\"yaxis\":\"y3\"}],                        {\"annotations\":[{\"font\":{\"size\":16},\"showarrow\":false,\"text\":\"SMILE\",\"x\":0.13333333333333333,\"xanchor\":\"center\",\"xref\":\"paper\",\"y\":1.0,\"yanchor\":\"bottom\",\"yref\":\"paper\"},{\"font\":{\"size\":16},\"showarrow\":false,\"text\":\"SHAP\",\"x\":0.5,\"xanchor\":\"center\",\"xref\":\"paper\",\"y\":1.0,\"yanchor\":\"bottom\",\"yref\":\"paper\"},{\"font\":{\"size\":16},\"showarrow\":false,\"text\":\"LIME\",\"x\":0.8666666666666667,\"xanchor\":\"center\",\"xref\":\"paper\",\"y\":1.0,\"yanchor\":\"bottom\",\"yref\":\"paper\"}],\"coloraxis\":{\"colorscale\":[[0.0,\"rgb(255,0,0)\"],[1.0,\"rgb(0,0,255)\"]]},\"height\":600,\"showlegend\":false,\"template\":{\"data\":{\"bar\":[{\"error_x\":{\"color\":\"#2a3f5f\"},\"error_y\":{\"color\":\"#2a3f5f\"},\"marker\":{\"line\":{\"color\":\"#E5ECF6\",\"width\":0.5},\"pattern\":{\"fillmode\":\"overlay\",\"size\":10,\"solidity\":0.2}},\"type\":\"bar\"}],\"barpolar\":[{\"marker\":{\"line\":{\"color\":\"#E5ECF6\",\"width\":0.5},\"pattern\":{\"fillmode\":\"overlay\",\"size\":10,\"solidity\":0.2}},\"type\":\"barpolar\"}],\"carpet\":[{\"aaxis\":{\"endlinecolor\":\"#2a3f5f\",\"gridcolor\":\"white\",\"linecolor\":\"white\",\"minorgridcolor\":\"white\",\"startlinecolor\":\"#2a3f5f\"},\"baxis\":{\"endlinecolor\":\"#2a3f5f\",\"gridcolor\":\"white\",\"linecolor\":\"white\",\"minorgridcolor\":\"white\",\"startlinecolor\":\"#2a3f5f\"},\"type\":\"carpet\"}],\"choropleth\":[{\"colorbar\":{\"outlinewidth\":0,\"ticks\":\"\"},\"type\":\"choropleth\"}],\"contour\":[{\"colorbar\":{\"outlinewidth\":0,\"ticks\":\"\"},\"colorscale\":[[0.0,\"#0d0887\"],[0.1111111111111111,\"#46039f\"],[0.2222222222222222,\"#7201a8\"],[0.3333333333333333,\"#9c179e\"],[0.4444444444444444,\"#bd3786\"],[0.5555555555555556,\"#d8576b\"],[0.6666666666666666,\"#ed7953\"],[0.7777777777777778,\"#fb9f3a\"],[0.8888888888888888,\"#fdca26\"],[1.0,\"#f0f921\"]],\"type\":\"contour\"}],\"contourcarpet\":[{\"colorbar\":{\"outlinewidth\":0,\"ticks\":\"\"},\"type\":\"contourcarpet\"}],\"heatmap\":[{\"colorbar\":{\"outlinewidth\":0,\"ticks\":\"\"},\"colorscale\":[[0.0,\"#0d0887\"],[0.1111111111111111,\"#46039f\"],[0.2222222222222222,\"#7201a8\"],[0.3333333333333333,\"#9c179e\"],[0.4444444444444444,\"#bd3786\"],[0.5555555555555556,\"#d8576b\"],[0.6666666666666666,\"#ed7953\"],[0.7777777777777778,\"#fb9f3a\"],[0.8888888888888888,\"#fdca26\"],[1.0,\"#f0f921\"]],\"type\":\"heatmap\"}],\"heatmapgl\":[{\"colorbar\":{\"outlinewidth\":0,\"ticks\":\"\"},\"colorscale\":[[0.0,\"#0d0887\"],[0.1111111111111111,\"#46039f\"],[0.2222222222222222,\"#7201a8\"],[0.3333333333333333,\"#9c179e\"],[0.4444444444444444,\"#bd3786\"],[0.5555555555555556,\"#d8576b\"],[0.6666666666666666,\"#ed7953\"],[0.7777777777777778,\"#fb9f3a\"],[0.8888888888888888,\"#fdca26\"],[1.0,\"#f0f921\"]],\"type\":\"heatmapgl\"}],\"histogram\":[{\"marker\":{\"pattern\":{\"fillmode\":\"overlay\",\"size\":10,\"solidity\":0.2}},\"type\":\"histogram\"}],\"histogram2d\":[{\"colorbar\":{\"outlinewidth\":0,\"ticks\":\"\"},\"colorscale\":[[0.0,\"#0d0887\"],[0.1111111111111111,\"#46039f\"],[0.2222222222222222,\"#7201a8\"],[0.3333333333333333,\"#9c179e\"],[0.4444444444444444,\"#bd3786\"],[0.5555555555555556,\"#d8576b\"],[0.6666666666666666,\"#ed7953\"],[0.7777777777777778,\"#fb9f3a\"],[0.8888888888888888,\"#fdca26\"],[1.0,\"#f0f921\"]],\"type\":\"histogram2d\"}],\"histogram2dcontour\":[{\"colorbar\":{\"outlinewidth\":0,\"ticks\":\"\"},\"colorscale\":[[0.0,\"#0d0887\"],[0.1111111111111111,\"#46039f\"],[0.2222222222222222,\"#7201a8\"],[0.3333333333333333,\"#9c179e\"],[0.4444444444444444,\"#bd3786\"],[0.5555555555555556,\"#d8576b\"],[0.6666666666666666,\"#ed7953\"],[0.7777777777777778,\"#fb9f3a\"],[0.8888888888888888,\"#fdca26\"],[1.0,\"#f0f921\"]],\"type\":\"histogram2dcontour\"}],\"mesh3d\":[{\"colorbar\":{\"outlinewidth\":0,\"ticks\":\"\"},\"type\":\"mesh3d\"}],\"parcoords\":[{\"line\":{\"colorbar\":{\"outlinewidth\":0,\"ticks\":\"\"}},\"type\":\"parcoords\"}],\"pie\":[{\"automargin\":true,\"type\":\"pie\"}],\"scatter\":[{\"marker\":{\"colorbar\":{\"outlinewidth\":0,\"ticks\":\"\"}},\"type\":\"scatter\"}],\"scatter3d\":[{\"line\":{\"colorbar\":{\"outlinewidth\":0,\"ticks\":\"\"}},\"marker\":{\"colorbar\":{\"outlinewidth\":0,\"ticks\":\"\"}},\"type\":\"scatter3d\"}],\"scattercarpet\":[{\"marker\":{\"colorbar\":{\"outlinewidth\":0,\"ticks\":\"\"}},\"type\":\"scattercarpet\"}],\"scattergeo\":[{\"marker\":{\"colorbar\":{\"outlinewidth\":0,\"ticks\":\"\"}},\"type\":\"scattergeo\"}],\"scattergl\":[{\"marker\":{\"colorbar\":{\"outlinewidth\":0,\"ticks\":\"\"}},\"type\":\"scattergl\"}],\"scattermapbox\":[{\"marker\":{\"colorbar\":{\"outlinewidth\":0,\"ticks\":\"\"}},\"type\":\"scattermapbox\"}],\"scatterpolar\":[{\"marker\":{\"colorbar\":{\"outlinewidth\":0,\"ticks\":\"\"}},\"type\":\"scatterpolar\"}],\"scatterpolargl\":[{\"marker\":{\"colorbar\":{\"outlinewidth\":0,\"ticks\":\"\"}},\"type\":\"scatterpolargl\"}],\"scatterternary\":[{\"marker\":{\"colorbar\":{\"outlinewidth\":0,\"ticks\":\"\"}},\"type\":\"scatterternary\"}],\"surface\":[{\"colorbar\":{\"outlinewidth\":0,\"ticks\":\"\"},\"colorscale\":[[0.0,\"#0d0887\"],[0.1111111111111111,\"#46039f\"],[0.2222222222222222,\"#7201a8\"],[0.3333333333333333,\"#9c179e\"],[0.4444444444444444,\"#bd3786\"],[0.5555555555555556,\"#d8576b\"],[0.6666666666666666,\"#ed7953\"],[0.7777777777777778,\"#fb9f3a\"],[0.8888888888888888,\"#fdca26\"],[1.0,\"#f0f921\"]],\"type\":\"surface\"}],\"table\":[{\"cells\":{\"fill\":{\"color\":\"#EBF0F8\"},\"line\":{\"color\":\"white\"}},\"header\":{\"fill\":{\"color\":\"#C8D4E3\"},\"line\":{\"color\":\"white\"}},\"type\":\"table\"}]},\"layout\":{\"annotationdefaults\":{\"arrowcolor\":\"#2a3f5f\",\"arrowhead\":0,\"arrowwidth\":1},\"autotypenumbers\":\"strict\",\"coloraxis\":{\"colorbar\":{\"outlinewidth\":0,\"ticks\":\"\"}},\"colorscale\":{\"diverging\":[[0,\"#8e0152\"],[0.1,\"#c51b7d\"],[0.2,\"#de77ae\"],[0.3,\"#f1b6da\"],[0.4,\"#fde0ef\"],[0.5,\"#f7f7f7\"],[0.6,\"#e6f5d0\"],[0.7,\"#b8e186\"],[0.8,\"#7fbc41\"],[0.9,\"#4d9221\"],[1,\"#276419\"]],\"sequential\":[[0.0,\"#0d0887\"],[0.1111111111111111,\"#46039f\"],[0.2222222222222222,\"#7201a8\"],[0.3333333333333333,\"#9c179e\"],[0.4444444444444444,\"#bd3786\"],[0.5555555555555556,\"#d8576b\"],[0.6666666666666666,\"#ed7953\"],[0.7777777777777778,\"#fb9f3a\"],[0.8888888888888888,\"#fdca26\"],[1.0,\"#f0f921\"]],\"sequentialminus\":[[0.0,\"#0d0887\"],[0.1111111111111111,\"#46039f\"],[0.2222222222222222,\"#7201a8\"],[0.3333333333333333,\"#9c179e\"],[0.4444444444444444,\"#bd3786\"],[0.5555555555555556,\"#d8576b\"],[0.6666666666666666,\"#ed7953\"],[0.7777777777777778,\"#fb9f3a\"],[0.8888888888888888,\"#fdca26\"],[1.0,\"#f0f921\"]]},\"colorway\":[\"#636efa\",\"#EF553B\",\"#00cc96\",\"#ab63fa\",\"#FFA15A\",\"#19d3f3\",\"#FF6692\",\"#B6E880\",\"#FF97FF\",\"#FECB52\"],\"font\":{\"color\":\"#2a3f5f\"},\"geo\":{\"bgcolor\":\"white\",\"lakecolor\":\"white\",\"landcolor\":\"#E5ECF6\",\"showlakes\":true,\"showland\":true,\"subunitcolor\":\"white\"},\"hoverlabel\":{\"align\":\"left\"},\"hovermode\":\"closest\",\"mapbox\":{\"style\":\"light\"},\"paper_bgcolor\":\"white\",\"plot_bgcolor\":\"#E5ECF6\",\"polar\":{\"angularaxis\":{\"gridcolor\":\"white\",\"linecolor\":\"white\",\"ticks\":\"\"},\"bgcolor\":\"#E5ECF6\",\"radialaxis\":{\"gridcolor\":\"white\",\"linecolor\":\"white\",\"ticks\":\"\"}},\"scene\":{\"xaxis\":{\"backgroundcolor\":\"#E5ECF6\",\"gridcolor\":\"white\",\"gridwidth\":2,\"linecolor\":\"white\",\"showbackground\":true,\"ticks\":\"\",\"zerolinecolor\":\"white\"},\"yaxis\":{\"backgroundcolor\":\"#E5ECF6\",\"gridcolor\":\"white\",\"gridwidth\":2,\"linecolor\":\"white\",\"showbackground\":true,\"ticks\":\"\",\"zerolinecolor\":\"white\"},\"zaxis\":{\"backgroundcolor\":\"#E5ECF6\",\"gridcolor\":\"white\",\"gridwidth\":2,\"linecolor\":\"white\",\"showbackground\":true,\"ticks\":\"\",\"zerolinecolor\":\"white\"}},\"shapedefaults\":{\"line\":{\"color\":\"#2a3f5f\"}},\"ternary\":{\"aaxis\":{\"gridcolor\":\"white\",\"linecolor\":\"white\",\"ticks\":\"\"},\"baxis\":{\"gridcolor\":\"white\",\"linecolor\":\"white\",\"ticks\":\"\"},\"bgcolor\":\"#E5ECF6\",\"caxis\":{\"gridcolor\":\"white\",\"linecolor\":\"white\",\"ticks\":\"\"}},\"title\":{\"x\":0.05},\"xaxis\":{\"automargin\":true,\"gridcolor\":\"white\",\"linecolor\":\"white\",\"ticks\":\"\",\"title\":{\"standoff\":15},\"zerolinecolor\":\"white\",\"zerolinewidth\":2},\"yaxis\":{\"automargin\":true,\"gridcolor\":\"white\",\"linecolor\":\"white\",\"ticks\":\"\",\"title\":{\"standoff\":15},\"zerolinecolor\":\"white\",\"zerolinewidth\":2}}},\"title\":{\"text\":\"Comparing SHAP, LIME and SMILE against Adversarial Attack - Unrealated Feature\"},\"width\":1500,\"xaxis\":{\"anchor\":\"y\",\"domain\":[0.0,0.26666666666666666]},\"xaxis2\":{\"anchor\":\"y2\",\"domain\":[0.3666666666666667,0.6333333333333333]},\"xaxis3\":{\"anchor\":\"y3\",\"domain\":[0.7333333333333334,1.0]},\"yaxis\":{\"anchor\":\"x\",\"domain\":[0.0,1.0]},\"yaxis2\":{\"anchor\":\"x2\",\"domain\":[0.0,1.0]},\"yaxis3\":{\"anchor\":\"x3\",\"domain\":[0.0,1.0]}},                        {\"responsive\": true}                    ).then(function(){\n",
       "                            \n",
       "var gd = document.getElementById('ef054bdf-9635-454a-9182-0b2382ece8a0');\n",
       "var x = new MutationObserver(function (mutations, observer) {{\n",
       "        var display = window.getComputedStyle(gd).display;\n",
       "        if (!display || display === 'none') {{\n",
       "            console.log([gd, 'removed!']);\n",
       "            Plotly.purge(gd);\n",
       "            observer.disconnect();\n",
       "        }}\n",
       "}});\n",
       "\n",
       "// Listen for the removal of the full notebook cells\n",
       "var notebookContainer = gd.closest('#notebook-container');\n",
       "if (notebookContainer) {{\n",
       "    x.observe(notebookContainer, {childList: true});\n",
       "}}\n",
       "\n",
       "// Listen for the clearing of the current output cell\n",
       "var outputEl = gd.closest('.output');\n",
       "if (outputEl) {{\n",
       "    x.observe(outputEl, {childList: true});\n",
       "}}\n",
       "\n",
       "                        })                };                });            </script>        </div>"
      ]
     },
     "metadata": {},
     "output_type": "display_data"
    }
   ],
   "source": [
    "fig = make_subplots(rows=1, cols=3,\n",
    "                    subplot_titles=(\"SMILE\",\"SHAP\",\"LIME\"),\n",
    "                    horizontal_spacing = 0.1)\n",
    "\n",
    "fig.add_trace(\n",
    "    go.Bar(x=WLIME_Coef2, y=features, orientation='h', \n",
    "           marker=dict(color=np.argsort(WLIME_Coef2), coloraxis=\"coloraxis\")),#, color=df3['feature_names']),\n",
    "    row=1, col=1\n",
    ")\n",
    "\n",
    "fig.add_trace(\n",
    "    go.Bar(x=np.array(adv_shap_values[0]), y=features, orientation='h', \n",
    "           marker=dict(color=np.argsort(adv_shap_values[0]), coloraxis=\"coloraxis\")),\n",
    "    row=1, col=2\n",
    ")\n",
    "\n",
    "fig.add_trace(\n",
    "    go.Bar(x=exp_adv, y=features, orientation='h', \n",
    "           marker=dict(color=np.argsort(exp_adv), coloraxis=\"coloraxis\")),\n",
    "    row=1, col=3\n",
    ")\n",
    "\n",
    "fig.update_layout(height=600, width=1500, title_text=\"Comparing SHAP, LIME and SMILE against Adversarial Attack - Unrealated Feature\",\n",
    "                  coloraxis=dict(colorscale='Bluered_r'), showlegend=False) # px.colors.sequential.Viridis\n",
    "fig.show()"
   ]
  },
  {
   "cell_type": "code",
   "execution_count": 21,
   "id": "64750877",
   "metadata": {
    "execution": {
     "iopub.execute_input": "2021-09-05T15:29:44.931923Z",
     "iopub.status.busy": "2021-09-05T15:29:44.931211Z",
     "iopub.status.idle": "2021-09-05T15:29:44.937860Z",
     "shell.execute_reply": "2021-09-05T15:29:44.938437Z",
     "shell.execute_reply.started": "2021-09-01T15:15:08.902689Z"
    },
    "papermill": {
     "duration": 0.041376,
     "end_time": "2021-09-05T15:29:44.938647",
     "exception": false,
     "start_time": "2021-09-05T15:29:44.897271",
     "status": "completed"
    },
    "tags": []
   },
   "outputs": [],
   "source": [
    "def get_and_preprocess_german2(params):\n",
    "\n",
    "    PROTECTED_CLASS = params.protected_class\n",
    "    UNPROTECTED_CLASS = params.unprotected_class\n",
    "    POSITIVE_OUTCOME = params.positive_outcome\n",
    "    NEGATIVE_OUTCOME = params.negative_outcome\n",
    "\n",
    "    X = pd.read_csv(\"./Fooling-LIME-SHAP/data/german_processed.csv\")\n",
    "    y = X[\"GoodCustomer\"]\n",
    "\n",
    "    X = X.drop([\"GoodCustomer\", \"PurposeOfLoan\"], axis=1)\n",
    "    X['Gender'] = [1 if v == \"Male\" else 0 for v in X['Gender'].values]\n",
    "\n",
    "    y = np.array([POSITIVE_OUTCOME if p == 1 else NEGATIVE_OUTCOME for p in y.values])\n",
    "\n",
    "    return X, y, [c for c in X] "
   ]
  },
  {
   "cell_type": "code",
   "execution_count": 22,
   "id": "52f29abc",
   "metadata": {
    "execution": {
     "iopub.execute_input": "2021-09-05T15:29:45.004602Z",
     "iopub.status.busy": "2021-09-05T15:29:45.003819Z",
     "iopub.status.idle": "2021-09-05T15:31:36.656766Z",
     "shell.execute_reply": "2021-09-05T15:31:36.657935Z",
     "shell.execute_reply.started": "2021-09-01T15:29:26.039058Z"
    },
    "papermill": {
     "duration": 111.688384,
     "end_time": "2021-09-05T15:31:36.658287",
     "exception": false,
     "start_time": "2021-09-05T15:29:44.969903",
     "status": "completed"
    },
    "tags": []
   },
   "outputs": [
    {
     "name": "stdout",
     "output_type": "stream",
     "text": [
      "LIME Ranks and Pct Occurances (1 corresponds to most important feature) for one unrelated feature:\n",
      "{1: [('NumberOfLiableIndividuals', 1.0)], 2: [('CheckingAccountBalance_geq_200', 0.06), ('ForeignWorker', 0.13), ('HasCoapplicant', 0.19), ('HasGuarantor', 0.13), ('JobClassIsSkilled', 0.03), ('MissedPayments', 0.03), ('NoCurrentLoan', 0.15), ('OtherLoansAtBank', 0.06), ('OwnsHouse', 0.01), ('RentsHouse', 0.03), ('SavingsAccountBalance_geq_500', 0.07), ('Unemployed', 0.1), ('YearsAtCurrentJob_lt_1', 0.01)], 3: [('CheckingAccountBalance_geq_200', 0.08), ('CriticalAccountOrLoansElsewhere', 0.02), ('ForeignWorker', 0.12), ('HasCoapplicant', 0.13), ('HasGuarantor', 0.14), ('HasTelephone', 0.01), ('JobClassIsSkilled', 0.03), ('MissedPayments', 0.11), ('NoCurrentLoan', 0.08), ('OtherLoansAtBank', 0.02), ('OwnsHouse', 0.01), ('RentsHouse', 0.01), ('SavingsAccountBalance_geq_100', 0.01), ('SavingsAccountBalance_geq_500', 0.07), ('Single', 0.02), ('Unemployed', 0.1), ('YearsAtCurrentJob_lt_1', 0.04)]}\n",
      "Fidelity: 1.0\n",
      "---------------------\n",
      "Beginning SHAP GERMAN Experiments....\n",
      "---------------------\n"
     ]
    },
    {
     "data": {
      "application/vnd.jupyter.widget-view+json": {
       "model_id": "1b742e0e23754fb580369c7ba0067c90",
       "version_major": 2,
       "version_minor": 0
      },
      "text/plain": [
       "  0%|          | 0/100 [00:00<?, ?it/s]"
      ]
     },
     "metadata": {},
     "output_type": "display_data"
    },
    {
     "name": "stdout",
     "output_type": "stream",
     "text": [
      "SHAP Ranks and Pct Occurances one unrelated features:\n",
      "{1: [('LoanRateAsPercentOfIncome', 1.0)], 2: [('CheckingAccountBalance_geq_0', 0.02), ('CheckingAccountBalance_geq_200', 0.05), ('Gender', 0.41), ('JobClassIsSkilled', 0.1), ('NoCurrentLoan', 0.04), ('Nothing shown', 0.06), ('NumberOfLiableIndividuals', 0.05), ('NumberOfOtherLoansAtBank', 0.01), ('OtherLoansAtBank', 0.25), ('OwnsHouse', 0.01), ('SavingsAccountBalance_geq_100', 0.01)], 3: [('CheckingAccountBalance_geq_0', 0.01), ('CheckingAccountBalance_geq_200', 0.14), ('CriticalAccountOrLoansElsewhere', 0.01), ('Gender', 0.03), ('JobClassIsSkilled', 0.06), ('NoCurrentLoan', 0.2), ('Nothing shown', 0.37), ('NumberOfLiableIndividuals', 0.03), ('OtherLoansAtBank', 0.08), ('OwnsHouse', 0.03), ('SavingsAccountBalance_geq_100', 0.01), ('SavingsAccountBalance_geq_500', 0.01), ('Single', 0.01), ('YearsAtCurrentJob_lt_1', 0.01)]}\n",
      "Fidelity: 0.98\n",
      "---------------------\n"
     ]
    }
   ],
   "source": [
    "\"\"\"\n",
    "The experiment MAIN for GERMAN.\n",
    "\"\"\"\n",
    "import warnings\n",
    "\n",
    "warnings.filterwarnings('ignore')\n",
    "\n",
    "from adversarial_models import *\n",
    "from utils import *\n",
    "from get_data import *\n",
    "\n",
    "from sklearn.model_selection import train_test_split\n",
    "from sklearn.preprocessing import StandardScaler\n",
    "\n",
    "import numpy as np\n",
    "import pandas as pd\n",
    "\n",
    "import lime\n",
    "import lime.lime_tabular\n",
    "import shap\n",
    "\n",
    "from sklearn.cluster import KMeans\n",
    "\n",
    "from copy import deepcopy\n",
    "\n",
    "# Set up experiment parameters\n",
    "params = Params(\"./Fooling-LIME-SHAP/model_configurations/experiment_params.json\")\n",
    "X, y, cols = get_and_preprocess_german2(params)\n",
    "\n",
    "features = [c for c in X]\n",
    "\n",
    "gender_indc = features.index('Gender')\n",
    "loan_rate_indc = features.index('LoanRateAsPercentOfIncome')\n",
    "\n",
    "X = X.values\n",
    "\n",
    "xtrain, xtest, ytrain, ytest = train_test_split(X, y, test_size=0.1)\n",
    "ss = StandardScaler().fit(xtrain)\n",
    "xtrain = ss.transform(xtrain)\n",
    "xtest = ss.transform(xtest)\n",
    "\n",
    "mean_lrpi = np.mean(xtrain[:, loan_rate_indc])\n",
    "\n",
    "categorical = ['Gender', 'ForeignWorker', 'Single', 'HasTelephone', 'CheckingAccountBalance_geq_0',\n",
    "               'CheckingAccountBalance_geq_200', 'SavingsAccountBalance_geq_100', 'SavingsAccountBalance_geq_500',\n",
    "               'MissedPayments', 'NoCurrentLoan', 'CriticalAccountOrLoansElsewhere', 'OtherLoansAtBank',\n",
    "               'OtherLoansAtStore', 'HasCoapplicant', 'HasGuarantor', 'OwnsHouse', 'RentsHouse', 'Unemployed',\n",
    "               'YearsAtCurrentJob_lt_1', 'YearsAtCurrentJob_geq_4', 'JobClassIsSkilled']\n",
    "categorical = [features.index(c) for c in categorical]\n",
    "\n",
    "\n",
    "###\n",
    "## The models f and psi for GERMAN.  We discriminate based on gender for f and consider loan rate % income for explanation\n",
    "#\n",
    "\n",
    "# the biased model \n",
    "class racist_model_f:\n",
    "    # Decision rule: classify negative outcome if female\n",
    "    def predict(self, X):\n",
    "        return np.array([params.negative_outcome if x[gender_indc] < 0 else params.positive_outcome for x in X])\n",
    "\n",
    "    def predict_proba(self, X):\n",
    "        return one_hot_encode(self.predict(X))\n",
    "\n",
    "    def score(self, X, y):\n",
    "        return np.sum(self.predict(X) == y) / len(X)\n",
    "\n",
    "\n",
    "# the display model with one unrelated feature\n",
    "class innocuous_model_psi:\n",
    "    # Decision rule: classify according to loan rate indc\n",
    "    def predict_proba(self, X):\n",
    "        return one_hot_encode(np.array(\n",
    "            [params.negative_outcome if x[loan_rate_indc] > mean_lrpi else params.positive_outcome for x in X]))\n",
    "\n",
    "\n",
    "##\n",
    "###\n",
    "\n",
    "# Train the adversarial model for LIME with f and psi \n",
    "adv_limeG = Adversarial_Lime_Model(racist_model_f(), innocuous_model_psi()).train(xtrain, ytrain,\n",
    "                                                                                 feature_names=features,\n",
    "                                                                                 perturbation_multiplier=30,\n",
    "                                                                                 categorical_features=categorical)\n",
    "adv_explainer = lime.lime_tabular.LimeTabularExplainer(xtrain, feature_names=adv_limeG.get_column_names(),\n",
    "                                                       discretize_continuous=False,\n",
    "                                                       categorical_features=categorical)\n",
    "\n",
    "explanations_lime = []\n",
    "for i in range(xtest.shape[0]):\n",
    "    explanations_lime.append(adv_explainer.explain_instance(xtest[i], adv_lime.predict_proba).as_list())\n",
    "\n",
    "# Display Results\n",
    "print(\"LIME Ranks and Pct Occurances (1 corresponds to most important feature) for one unrelated feature:\")\n",
    "print(experiment_summary(explanations_lime, features))\n",
    "print(\"Fidelity:\", round(adv_limeG.fidelity(xtest), 2))\n",
    "\n",
    "print('---------------------')\n",
    "print('Beginning SHAP GERMAN Experiments....')\n",
    "print('---------------------')\n",
    "\n",
    "# Setup SHAP\n",
    "background_distribution = KMeans(n_clusters=10, random_state=0).fit(xtrain).cluster_centers_\n",
    "adv_shapG = Adversarial_Kernel_SHAP_Model(racist_model_f(), innocuous_model_psi()).train(xtrain, ytrain,\n",
    "                                                                                        feature_names=features,\n",
    "                                                                                        background_distribution=background_distribution,\n",
    "                                                                                        rf_estimators=100,\n",
    "                                                                                        n_samples=5e4)\n",
    "adv_kerenel_explainer = shap.KernelExplainer(adv_shapG.predict, background_distribution, )\n",
    "explanations = adv_kerenel_explainer.shap_values(xtest)\n",
    "\n",
    "# format for display\n",
    "formatted_explanations = []\n",
    "for exp in explanations:\n",
    "    formatted_explanations.append([(features[i], exp[i]) for i in range(len(exp))])\n",
    "\n",
    "print(\"SHAP Ranks and Pct Occurances one unrelated features:\")\n",
    "print(experiment_summary(formatted_explanations, features))\n",
    "print(\"Fidelity:\", round(adv_shapG.fidelity(xtest), 2))\n",
    "\n",
    "print('---------------------')\n",
    "\n"
   ]
  },
  {
   "cell_type": "code",
   "execution_count": 23,
   "id": "600ac954",
   "metadata": {
    "execution": {
     "iopub.execute_input": "2021-09-05T15:31:36.755221Z",
     "iopub.status.busy": "2021-09-05T15:31:36.754512Z",
     "iopub.status.idle": "2021-09-05T15:31:36.915569Z",
     "shell.execute_reply": "2021-09-05T15:31:36.917000Z",
     "shell.execute_reply.started": "2021-09-01T15:58:13.648373Z"
    },
    "papermill": {
     "duration": 0.200537,
     "end_time": "2021-09-05T15:31:36.917319",
     "exception": false,
     "start_time": "2021-09-05T15:31:36.716782",
     "status": "completed"
    },
    "tags": []
   },
   "outputs": [
    {
     "data": {
      "text/plain": [
       "[('NumberOfLiableIndividuals', -0.4073876872607544),\n",
       " ('ForeignWorker=0', -0.04433849305974829),\n",
       " ('SavingsAccountBalance_geq_500=0', 0.0275954349472482),\n",
       " ('CheckingAccountBalance_geq_200=0', 0.02172314799487268),\n",
       " ('HasTelephone=1', 0.016972177356595484),\n",
       " ('CriticalAccountOrLoansElsewhere=0', -0.00833658756816469),\n",
       " ('OwnsHouse=0', 0.00797053296000225),\n",
       " ('Single=0', 0.007739846861792155),\n",
       " ('YearsAtCurrentJob_lt_1=0', 0.007298960554181448),\n",
       " ('Unemployed=0', 0.007089463142447996)]"
      ]
     },
     "execution_count": 23,
     "metadata": {},
     "output_type": "execute_result"
    }
   ],
   "source": [
    "lime_exp = adv_explainer.explain_instance(xtest[i], adv_lime.predict_proba).as_list()\n",
    "lime_exp"
   ]
  },
  {
   "cell_type": "code",
   "execution_count": 24,
   "id": "2fe68458",
   "metadata": {
    "execution": {
     "iopub.execute_input": "2021-09-05T15:31:37.050178Z",
     "iopub.status.busy": "2021-09-05T15:31:37.049160Z",
     "iopub.status.idle": "2021-09-05T15:31:37.054298Z",
     "shell.execute_reply": "2021-09-05T15:31:37.055007Z",
     "shell.execute_reply.started": "2021-09-01T15:58:36.754324Z"
    },
    "papermill": {
     "duration": 0.078588,
     "end_time": "2021-09-05T15:31:37.055302",
     "exception": false,
     "start_time": "2021-09-05T15:31:36.976714",
     "status": "completed"
    },
    "tags": []
   },
   "outputs": [
    {
     "data": {
      "text/plain": [
       "(100, 28)"
      ]
     },
     "execution_count": 24,
     "metadata": {},
     "output_type": "execute_result"
    }
   ],
   "source": [
    "explanations.shape"
   ]
  }
 ],
 "metadata": {
  "kernelspec": {
   "display_name": "Python 3",
   "language": "python",
   "name": "python3"
  },
  "language_info": {
   "codemirror_mode": {
    "name": "ipython",
    "version": 3
   },
   "file_extension": ".py",
   "mimetype": "text/x-python",
   "name": "python",
   "nbconvert_exporter": "python",
   "pygments_lexer": "ipython3",
   "version": "3.7.10"
  },
  "papermill": {
   "default_parameters": {},
   "duration": 297.174468,
   "end_time": "2021-09-05T15:31:39.669715",
   "environment_variables": {},
   "exception": null,
   "input_path": "__notebook__.ipynb",
   "output_path": "__notebook__.ipynb",
   "parameters": {},
   "start_time": "2021-09-05T15:26:42.495247",
   "version": "2.3.3"
  },
  "widgets": {
   "application/vnd.jupyter.widget-state+json": {
    "state": {
     "036aaa024f7b4b9d8af5130a69875eee": {
      "model_module": "@jupyter-widgets/base",
      "model_module_version": "1.2.0",
      "model_name": "LayoutModel",
      "state": {
       "_model_module": "@jupyter-widgets/base",
       "_model_module_version": "1.2.0",
       "_model_name": "LayoutModel",
       "_view_count": null,
       "_view_module": "@jupyter-widgets/base",
       "_view_module_version": "1.2.0",
       "_view_name": "LayoutView",
       "align_content": null,
       "align_items": null,
       "align_self": null,
       "border": null,
       "bottom": null,
       "display": null,
       "flex": null,
       "flex_flow": null,
       "grid_area": null,
       "grid_auto_columns": null,
       "grid_auto_flow": null,
       "grid_auto_rows": null,
       "grid_column": null,
       "grid_gap": null,
       "grid_row": null,
       "grid_template_areas": null,
       "grid_template_columns": null,
       "grid_template_rows": null,
       "height": null,
       "justify_content": null,
       "justify_items": null,
       "left": null,
       "margin": null,
       "max_height": null,
       "max_width": null,
       "min_height": null,
       "min_width": null,
       "object_fit": null,
       "object_position": null,
       "order": null,
       "overflow": null,
       "overflow_x": null,
       "overflow_y": null,
       "padding": null,
       "right": null,
       "top": null,
       "visibility": null,
       "width": null
      }
     },
     "13a511e72f134bf1bc3f1b78760221f7": {
      "model_module": "@jupyter-widgets/controls",
      "model_module_version": "1.5.0",
      "model_name": "DescriptionStyleModel",
      "state": {
       "_model_module": "@jupyter-widgets/controls",
       "_model_module_version": "1.5.0",
       "_model_name": "DescriptionStyleModel",
       "_view_count": null,
       "_view_module": "@jupyter-widgets/base",
       "_view_module_version": "1.2.0",
       "_view_name": "StyleView",
       "description_width": ""
      }
     },
     "172b723d036b402e92e348a2be3e0e55": {
      "model_module": "@jupyter-widgets/controls",
      "model_module_version": "1.5.0",
      "model_name": "ProgressStyleModel",
      "state": {
       "_model_module": "@jupyter-widgets/controls",
       "_model_module_version": "1.5.0",
       "_model_name": "ProgressStyleModel",
       "_view_count": null,
       "_view_module": "@jupyter-widgets/base",
       "_view_module_version": "1.2.0",
       "_view_name": "StyleView",
       "bar_color": null,
       "description_width": ""
      }
     },
     "1b742e0e23754fb580369c7ba0067c90": {
      "model_module": "@jupyter-widgets/controls",
      "model_module_version": "1.5.0",
      "model_name": "HBoxModel",
      "state": {
       "_dom_classes": [],
       "_model_module": "@jupyter-widgets/controls",
       "_model_module_version": "1.5.0",
       "_model_name": "HBoxModel",
       "_view_count": null,
       "_view_module": "@jupyter-widgets/controls",
       "_view_module_version": "1.5.0",
       "_view_name": "HBoxView",
       "box_style": "",
       "children": [
        "IPY_MODEL_e2cbc9977ef746d6810fe9c8cb26ce3b",
        "IPY_MODEL_4b379dddd1a74888897285299d7832ae",
        "IPY_MODEL_503d89b6b57c482685b59f9cd0a593cf"
       ],
       "layout": "IPY_MODEL_ea9a8ef5c15f488eac7304ddcadc0114"
      }
     },
     "24a8931628c847e9894601700aa29093": {
      "model_module": "@jupyter-widgets/controls",
      "model_module_version": "1.5.0",
      "model_name": "DescriptionStyleModel",
      "state": {
       "_model_module": "@jupyter-widgets/controls",
       "_model_module_version": "1.5.0",
       "_model_name": "DescriptionStyleModel",
       "_view_count": null,
       "_view_module": "@jupyter-widgets/base",
       "_view_module_version": "1.2.0",
       "_view_name": "StyleView",
       "description_width": ""
      }
     },
     "3fdb5b682e2847298f4b038f4efabb6e": {
      "model_module": "@jupyter-widgets/controls",
      "model_module_version": "1.5.0",
      "model_name": "DescriptionStyleModel",
      "state": {
       "_model_module": "@jupyter-widgets/controls",
       "_model_module_version": "1.5.0",
       "_model_name": "DescriptionStyleModel",
       "_view_count": null,
       "_view_module": "@jupyter-widgets/base",
       "_view_module_version": "1.2.0",
       "_view_name": "StyleView",
       "description_width": ""
      }
     },
     "426fb39935be4bcab2dbef914d35ac8e": {
      "model_module": "@jupyter-widgets/base",
      "model_module_version": "1.2.0",
      "model_name": "LayoutModel",
      "state": {
       "_model_module": "@jupyter-widgets/base",
       "_model_module_version": "1.2.0",
       "_model_name": "LayoutModel",
       "_view_count": null,
       "_view_module": "@jupyter-widgets/base",
       "_view_module_version": "1.2.0",
       "_view_name": "LayoutView",
       "align_content": null,
       "align_items": null,
       "align_self": null,
       "border": null,
       "bottom": null,
       "display": null,
       "flex": null,
       "flex_flow": null,
       "grid_area": null,
       "grid_auto_columns": null,
       "grid_auto_flow": null,
       "grid_auto_rows": null,
       "grid_column": null,
       "grid_gap": null,
       "grid_row": null,
       "grid_template_areas": null,
       "grid_template_columns": null,
       "grid_template_rows": null,
       "height": null,
       "justify_content": null,
       "justify_items": null,
       "left": null,
       "margin": null,
       "max_height": null,
       "max_width": null,
       "min_height": null,
       "min_width": null,
       "object_fit": null,
       "object_position": null,
       "order": null,
       "overflow": null,
       "overflow_x": null,
       "overflow_y": null,
       "padding": null,
       "right": null,
       "top": null,
       "visibility": null,
       "width": null
      }
     },
     "4b379dddd1a74888897285299d7832ae": {
      "model_module": "@jupyter-widgets/controls",
      "model_module_version": "1.5.0",
      "model_name": "FloatProgressModel",
      "state": {
       "_dom_classes": [],
       "_model_module": "@jupyter-widgets/controls",
       "_model_module_version": "1.5.0",
       "_model_name": "FloatProgressModel",
       "_view_count": null,
       "_view_module": "@jupyter-widgets/controls",
       "_view_module_version": "1.5.0",
       "_view_name": "ProgressView",
       "bar_style": "success",
       "description": "",
       "description_tooltip": null,
       "layout": "IPY_MODEL_80900d4c8788486a82e674cd4ad83a2b",
       "max": 100.0,
       "min": 0.0,
       "orientation": "horizontal",
       "style": "IPY_MODEL_fb8f115abc8e4dc38f297600cf4d9b27",
       "value": 100.0
      }
     },
     "501dad068397414c969722b77109d1ba": {
      "model_module": "@jupyter-widgets/controls",
      "model_module_version": "1.5.0",
      "model_name": "DescriptionStyleModel",
      "state": {
       "_model_module": "@jupyter-widgets/controls",
       "_model_module_version": "1.5.0",
       "_model_name": "DescriptionStyleModel",
       "_view_count": null,
       "_view_module": "@jupyter-widgets/base",
       "_view_module_version": "1.2.0",
       "_view_name": "StyleView",
       "description_width": ""
      }
     },
     "503d89b6b57c482685b59f9cd0a593cf": {
      "model_module": "@jupyter-widgets/controls",
      "model_module_version": "1.5.0",
      "model_name": "HTMLModel",
      "state": {
       "_dom_classes": [],
       "_model_module": "@jupyter-widgets/controls",
       "_model_module_version": "1.5.0",
       "_model_name": "HTMLModel",
       "_view_count": null,
       "_view_module": "@jupyter-widgets/controls",
       "_view_module_version": "1.5.0",
       "_view_name": "HTMLView",
       "description": "",
       "description_tooltip": null,
       "layout": "IPY_MODEL_e4c4e09d26e340f89d5b83fed3c2ba2b",
       "placeholder": "​",
       "style": "IPY_MODEL_81aee94702d14486a0ac4b27ef49058b",
       "value": " 100/100 [00:46&lt;00:00,  2.14it/s]"
      }
     },
     "53d9593d69104b3e972ef6b98737fc32": {
      "model_module": "@jupyter-widgets/base",
      "model_module_version": "1.2.0",
      "model_name": "LayoutModel",
      "state": {
       "_model_module": "@jupyter-widgets/base",
       "_model_module_version": "1.2.0",
       "_model_name": "LayoutModel",
       "_view_count": null,
       "_view_module": "@jupyter-widgets/base",
       "_view_module_version": "1.2.0",
       "_view_name": "LayoutView",
       "align_content": null,
       "align_items": null,
       "align_self": null,
       "border": null,
       "bottom": null,
       "display": null,
       "flex": null,
       "flex_flow": null,
       "grid_area": null,
       "grid_auto_columns": null,
       "grid_auto_flow": null,
       "grid_auto_rows": null,
       "grid_column": null,
       "grid_gap": null,
       "grid_row": null,
       "grid_template_areas": null,
       "grid_template_columns": null,
       "grid_template_rows": null,
       "height": null,
       "justify_content": null,
       "justify_items": null,
       "left": null,
       "margin": null,
       "max_height": null,
       "max_width": null,
       "min_height": null,
       "min_width": null,
       "object_fit": null,
       "object_position": null,
       "order": null,
       "overflow": null,
       "overflow_x": null,
       "overflow_y": null,
       "padding": null,
       "right": null,
       "top": null,
       "visibility": null,
       "width": null
      }
     },
     "58af808dcb1b4894a703830f962dbaa5": {
      "model_module": "@jupyter-widgets/controls",
      "model_module_version": "1.5.0",
      "model_name": "HBoxModel",
      "state": {
       "_dom_classes": [],
       "_model_module": "@jupyter-widgets/controls",
       "_model_module_version": "1.5.0",
       "_model_name": "HBoxModel",
       "_view_count": null,
       "_view_module": "@jupyter-widgets/controls",
       "_view_module_version": "1.5.0",
       "_view_name": "HBoxView",
       "box_style": "",
       "children": [
        "IPY_MODEL_ea3c2d8e19dc42c587254cf60dca67d9",
        "IPY_MODEL_f65a7732c6ff475aa31f47156e6635b5",
        "IPY_MODEL_9802f4a340be40db8b21cbfd280cb26b"
       ],
       "layout": "IPY_MODEL_f250683b963e473a9e643359b823ee38"
      }
     },
     "590cb9299a234be39aa6f66f7503befe": {
      "model_module": "@jupyter-widgets/base",
      "model_module_version": "1.2.0",
      "model_name": "LayoutModel",
      "state": {
       "_model_module": "@jupyter-widgets/base",
       "_model_module_version": "1.2.0",
       "_model_name": "LayoutModel",
       "_view_count": null,
       "_view_module": "@jupyter-widgets/base",
       "_view_module_version": "1.2.0",
       "_view_name": "LayoutView",
       "align_content": null,
       "align_items": null,
       "align_self": null,
       "border": null,
       "bottom": null,
       "display": null,
       "flex": null,
       "flex_flow": null,
       "grid_area": null,
       "grid_auto_columns": null,
       "grid_auto_flow": null,
       "grid_auto_rows": null,
       "grid_column": null,
       "grid_gap": null,
       "grid_row": null,
       "grid_template_areas": null,
       "grid_template_columns": null,
       "grid_template_rows": null,
       "height": null,
       "justify_content": null,
       "justify_items": null,
       "left": null,
       "margin": null,
       "max_height": null,
       "max_width": null,
       "min_height": null,
       "min_width": null,
       "object_fit": null,
       "object_position": null,
       "order": null,
       "overflow": null,
       "overflow_x": null,
       "overflow_y": null,
       "padding": null,
       "right": null,
       "top": null,
       "visibility": null,
       "width": null
      }
     },
     "63f2e67c92aa4c9a886b177e902d3db9": {
      "model_module": "@jupyter-widgets/controls",
      "model_module_version": "1.5.0",
      "model_name": "FloatProgressModel",
      "state": {
       "_dom_classes": [],
       "_model_module": "@jupyter-widgets/controls",
       "_model_module_version": "1.5.0",
       "_model_name": "FloatProgressModel",
       "_view_count": null,
       "_view_module": "@jupyter-widgets/controls",
       "_view_module_version": "1.5.0",
       "_view_name": "ProgressView",
       "bar_style": "success",
       "description": "",
       "description_tooltip": null,
       "layout": "IPY_MODEL_eb72f211cf1b42719a7feed08729943e",
       "max": 1.0,
       "min": 0.0,
       "orientation": "horizontal",
       "style": "IPY_MODEL_c3fadc2fc5364b1ca8ca1236212add2a",
       "value": 1.0
      }
     },
     "68c0de32f98346d8b5582373c11fb92d": {
      "model_module": "@jupyter-widgets/controls",
      "model_module_version": "1.5.0",
      "model_name": "HTMLModel",
      "state": {
       "_dom_classes": [],
       "_model_module": "@jupyter-widgets/controls",
       "_model_module_version": "1.5.0",
       "_model_name": "HTMLModel",
       "_view_count": null,
       "_view_module": "@jupyter-widgets/controls",
       "_view_module_version": "1.5.0",
       "_view_name": "HTMLView",
       "description": "",
       "description_tooltip": null,
       "layout": "IPY_MODEL_e39f3f76d2b448cbb72505a349e63ff5",
       "placeholder": "​",
       "style": "IPY_MODEL_13a511e72f134bf1bc3f1b78760221f7",
       "value": " 1/1 [00:00&lt;00:00,  2.61it/s]"
      }
     },
     "6db7d5a7fad0411d9d51b0c4c8613b23": {
      "model_module": "@jupyter-widgets/controls",
      "model_module_version": "1.5.0",
      "model_name": "HTMLModel",
      "state": {
       "_dom_classes": [],
       "_model_module": "@jupyter-widgets/controls",
       "_model_module_version": "1.5.0",
       "_model_name": "HTMLModel",
       "_view_count": null,
       "_view_module": "@jupyter-widgets/controls",
       "_view_module_version": "1.5.0",
       "_view_name": "HTMLView",
       "description": "",
       "description_tooltip": null,
       "layout": "IPY_MODEL_426fb39935be4bcab2dbef914d35ac8e",
       "placeholder": "​",
       "style": "IPY_MODEL_501dad068397414c969722b77109d1ba",
       "value": "100%"
      }
     },
     "80900d4c8788486a82e674cd4ad83a2b": {
      "model_module": "@jupyter-widgets/base",
      "model_module_version": "1.2.0",
      "model_name": "LayoutModel",
      "state": {
       "_model_module": "@jupyter-widgets/base",
       "_model_module_version": "1.2.0",
       "_model_name": "LayoutModel",
       "_view_count": null,
       "_view_module": "@jupyter-widgets/base",
       "_view_module_version": "1.2.0",
       "_view_name": "LayoutView",
       "align_content": null,
       "align_items": null,
       "align_self": null,
       "border": null,
       "bottom": null,
       "display": null,
       "flex": null,
       "flex_flow": null,
       "grid_area": null,
       "grid_auto_columns": null,
       "grid_auto_flow": null,
       "grid_auto_rows": null,
       "grid_column": null,
       "grid_gap": null,
       "grid_row": null,
       "grid_template_areas": null,
       "grid_template_columns": null,
       "grid_template_rows": null,
       "height": null,
       "justify_content": null,
       "justify_items": null,
       "left": null,
       "margin": null,
       "max_height": null,
       "max_width": null,
       "min_height": null,
       "min_width": null,
       "object_fit": null,
       "object_position": null,
       "order": null,
       "overflow": null,
       "overflow_x": null,
       "overflow_y": null,
       "padding": null,
       "right": null,
       "top": null,
       "visibility": null,
       "width": null
      }
     },
     "81aee94702d14486a0ac4b27ef49058b": {
      "model_module": "@jupyter-widgets/controls",
      "model_module_version": "1.5.0",
      "model_name": "DescriptionStyleModel",
      "state": {
       "_model_module": "@jupyter-widgets/controls",
       "_model_module_version": "1.5.0",
       "_model_name": "DescriptionStyleModel",
       "_view_count": null,
       "_view_module": "@jupyter-widgets/base",
       "_view_module_version": "1.2.0",
       "_view_name": "StyleView",
       "description_width": ""
      }
     },
     "85c07dbb1b69404b8a4d52c23934b9de": {
      "model_module": "@jupyter-widgets/controls",
      "model_module_version": "1.5.0",
      "model_name": "DescriptionStyleModel",
      "state": {
       "_model_module": "@jupyter-widgets/controls",
       "_model_module_version": "1.5.0",
       "_model_name": "DescriptionStyleModel",
       "_view_count": null,
       "_view_module": "@jupyter-widgets/base",
       "_view_module_version": "1.2.0",
       "_view_name": "StyleView",
       "description_width": ""
      }
     },
     "9802f4a340be40db8b21cbfd280cb26b": {
      "model_module": "@jupyter-widgets/controls",
      "model_module_version": "1.5.0",
      "model_name": "HTMLModel",
      "state": {
       "_dom_classes": [],
       "_model_module": "@jupyter-widgets/controls",
       "_model_module_version": "1.5.0",
       "_model_name": "HTMLModel",
       "_view_count": null,
       "_view_module": "@jupyter-widgets/controls",
       "_view_module_version": "1.5.0",
       "_view_name": "HTMLView",
       "description": "",
       "description_tooltip": null,
       "layout": "IPY_MODEL_53d9593d69104b3e972ef6b98737fc32",
       "placeholder": "​",
       "style": "IPY_MODEL_85c07dbb1b69404b8a4d52c23934b9de",
       "value": " 1/1 [00:00&lt;00:00,  4.34it/s]"
      }
     },
     "9c519595324541f6bacdf4b8cc04bb47": {
      "model_module": "@jupyter-widgets/controls",
      "model_module_version": "1.5.0",
      "model_name": "HBoxModel",
      "state": {
       "_dom_classes": [],
       "_model_module": "@jupyter-widgets/controls",
       "_model_module_version": "1.5.0",
       "_model_name": "HBoxModel",
       "_view_count": null,
       "_view_module": "@jupyter-widgets/controls",
       "_view_module_version": "1.5.0",
       "_view_name": "HBoxView",
       "box_style": "",
       "children": [
        "IPY_MODEL_6db7d5a7fad0411d9d51b0c4c8613b23",
        "IPY_MODEL_63f2e67c92aa4c9a886b177e902d3db9",
        "IPY_MODEL_68c0de32f98346d8b5582373c11fb92d"
       ],
       "layout": "IPY_MODEL_036aaa024f7b4b9d8af5130a69875eee"
      }
     },
     "c3fadc2fc5364b1ca8ca1236212add2a": {
      "model_module": "@jupyter-widgets/controls",
      "model_module_version": "1.5.0",
      "model_name": "ProgressStyleModel",
      "state": {
       "_model_module": "@jupyter-widgets/controls",
       "_model_module_version": "1.5.0",
       "_model_name": "ProgressStyleModel",
       "_view_count": null,
       "_view_module": "@jupyter-widgets/base",
       "_view_module_version": "1.2.0",
       "_view_name": "StyleView",
       "bar_color": null,
       "description_width": ""
      }
     },
     "c8d8ee4c64cb4f769f146de4f9d21cd7": {
      "model_module": "@jupyter-widgets/base",
      "model_module_version": "1.2.0",
      "model_name": "LayoutModel",
      "state": {
       "_model_module": "@jupyter-widgets/base",
       "_model_module_version": "1.2.0",
       "_model_name": "LayoutModel",
       "_view_count": null,
       "_view_module": "@jupyter-widgets/base",
       "_view_module_version": "1.2.0",
       "_view_name": "LayoutView",
       "align_content": null,
       "align_items": null,
       "align_self": null,
       "border": null,
       "bottom": null,
       "display": null,
       "flex": null,
       "flex_flow": null,
       "grid_area": null,
       "grid_auto_columns": null,
       "grid_auto_flow": null,
       "grid_auto_rows": null,
       "grid_column": null,
       "grid_gap": null,
       "grid_row": null,
       "grid_template_areas": null,
       "grid_template_columns": null,
       "grid_template_rows": null,
       "height": null,
       "justify_content": null,
       "justify_items": null,
       "left": null,
       "margin": null,
       "max_height": null,
       "max_width": null,
       "min_height": null,
       "min_width": null,
       "object_fit": null,
       "object_position": null,
       "order": null,
       "overflow": null,
       "overflow_x": null,
       "overflow_y": null,
       "padding": null,
       "right": null,
       "top": null,
       "visibility": null,
       "width": null
      }
     },
     "e2cbc9977ef746d6810fe9c8cb26ce3b": {
      "model_module": "@jupyter-widgets/controls",
      "model_module_version": "1.5.0",
      "model_name": "HTMLModel",
      "state": {
       "_dom_classes": [],
       "_model_module": "@jupyter-widgets/controls",
       "_model_module_version": "1.5.0",
       "_model_name": "HTMLModel",
       "_view_count": null,
       "_view_module": "@jupyter-widgets/controls",
       "_view_module_version": "1.5.0",
       "_view_name": "HTMLView",
       "description": "",
       "description_tooltip": null,
       "layout": "IPY_MODEL_f7db4f75705145d5b21089164819bd14",
       "placeholder": "​",
       "style": "IPY_MODEL_24a8931628c847e9894601700aa29093",
       "value": "100%"
      }
     },
     "e39f3f76d2b448cbb72505a349e63ff5": {
      "model_module": "@jupyter-widgets/base",
      "model_module_version": "1.2.0",
      "model_name": "LayoutModel",
      "state": {
       "_model_module": "@jupyter-widgets/base",
       "_model_module_version": "1.2.0",
       "_model_name": "LayoutModel",
       "_view_count": null,
       "_view_module": "@jupyter-widgets/base",
       "_view_module_version": "1.2.0",
       "_view_name": "LayoutView",
       "align_content": null,
       "align_items": null,
       "align_self": null,
       "border": null,
       "bottom": null,
       "display": null,
       "flex": null,
       "flex_flow": null,
       "grid_area": null,
       "grid_auto_columns": null,
       "grid_auto_flow": null,
       "grid_auto_rows": null,
       "grid_column": null,
       "grid_gap": null,
       "grid_row": null,
       "grid_template_areas": null,
       "grid_template_columns": null,
       "grid_template_rows": null,
       "height": null,
       "justify_content": null,
       "justify_items": null,
       "left": null,
       "margin": null,
       "max_height": null,
       "max_width": null,
       "min_height": null,
       "min_width": null,
       "object_fit": null,
       "object_position": null,
       "order": null,
       "overflow": null,
       "overflow_x": null,
       "overflow_y": null,
       "padding": null,
       "right": null,
       "top": null,
       "visibility": null,
       "width": null
      }
     },
     "e4c4e09d26e340f89d5b83fed3c2ba2b": {
      "model_module": "@jupyter-widgets/base",
      "model_module_version": "1.2.0",
      "model_name": "LayoutModel",
      "state": {
       "_model_module": "@jupyter-widgets/base",
       "_model_module_version": "1.2.0",
       "_model_name": "LayoutModel",
       "_view_count": null,
       "_view_module": "@jupyter-widgets/base",
       "_view_module_version": "1.2.0",
       "_view_name": "LayoutView",
       "align_content": null,
       "align_items": null,
       "align_self": null,
       "border": null,
       "bottom": null,
       "display": null,
       "flex": null,
       "flex_flow": null,
       "grid_area": null,
       "grid_auto_columns": null,
       "grid_auto_flow": null,
       "grid_auto_rows": null,
       "grid_column": null,
       "grid_gap": null,
       "grid_row": null,
       "grid_template_areas": null,
       "grid_template_columns": null,
       "grid_template_rows": null,
       "height": null,
       "justify_content": null,
       "justify_items": null,
       "left": null,
       "margin": null,
       "max_height": null,
       "max_width": null,
       "min_height": null,
       "min_width": null,
       "object_fit": null,
       "object_position": null,
       "order": null,
       "overflow": null,
       "overflow_x": null,
       "overflow_y": null,
       "padding": null,
       "right": null,
       "top": null,
       "visibility": null,
       "width": null
      }
     },
     "ea3c2d8e19dc42c587254cf60dca67d9": {
      "model_module": "@jupyter-widgets/controls",
      "model_module_version": "1.5.0",
      "model_name": "HTMLModel",
      "state": {
       "_dom_classes": [],
       "_model_module": "@jupyter-widgets/controls",
       "_model_module_version": "1.5.0",
       "_model_name": "HTMLModel",
       "_view_count": null,
       "_view_module": "@jupyter-widgets/controls",
       "_view_module_version": "1.5.0",
       "_view_name": "HTMLView",
       "description": "",
       "description_tooltip": null,
       "layout": "IPY_MODEL_590cb9299a234be39aa6f66f7503befe",
       "placeholder": "​",
       "style": "IPY_MODEL_3fdb5b682e2847298f4b038f4efabb6e",
       "value": "100%"
      }
     },
     "ea9a8ef5c15f488eac7304ddcadc0114": {
      "model_module": "@jupyter-widgets/base",
      "model_module_version": "1.2.0",
      "model_name": "LayoutModel",
      "state": {
       "_model_module": "@jupyter-widgets/base",
       "_model_module_version": "1.2.0",
       "_model_name": "LayoutModel",
       "_view_count": null,
       "_view_module": "@jupyter-widgets/base",
       "_view_module_version": "1.2.0",
       "_view_name": "LayoutView",
       "align_content": null,
       "align_items": null,
       "align_self": null,
       "border": null,
       "bottom": null,
       "display": null,
       "flex": null,
       "flex_flow": null,
       "grid_area": null,
       "grid_auto_columns": null,
       "grid_auto_flow": null,
       "grid_auto_rows": null,
       "grid_column": null,
       "grid_gap": null,
       "grid_row": null,
       "grid_template_areas": null,
       "grid_template_columns": null,
       "grid_template_rows": null,
       "height": null,
       "justify_content": null,
       "justify_items": null,
       "left": null,
       "margin": null,
       "max_height": null,
       "max_width": null,
       "min_height": null,
       "min_width": null,
       "object_fit": null,
       "object_position": null,
       "order": null,
       "overflow": null,
       "overflow_x": null,
       "overflow_y": null,
       "padding": null,
       "right": null,
       "top": null,
       "visibility": null,
       "width": null
      }
     },
     "eb72f211cf1b42719a7feed08729943e": {
      "model_module": "@jupyter-widgets/base",
      "model_module_version": "1.2.0",
      "model_name": "LayoutModel",
      "state": {
       "_model_module": "@jupyter-widgets/base",
       "_model_module_version": "1.2.0",
       "_model_name": "LayoutModel",
       "_view_count": null,
       "_view_module": "@jupyter-widgets/base",
       "_view_module_version": "1.2.0",
       "_view_name": "LayoutView",
       "align_content": null,
       "align_items": null,
       "align_self": null,
       "border": null,
       "bottom": null,
       "display": null,
       "flex": null,
       "flex_flow": null,
       "grid_area": null,
       "grid_auto_columns": null,
       "grid_auto_flow": null,
       "grid_auto_rows": null,
       "grid_column": null,
       "grid_gap": null,
       "grid_row": null,
       "grid_template_areas": null,
       "grid_template_columns": null,
       "grid_template_rows": null,
       "height": null,
       "justify_content": null,
       "justify_items": null,
       "left": null,
       "margin": null,
       "max_height": null,
       "max_width": null,
       "min_height": null,
       "min_width": null,
       "object_fit": null,
       "object_position": null,
       "order": null,
       "overflow": null,
       "overflow_x": null,
       "overflow_y": null,
       "padding": null,
       "right": null,
       "top": null,
       "visibility": null,
       "width": null
      }
     },
     "f250683b963e473a9e643359b823ee38": {
      "model_module": "@jupyter-widgets/base",
      "model_module_version": "1.2.0",
      "model_name": "LayoutModel",
      "state": {
       "_model_module": "@jupyter-widgets/base",
       "_model_module_version": "1.2.0",
       "_model_name": "LayoutModel",
       "_view_count": null,
       "_view_module": "@jupyter-widgets/base",
       "_view_module_version": "1.2.0",
       "_view_name": "LayoutView",
       "align_content": null,
       "align_items": null,
       "align_self": null,
       "border": null,
       "bottom": null,
       "display": null,
       "flex": null,
       "flex_flow": null,
       "grid_area": null,
       "grid_auto_columns": null,
       "grid_auto_flow": null,
       "grid_auto_rows": null,
       "grid_column": null,
       "grid_gap": null,
       "grid_row": null,
       "grid_template_areas": null,
       "grid_template_columns": null,
       "grid_template_rows": null,
       "height": null,
       "justify_content": null,
       "justify_items": null,
       "left": null,
       "margin": null,
       "max_height": null,
       "max_width": null,
       "min_height": null,
       "min_width": null,
       "object_fit": null,
       "object_position": null,
       "order": null,
       "overflow": null,
       "overflow_x": null,
       "overflow_y": null,
       "padding": null,
       "right": null,
       "top": null,
       "visibility": null,
       "width": null
      }
     },
     "f65a7732c6ff475aa31f47156e6635b5": {
      "model_module": "@jupyter-widgets/controls",
      "model_module_version": "1.5.0",
      "model_name": "FloatProgressModel",
      "state": {
       "_dom_classes": [],
       "_model_module": "@jupyter-widgets/controls",
       "_model_module_version": "1.5.0",
       "_model_name": "FloatProgressModel",
       "_view_count": null,
       "_view_module": "@jupyter-widgets/controls",
       "_view_module_version": "1.5.0",
       "_view_name": "ProgressView",
       "bar_style": "success",
       "description": "",
       "description_tooltip": null,
       "layout": "IPY_MODEL_c8d8ee4c64cb4f769f146de4f9d21cd7",
       "max": 1.0,
       "min": 0.0,
       "orientation": "horizontal",
       "style": "IPY_MODEL_172b723d036b402e92e348a2be3e0e55",
       "value": 1.0
      }
     },
     "f7db4f75705145d5b21089164819bd14": {
      "model_module": "@jupyter-widgets/base",
      "model_module_version": "1.2.0",
      "model_name": "LayoutModel",
      "state": {
       "_model_module": "@jupyter-widgets/base",
       "_model_module_version": "1.2.0",
       "_model_name": "LayoutModel",
       "_view_count": null,
       "_view_module": "@jupyter-widgets/base",
       "_view_module_version": "1.2.0",
       "_view_name": "LayoutView",
       "align_content": null,
       "align_items": null,
       "align_self": null,
       "border": null,
       "bottom": null,
       "display": null,
       "flex": null,
       "flex_flow": null,
       "grid_area": null,
       "grid_auto_columns": null,
       "grid_auto_flow": null,
       "grid_auto_rows": null,
       "grid_column": null,
       "grid_gap": null,
       "grid_row": null,
       "grid_template_areas": null,
       "grid_template_columns": null,
       "grid_template_rows": null,
       "height": null,
       "justify_content": null,
       "justify_items": null,
       "left": null,
       "margin": null,
       "max_height": null,
       "max_width": null,
       "min_height": null,
       "min_width": null,
       "object_fit": null,
       "object_position": null,
       "order": null,
       "overflow": null,
       "overflow_x": null,
       "overflow_y": null,
       "padding": null,
       "right": null,
       "top": null,
       "visibility": null,
       "width": null
      }
     },
     "fb8f115abc8e4dc38f297600cf4d9b27": {
      "model_module": "@jupyter-widgets/controls",
      "model_module_version": "1.5.0",
      "model_name": "ProgressStyleModel",
      "state": {
       "_model_module": "@jupyter-widgets/controls",
       "_model_module_version": "1.5.0",
       "_model_name": "ProgressStyleModel",
       "_view_count": null,
       "_view_module": "@jupyter-widgets/base",
       "_view_module_version": "1.2.0",
       "_view_name": "StyleView",
       "bar_color": null,
       "description_width": ""
      }
     }
    },
    "version_major": 2,
    "version_minor": 0
   }
  }
 },
 "nbformat": 4,
 "nbformat_minor": 5
}
