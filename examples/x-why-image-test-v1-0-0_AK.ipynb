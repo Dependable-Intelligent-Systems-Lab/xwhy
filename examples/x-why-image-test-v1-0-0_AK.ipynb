{
 "cells": [
  {
   "cell_type": "code",
   "execution_count": null,
   "id": "d5a89870",
   "metadata": {
    "_cell_guid": "b1076dfc-b9ad-4769-8c92-a6c4dae69d19",
    "_uuid": "8f2839f25d086af736a60e9eeb907d3b93b6e0e5",
    "execution": {
     "iopub.execute_input": "2021-08-25T19:56:51.330288Z",
     "iopub.status.busy": "2021-08-25T19:56:51.329078Z",
     "iopub.status.idle": "2021-08-25T19:57:00.036702Z",
     "shell.execute_reply": "2021-08-25T19:57:00.035971Z",
     "shell.execute_reply.started": "2021-08-25T14:01:45.343840Z"
    },
    "papermill": {
     "duration": 8.734478,
     "end_time": "2021-08-25T19:57:00.036882",
     "exception": false,
     "start_time": "2021-08-25T19:56:51.302404",
     "status": "completed"
    },
    "tags": []
   },
   "outputs": [],
   "source": [
    "#%tensorflow_version 1.x\n",
    "import numpy as np\n",
    "from tensorflow import keras\n",
    "from tensorflow.keras.applications.imagenet_utils import decode_predictions\n",
    "import skimage.io \n",
    "import skimage.segmentation\n",
    "import copy\n",
    "import sklearn\n",
    "import sklearn.metrics\n",
    "from sklearn.linear_model import LinearRegression\n",
    "import warnings\n",
    "\n",
    "print('Notebook running: keras ', keras.__version__)\n",
    "np.random.seed(222)"
   ]
  },
  {
   "cell_type": "code",
   "execution_count": null,
   "id": "0a81e360",
   "metadata": {
    "execution": {
     "iopub.execute_input": "2021-08-25T19:57:00.094323Z",
     "iopub.status.busy": "2021-08-25T19:57:00.093425Z",
     "iopub.status.idle": "2021-08-25T19:57:03.148067Z",
     "shell.execute_reply": "2021-08-25T19:57:03.147343Z",
     "shell.execute_reply.started": "2021-08-25T14:01:54.028292Z"
    },
    "papermill": {
     "duration": 3.085934,
     "end_time": "2021-08-25T19:57:03.148233",
     "exception": false,
     "start_time": "2021-08-25T19:57:00.062299",
     "status": "completed"
    },
    "tags": []
   },
   "outputs": [],
   "source": [
    "warnings.filterwarnings('ignore') \n",
    "inceptionV3_model = keras.applications.inception_v3.InceptionV3() #Load pretrained model\n",
    "#inceptionV3_model.summary()"
   ]
  },
  {
   "cell_type": "code",
   "execution_count": null,
   "id": "d8fb2caf",
   "metadata": {
    "execution": {
     "iopub.execute_input": "2021-08-25T19:57:03.218580Z",
     "iopub.status.busy": "2021-08-25T19:57:03.217863Z",
     "iopub.status.idle": "2021-08-25T19:57:03.744008Z",
     "shell.execute_reply": "2021-08-25T19:57:03.744553Z",
     "shell.execute_reply.started": "2021-08-25T14:01:57.513474Z"
    },
    "papermill": {
     "duration": 0.565465,
     "end_time": "2021-08-25T19:57:03.744724",
     "exception": false,
     "start_time": "2021-08-25T19:57:03.179259",
     "status": "completed"
    },
    "tags": []
   },
   "outputs": [],
   "source": [
    "Xi = skimage.io.imread(\"https://arteagac.github.io/blog/lime_image/img/cat-and-dog.jpg\")\n",
    "Xi = skimage.transform.resize(Xi, (299,299)) \n",
    "Xi = (Xi - 0.5)*2 #Inception pre-processing\n",
    "skimage.io.imshow(Xi/2+0.5) # Show image before inception preprocessing"
   ]
  },
  {
   "cell_type": "code",
   "execution_count": null,
   "id": "d2d1872b",
   "metadata": {
    "execution": {
     "iopub.execute_input": "2021-08-25T19:57:03.813134Z",
     "iopub.status.busy": "2021-08-25T19:57:03.812415Z",
     "iopub.status.idle": "2021-08-25T19:57:05.601702Z",
     "shell.execute_reply": "2021-08-25T19:57:05.602229Z",
     "shell.execute_reply.started": "2021-08-25T14:01:58.046981Z"
    },
    "papermill": {
     "duration": 1.826929,
     "end_time": "2021-08-25T19:57:05.602417",
     "exception": false,
     "start_time": "2021-08-25T19:57:03.775488",
     "status": "completed"
    },
    "tags": []
   },
   "outputs": [],
   "source": [
    "np.random.seed(222)\n",
    "preds = inceptionV3_model.predict(Xi[np.newaxis,:,:,:])\n",
    "decode_predictions(preds)[0] #Top 5 classes"
   ]
  },
  {
   "cell_type": "code",
   "execution_count": null,
   "id": "ba1ad20d",
   "metadata": {
    "execution": {
     "iopub.execute_input": "2021-08-25T19:57:05.672899Z",
     "iopub.status.busy": "2021-08-25T19:57:05.671934Z",
     "iopub.status.idle": "2021-08-25T19:57:05.676785Z",
     "shell.execute_reply": "2021-08-25T19:57:05.676239Z",
     "shell.execute_reply.started": "2021-08-25T14:01:59.967398Z"
    },
    "papermill": {
     "duration": 0.042714,
     "end_time": "2021-08-25T19:57:05.676927",
     "exception": false,
     "start_time": "2021-08-25T19:57:05.634213",
     "status": "completed"
    },
    "tags": []
   },
   "outputs": [],
   "source": [
    "top_pred_classes = preds[0].argsort()[-5:][::-1]\n",
    "top_pred_classes                #Index of top 5 classes"
   ]
  },
  {
   "cell_type": "code",
   "execution_count": null,
   "id": "b7dd3946",
   "metadata": {
    "execution": {
     "iopub.execute_input": "2021-08-25T19:57:05.743872Z",
     "iopub.status.busy": "2021-08-25T19:57:05.743197Z",
     "iopub.status.idle": "2021-08-25T19:57:07.360068Z",
     "shell.execute_reply": "2021-08-25T19:57:07.360814Z",
     "shell.execute_reply.started": "2021-08-25T14:01:59.979378Z"
    },
    "papermill": {
     "duration": 1.652166,
     "end_time": "2021-08-25T19:57:07.361006",
     "exception": false,
     "start_time": "2021-08-25T19:57:05.708840",
     "status": "completed"
    },
    "tags": []
   },
   "outputs": [],
   "source": [
    "superpixels = skimage.segmentation.quickshift(Xi, kernel_size=4,max_dist=200, ratio=0.2)\n",
    "num_superpixels = np.unique(superpixels).shape[0]\n",
    "num_superpixels"
   ]
  },
  {
   "cell_type": "code",
   "execution_count": null,
   "id": "7c7b0e2d",
   "metadata": {
    "execution": {
     "iopub.execute_input": "2021-08-25T19:57:07.430319Z",
     "iopub.status.busy": "2021-08-25T19:57:07.429635Z",
     "iopub.status.idle": "2021-08-25T19:57:07.437553Z",
     "shell.execute_reply": "2021-08-25T19:57:07.436995Z",
     "shell.execute_reply.started": "2021-08-25T14:02:01.898801Z"
    },
    "papermill": {
     "duration": 0.043722,
     "end_time": "2021-08-25T19:57:07.437697",
     "exception": false,
     "start_time": "2021-08-25T19:57:07.393975",
     "status": "completed"
    },
    "tags": []
   },
   "outputs": [],
   "source": [
    "Xi.shape"
   ]
  },
  {
   "cell_type": "code",
   "execution_count": null,
   "id": "26fc82ce",
   "metadata": {
    "execution": {
     "iopub.execute_input": "2021-08-25T19:57:07.510401Z",
     "iopub.status.busy": "2021-08-25T19:57:07.509713Z",
     "iopub.status.idle": "2021-08-25T19:57:07.517510Z",
     "shell.execute_reply": "2021-08-25T19:57:07.518071Z",
     "shell.execute_reply.started": "2021-08-25T14:02:01.909827Z"
    },
    "papermill": {
     "duration": 0.047409,
     "end_time": "2021-08-25T19:57:07.518332",
     "exception": false,
     "start_time": "2021-08-25T19:57:07.470923",
     "status": "completed"
    },
    "tags": []
   },
   "outputs": [],
   "source": [
    "np.unique(superpixels)"
   ]
  },
  {
   "cell_type": "code",
   "execution_count": null,
   "id": "45739dec",
   "metadata": {
    "execution": {
     "iopub.execute_input": "2021-08-25T19:57:07.593786Z",
     "iopub.status.busy": "2021-08-25T19:57:07.592760Z",
     "iopub.status.idle": "2021-08-25T19:57:07.857130Z",
     "shell.execute_reply": "2021-08-25T19:57:07.857664Z",
     "shell.execute_reply.started": "2021-08-25T14:02:01.924071Z"
    },
    "papermill": {
     "duration": 0.30455,
     "end_time": "2021-08-25T19:57:07.857840",
     "exception": false,
     "start_time": "2021-08-25T19:57:07.553290",
     "status": "completed"
    },
    "tags": []
   },
   "outputs": [],
   "source": [
    "skimage.io.imshow(skimage.segmentation.mark_boundaries(Xi/2+0.5, superpixels))"
   ]
  },
  {
   "cell_type": "code",
   "execution_count": null,
   "id": "7c31441d",
   "metadata": {
    "execution": {
     "iopub.execute_input": "2021-08-25T19:57:07.940873Z",
     "iopub.status.busy": "2021-08-25T19:57:07.940215Z",
     "iopub.status.idle": "2021-08-25T19:57:07.945942Z",
     "shell.execute_reply": "2021-08-25T19:57:07.945397Z",
     "shell.execute_reply.started": "2021-08-25T14:02:02.158426Z"
    },
    "papermill": {
     "duration": 0.049338,
     "end_time": "2021-08-25T19:57:07.946107",
     "exception": false,
     "start_time": "2021-08-25T19:57:07.896769",
     "status": "completed"
    },
    "tags": []
   },
   "outputs": [],
   "source": [
    "num_perturb = 150\n",
    "perturbations = np.random.binomial(1, 0.5, size=(num_perturb, num_superpixels))\n",
    "perturbations[0] #Show example of perturbation"
   ]
  },
  {
   "cell_type": "code",
   "execution_count": null,
   "id": "a10e2791",
   "metadata": {
    "execution": {
     "iopub.execute_input": "2021-08-25T19:57:08.033824Z",
     "iopub.status.busy": "2021-08-25T19:57:08.033124Z",
     "iopub.status.idle": "2021-08-25T19:57:08.035197Z",
     "shell.execute_reply": "2021-08-25T19:57:08.035673Z",
     "shell.execute_reply.started": "2021-08-25T14:02:02.168009Z"
    },
    "papermill": {
     "duration": 0.050617,
     "end_time": "2021-08-25T19:57:08.035853",
     "exception": false,
     "start_time": "2021-08-25T19:57:07.985236",
     "status": "completed"
    },
    "tags": []
   },
   "outputs": [],
   "source": [
    "def perturb_image(img,perturbation,segments):\n",
    "    active_pixels = np.where(perturbation == 1)[0]\n",
    "    mask = np.zeros(segments.shape)\n",
    "    for active in active_pixels:\n",
    "          mask[segments == active] = 1 \n",
    "    perturbed_image = copy.deepcopy(img)\n",
    "    perturbed_image = perturbed_image*mask[:,:,np.newaxis]\n",
    "    return perturbed_image"
   ]
  },
  {
   "cell_type": "code",
   "execution_count": null,
   "id": "a77e543c",
   "metadata": {
    "execution": {
     "iopub.execute_input": "2021-08-25T19:57:08.120583Z",
     "iopub.status.busy": "2021-08-25T19:57:08.119907Z",
     "iopub.status.idle": "2021-08-25T19:57:08.329898Z",
     "shell.execute_reply": "2021-08-25T19:57:08.329332Z",
     "shell.execute_reply.started": "2021-08-25T14:02:02.180186Z"
    },
    "papermill": {
     "duration": 0.252735,
     "end_time": "2021-08-25T19:57:08.330054",
     "exception": false,
     "start_time": "2021-08-25T19:57:08.077319",
     "status": "completed"
    },
    "tags": []
   },
   "outputs": [],
   "source": [
    "skimage.io.imshow(perturb_image(Xi/2+0.5,perturbations[0],superpixels))"
   ]
  },
  {
   "cell_type": "code",
   "execution_count": null,
   "id": "5d05ddd1",
   "metadata": {
    "execution": {
     "iopub.execute_input": "2021-08-25T19:57:08.422482Z",
     "iopub.status.busy": "2021-08-25T19:57:08.421371Z",
     "iopub.status.idle": "2021-08-25T19:57:33.163664Z",
     "shell.execute_reply": "2021-08-25T19:57:33.162572Z",
     "shell.execute_reply.started": "2021-08-25T14:02:02.436616Z"
    },
    "papermill": {
     "duration": 24.790052,
     "end_time": "2021-08-25T19:57:33.163824",
     "exception": false,
     "start_time": "2021-08-25T19:57:08.373772",
     "status": "completed"
    },
    "tags": []
   },
   "outputs": [],
   "source": [
    "predictions = []\n",
    "for pert in perturbations:\n",
    "    perturbed_img = perturb_image(Xi,pert,superpixels)\n",
    "    pred = inceptionV3_model.predict(perturbed_img[np.newaxis,:,:,:])\n",
    "    predictions.append(pred)\n",
    "\n",
    "predictions = np.array(predictions)\n",
    "predictions.shape"
   ]
  },
  {
   "cell_type": "code",
   "execution_count": null,
   "id": "ad268ed3",
   "metadata": {
    "execution": {
     "iopub.execute_input": "2021-08-25T19:57:33.263973Z",
     "iopub.status.busy": "2021-08-25T19:57:33.262847Z",
     "iopub.status.idle": "2021-08-25T19:57:33.269943Z",
     "shell.execute_reply": "2021-08-25T19:57:33.270753Z",
     "shell.execute_reply.started": "2021-08-25T14:02:26.719362Z"
    },
    "papermill": {
     "duration": 0.064497,
     "end_time": "2021-08-25T19:57:33.271048",
     "exception": false,
     "start_time": "2021-08-25T19:57:33.206551",
     "status": "completed"
    },
    "tags": []
   },
   "outputs": [],
   "source": [
    "original_image = np.ones(num_superpixels)[np.newaxis,:] #Perturbation with all superpixels enabled \n",
    "distances = sklearn.metrics.pairwise_distances(perturbations,original_image, metric='cosine').ravel()\n",
    "distances.shape"
   ]
  },
  {
   "cell_type": "code",
   "execution_count": null,
   "id": "c0fb079c",
   "metadata": {
    "execution": {
     "iopub.execute_input": "2021-08-25T19:57:33.410440Z",
     "iopub.status.busy": "2021-08-25T19:57:33.409587Z",
     "iopub.status.idle": "2021-08-25T19:57:33.413141Z",
     "shell.execute_reply": "2021-08-25T19:57:33.413628Z",
     "shell.execute_reply.started": "2021-08-25T14:02:26.739385Z"
    },
    "papermill": {
     "duration": 0.065972,
     "end_time": "2021-08-25T19:57:33.413792",
     "exception": false,
     "start_time": "2021-08-25T19:57:33.347820",
     "status": "completed"
    },
    "tags": []
   },
   "outputs": [],
   "source": [
    "kernel_width = 0.25\n",
    "weights = np.sqrt(np.exp(-(distances**2)/kernel_width**2)) #Kernel function\n",
    "weights.shape"
   ]
  },
  {
   "cell_type": "code",
   "execution_count": null,
   "id": "a6087c0f",
   "metadata": {
    "execution": {
     "iopub.execute_input": "2021-08-25T19:57:33.506478Z",
     "iopub.status.busy": "2021-08-25T19:57:33.505572Z",
     "iopub.status.idle": "2021-08-25T19:57:33.573339Z",
     "shell.execute_reply": "2021-08-25T19:57:33.573995Z",
     "shell.execute_reply.started": "2021-08-25T14:02:26.760488Z"
    },
    "papermill": {
     "duration": 0.117216,
     "end_time": "2021-08-25T19:57:33.574181",
     "exception": false,
     "start_time": "2021-08-25T19:57:33.456965",
     "status": "completed"
    },
    "tags": []
   },
   "outputs": [],
   "source": [
    "class_to_explain = top_pred_classes[0]\n",
    "simpler_model = LinearRegression()\n",
    "simpler_model.fit(X=perturbations, y=predictions[:,:,class_to_explain], sample_weight=weights)\n",
    "coeff = simpler_model.coef_[0]\n",
    "coeff"
   ]
  },
  {
   "cell_type": "code",
   "execution_count": null,
   "id": "1ab16430",
   "metadata": {
    "execution": {
     "iopub.execute_input": "2021-08-25T19:57:33.665370Z",
     "iopub.status.busy": "2021-08-25T19:57:33.664712Z",
     "iopub.status.idle": "2021-08-25T19:57:33.670223Z",
     "shell.execute_reply": "2021-08-25T19:57:33.670804Z",
     "shell.execute_reply.started": "2021-08-25T14:02:26.874581Z"
    },
    "papermill": {
     "duration": 0.053005,
     "end_time": "2021-08-25T19:57:33.670970",
     "exception": false,
     "start_time": "2021-08-25T19:57:33.617965",
     "status": "completed"
    },
    "tags": []
   },
   "outputs": [],
   "source": [
    "num_top_features = 4\n",
    "top_features = np.argsort(coeff)[-num_top_features:] \n",
    "top_features"
   ]
  },
  {
   "cell_type": "code",
   "execution_count": null,
   "id": "16d78c38",
   "metadata": {
    "execution": {
     "iopub.execute_input": "2021-08-25T19:57:33.762241Z",
     "iopub.status.busy": "2021-08-25T19:57:33.761521Z",
     "iopub.status.idle": "2021-08-25T19:57:33.961233Z",
     "shell.execute_reply": "2021-08-25T19:57:33.960652Z",
     "shell.execute_reply.started": "2021-08-25T14:02:26.883974Z"
    },
    "papermill": {
     "duration": 0.246639,
     "end_time": "2021-08-25T19:57:33.961379",
     "exception": false,
     "start_time": "2021-08-25T19:57:33.714740",
     "status": "completed"
    },
    "tags": []
   },
   "outputs": [],
   "source": [
    "mask = np.zeros(num_superpixels) \n",
    "mask[top_features]= True #Activate top superpixels\n",
    "skimage.io.imshow(perturb_image(Xi/2+0.5,mask,superpixels) )"
   ]
  },
  {
   "cell_type": "code",
   "execution_count": null,
   "id": "76616c91",
   "metadata": {
    "execution": {
     "iopub.execute_input": "2021-08-25T19:57:34.058080Z",
     "iopub.status.busy": "2021-08-25T19:57:34.057162Z",
     "iopub.status.idle": "2021-08-25T19:58:00.557216Z",
     "shell.execute_reply": "2021-08-25T19:58:00.556631Z",
     "shell.execute_reply.started": "2021-08-25T14:02:27.132994Z"
    },
    "papermill": {
     "duration": 26.550022,
     "end_time": "2021-08-25T19:58:00.557360",
     "exception": false,
     "start_time": "2021-08-25T19:57:34.007338",
     "status": "completed"
    },
    "tags": []
   },
   "outputs": [],
   "source": [
    "def xwhy_image(X_input, model, num_perturb = 150, kernel_width = 0.25):\n",
    "    \n",
    "    superpixels = skimage.segmentation.quickshift(Xi, kernel_size=4,max_dist=200, ratio=0.2)\n",
    "    num_superpixels = np.unique(superpixels).shape[0]\n",
    "    perturbations = np.random.binomial(1, 0.5, size=(num_perturb, num_superpixels))\n",
    "    \n",
    "    def perturb_image(img,perturbation,segments):\n",
    "        active_pixels = np.where(perturbation == 1)[0]\n",
    "        mask = np.zeros(segments.shape)\n",
    "        for active in active_pixels:\n",
    "              mask[segments == active] = 1 \n",
    "        perturbed_image = copy.deepcopy(img)\n",
    "        perturbed_image = perturbed_image*mask[:,:,np.newaxis]\n",
    "        return perturbed_image\n",
    "    \n",
    "    predictions = []\n",
    "    for pert in perturbations:\n",
    "        perturbed_img = perturb_image(Xi,pert,superpixels)\n",
    "        pred = inceptionV3_model.predict(perturbed_img[np.newaxis,:,:,:])\n",
    "        predictions.append(pred)\n",
    "\n",
    "    predictions = np.array(predictions)\n",
    "    \n",
    "    original_image = np.ones(num_superpixels)[np.newaxis,:] #Perturbation with all superpixels enabled \n",
    "    distances = sklearn.metrics.pairwise_distances(perturbations,original_image, metric='cosine').ravel()\n",
    "    \n",
    "    weights = np.sqrt(np.exp(-(distances**2)/kernel_width**2)) #Kernel function\n",
    "    \n",
    "    class_to_explain = top_pred_classes[0]\n",
    "    simpler_model = LinearRegression()\n",
    "    simpler_model.fit(X=perturbations, y=predictions[:,:,class_to_explain], sample_weight=weights)\n",
    "    coeff = simpler_model.coef_[0]\n",
    "        \n",
    "    return coeff, perturbations\n",
    "\n",
    "coeff, perturbations = xwhy_image(Xi, model=inceptionV3_model)\n",
    "\n",
    "num_top_features = 4\n",
    "top_features = np.argsort(coeff)[-num_top_features:] \n",
    "mask = np.zeros(num_superpixels) \n",
    "mask[top_features]= True #Activate top superpixels\n",
    "skimage.io.imshow(perturb_image(Xi/2+0.5,mask,superpixels) )"
   ]
  },
  {
   "cell_type": "code",
   "execution_count": null,
   "id": "8d82b7ea",
   "metadata": {
    "execution": {
     "iopub.execute_input": "2021-08-25T19:58:00.657292Z",
     "iopub.status.busy": "2021-08-25T19:58:00.656584Z",
     "iopub.status.idle": "2021-08-25T20:03:20.143395Z",
     "shell.execute_reply": "2021-08-25T20:03:20.142675Z",
     "shell.execute_reply.started": "2021-08-25T14:02:54.203335Z"
    },
    "papermill": {
     "duration": 319.536399,
     "end_time": "2021-08-25T20:03:20.143548",
     "exception": false,
     "start_time": "2021-08-25T19:58:00.607149",
     "status": "completed"
    },
    "tags": []
   },
   "outputs": [],
   "source": [
    "def Wasserstein_Dist(XX, YY):\n",
    "  \n",
    "    import numpy as np\n",
    "    nx = len(XX)\n",
    "    ny = len(YY)\n",
    "    n = nx + ny\n",
    "\n",
    "    XY = np.concatenate([XX,YY])\n",
    "    X2 = np.concatenate([np.repeat(1/nx, nx), np.repeat(0, ny)])\n",
    "    Y2 = np.concatenate([np.repeat(0, nx), np.repeat(1/ny, ny)])\n",
    "\n",
    "    S_Ind = np.argsort(XY)\n",
    "    XY_Sorted = XY[S_Ind]\n",
    "    X2_Sorted = X2[S_Ind]\n",
    "    Y2_Sorted = Y2[S_Ind]\n",
    "\n",
    "    Res = 0\n",
    "    E_CDF = 0\n",
    "    F_CDF = 0\n",
    "    power = 1\n",
    "\n",
    "    for ii in range(0, n-2):\n",
    "        E_CDF = E_CDF + X2_Sorted[ii]\n",
    "        F_CDF = F_CDF + Y2_Sorted[ii]\n",
    "        height = abs(F_CDF-E_CDF)\n",
    "        width = XY_Sorted[ii+1] - XY_Sorted[ii]\n",
    "        Res = Res + (height ** power) * width;  \n",
    " \n",
    "    return Res\n",
    "\n",
    "def  Wasserstein_Dist_PVal(XX, YY):\n",
    "    # Information about Bootstrap: \n",
    "    # https://towardsdatascience.com/an-introduction-to-the-bootstrap-method-58bcb51b4d60\n",
    "    import random\n",
    "    nboots = 1000\n",
    "    WD = Wasserstein_Dist(XX,YY)\n",
    "    na = len(XX)\n",
    "    nb = len(YY)\n",
    "    n = na + nb\n",
    "    comb = np.concatenate([XX,YY])\n",
    "    reps = 0\n",
    "    bigger = 0\n",
    "    for ii in range(1, nboots):\n",
    "        e = random.sample(range(n), na)\n",
    "        f = random.sample(range(n), nb)\n",
    "        boost_WD = Wasserstein_Dist(comb[e],comb[f]);\n",
    "        if (boost_WD > WD):\n",
    "            bigger = 1 + bigger\n",
    "            \n",
    "    pVal = bigger/nboots;\n",
    "\n",
    "    return pVal, WD\n",
    "\n",
    "def Wasserstein_Dist_Image(img1, img2):\n",
    "    if img1.shape[0] != img2.shape[0] or img1.shape[1] != img2.shape[1]:\n",
    "        pritn('input images should have the same size')\n",
    "    else:\n",
    "        WD = []\n",
    "        for ii in range(3):\n",
    "            \n",
    "            im1 = np.array(img1[:,:,ii].flatten())\n",
    "            im2 = np.array(img2[:,:,ii].flatten())\n",
    "\n",
    "            WD.append(Wasserstein_Dist(im1, im2))\n",
    "            \n",
    "    return sum(WD)\n",
    "  \n",
    "def xwhy_image2(X_input, model, perturbations=perturbations, num_perturb = 150, kernel_width = 0.25):\n",
    "    \n",
    "    superpixels = skimage.segmentation.quickshift(Xi, kernel_size=4,max_dist=200, ratio=0.2)\n",
    "    num_superpixels = np.unique(superpixels).shape[0]\n",
    "    #perturbations = np.random.binomial(1, 0.5, size=(num_perturb, num_superpixels))\n",
    "    \n",
    "    \n",
    "    def perturb_image(img,perturbation,segments):\n",
    "        active_pixels = np.where(perturbation == 1)[0]\n",
    "        mask = np.zeros(segments.shape)\n",
    "        for active in active_pixels:\n",
    "              mask[segments == active] = 1 \n",
    "        perturbed_image = copy.deepcopy(img)\n",
    "        perturbed_image = perturbed_image*mask[:,:,np.newaxis]\n",
    "        return perturbed_image\n",
    "    \n",
    "    predictions = []\n",
    "    WD_dist = []\n",
    "    for pert in perturbations:\n",
    "        perturbed_img = perturb_image(Xi,pert,superpixels)\n",
    "        pred = inceptionV3_model.predict(perturbed_img[np.newaxis,:,:,:])\n",
    "        predictions.append(pred)\n",
    "        WD_dist = Wasserstein_Dist_Image(Xi, perturbed_img)\n",
    "        \n",
    "\n",
    "    predictions = np.array(predictions)\n",
    "    \n",
    "    original_image = np.ones(num_superpixels)[np.newaxis,:] #Perturbation with all superpixels enabled \n",
    "    # distances = sklearn.metrics.pairwise_distances(perturbations,original_image, metric='cosine').ravel()\n",
    "    \n",
    "    \n",
    "    weights = np.sqrt(np.exp(-(WD_dist**2)/kernel_width**2)) #Kernel function\n",
    "    \n",
    "    class_to_explain = top_pred_classes[0]\n",
    "    simpler_model = LinearRegression()\n",
    "    simpler_model.fit(X=perturbations, y=predictions[:,:,class_to_explain], sample_weight=weights)\n",
    "    coeff = simpler_model.coef_[0]\n",
    "        \n",
    "    return coeff\n",
    "\n",
    "coeff = xwhy_image2(Xi, model=inceptionV3_model)\n",
    "\n",
    "num_top_features = 4\n",
    "top_features = np.argsort(coeff)[-num_top_features:] \n",
    "mask = np.zeros(num_superpixels) \n",
    "mask[top_features]= True #Activate top superpixels\n",
    "skimage.io.imshow(perturb_image(Xi/2+0.5,mask,superpixels) )"
   ]
  },
  {
   "cell_type": "code",
   "execution_count": null,
   "id": "4ac882bf",
   "metadata": {
    "execution": {
     "iopub.execute_input": "2021-08-25T20:03:20.249709Z",
     "iopub.status.busy": "2021-08-25T20:03:20.248935Z",
     "iopub.status.idle": "2021-08-25T20:03:20.606567Z",
     "shell.execute_reply": "2021-08-25T20:03:20.605955Z",
     "shell.execute_reply.started": "2021-08-25T14:08:11.677368Z"
    },
    "papermill": {
     "duration": 0.413355,
     "end_time": "2021-08-25T20:03:20.606707",
     "exception": false,
     "start_time": "2021-08-25T20:03:20.193352",
     "status": "completed"
    },
    "tags": []
   },
   "outputs": [],
   "source": [
    "Xi = skimage.io.imread(\"/data3/Akram/Projects/xwhy/LIME_Img_ex.JPG\")\n",
    "Xi = skimage.transform.resize(Xi, (299,299)) \n",
    "Xi = (Xi - 0.5)*2 #Inception pre-processing\n",
    "skimage.io.imshow(Xi/2+0.5) # Show image before inception preprocessing"
   ]
  },
  {
   "cell_type": "code",
   "execution_count": null,
   "id": "79d067d3",
   "metadata": {
    "execution": {
     "iopub.execute_input": "2021-08-25T20:03:20.717228Z",
     "iopub.status.busy": "2021-08-25T20:03:20.716554Z",
     "iopub.status.idle": "2021-08-25T20:03:47.155444Z",
     "shell.execute_reply": "2021-08-25T20:03:47.154897Z",
     "shell.execute_reply.started": "2021-08-25T14:08:12.055581Z"
    },
    "papermill": {
     "duration": 26.494528,
     "end_time": "2021-08-25T20:03:47.155594",
     "exception": false,
     "start_time": "2021-08-25T20:03:20.661066",
     "status": "completed"
    },
    "tags": []
   },
   "outputs": [],
   "source": [
    "coeff, perturbations = xwhy_image(Xi, model=inceptionV3_model)\n",
    "\n",
    "num_top_features = 4\n",
    "top_features = np.argsort(coeff)[-num_top_features:] \n",
    "mask = np.zeros(num_superpixels) \n",
    "mask[top_features]= True #Activate top superpixels\n",
    "skimage.io.imshow(perturb_image(Xi/2+0.5,mask,superpixels) )"
   ]
  },
  {
   "cell_type": "code",
   "execution_count": null,
   "id": "32315203",
   "metadata": {
    "execution": {
     "iopub.execute_input": "2021-08-25T20:03:47.270410Z",
     "iopub.status.busy": "2021-08-25T20:03:47.269694Z",
     "iopub.status.idle": "2021-08-25T20:09:04.611972Z",
     "shell.execute_reply": "2021-08-25T20:09:04.611320Z",
     "shell.execute_reply.started": "2021-08-25T14:08:39.202517Z"
    },
    "papermill": {
     "duration": 317.402782,
     "end_time": "2021-08-25T20:09:04.612146",
     "exception": false,
     "start_time": "2021-08-25T20:03:47.209364",
     "status": "completed"
    },
    "tags": []
   },
   "outputs": [],
   "source": [
    "coeff = xwhy_image2(Xi, model=inceptionV3_model)\n",
    "\n",
    "num_top_features = 4\n",
    "top_features = np.argsort(coeff)[-num_top_features:] \n",
    "mask = np.zeros(num_superpixels) \n",
    "mask[top_features]= True #Activate top superpixels\n",
    "skimage.io.imshow(perturb_image(Xi/2+0.5,mask,superpixels) )"
   ]
  },
  {
   "cell_type": "markdown",
   "id": "a01757e1",
   "metadata": {
    "papermill": {
     "duration": 0.05452,
     "end_time": "2021-08-25T20:09:04.722417",
     "exception": false,
     "start_time": "2021-08-25T20:09:04.667897",
     "status": "completed"
    },
    "tags": []
   },
   "source": [
    "## MNIST - Comparison to other Approaches\n",
    "For model-specific approaches like LRP, [innvestigate pacakge](https://github.com/albermax/innvestigate/blob/master/examples/notebooks/mnist_compare_methods.ipynb) notebook is used."
   ]
  },
  {
   "cell_type": "code",
   "execution_count": null,
   "id": "d82e5347",
   "metadata": {
    "execution": {
     "iopub.execute_input": "2021-08-25T20:09:04.844636Z",
     "iopub.status.busy": "2021-08-25T20:09:04.843940Z",
     "iopub.status.idle": "2021-08-25T20:36:49.238239Z",
     "shell.execute_reply": "2021-08-25T20:36:49.239007Z"
    },
    "papermill": {
     "duration": 1664.461619,
     "end_time": "2021-08-25T20:36:49.239313",
     "exception": false,
     "start_time": "2021-08-25T20:09:04.777694",
     "status": "completed"
    },
    "tags": []
   },
   "outputs": [],
   "source": [
    "# Source: https://www.kaggle.com/kooaslansefat/evidential-deep-learning-reliability\n",
    "import numpy as np\n",
    "from tensorflow import keras\n",
    "from tensorflow.keras import layers\n",
    "from scipy import ndimage\n",
    "import matplotlib.pyplot as plt\n",
    "import cv2\n",
    "import tensorflow as tf\n",
    "from tensorflow.keras import backend as K\n",
    "\n",
    "from scipy import stats\n",
    "\n",
    "import warnings\n",
    "warnings.filterwarnings('ignore')\n",
    "\n",
    "# Model / data parameters\n",
    "num_classes = 10\n",
    "input_shape = (28, 28, 1)\n",
    "\n",
    "# the data, split between train and test sets\n",
    "(x_train, y_train), (x_test, y_test) = keras.datasets.mnist.load_data()\n",
    "\n",
    "# Scale images to the [0, 1] range\n",
    "x_train = x_train.astype(\"float32\") / 255\n",
    "x_test = x_test.astype(\"float32\") / 255\n",
    "# Make sure images have shape (28, 28, 1)\n",
    "x_train = np.expand_dims(x_train, -1)\n",
    "x_test = np.expand_dims(x_test, -1)\n",
    "\n",
    "# convert class vectors to binary class matrices\n",
    "y_train = keras.utils.to_categorical(y_train, num_classes)\n",
    "y_test = keras.utils.to_categorical(y_test, num_classes)\n",
    "\n",
    "model = keras.models.Sequential([\n",
    "    keras.layers.Conv2D(32, (3, 3), activation=\"relu\", input_shape=input_shape),\n",
    "    keras.layers.Conv2D(64, (3, 3), activation=\"relu\"),\n",
    "    keras.layers.MaxPooling2D((2, 2)),\n",
    "    keras.layers.Flatten(),\n",
    "    keras.layers.Dense(512, activation=\"relu\"),\n",
    "    keras.layers.Dense(10, activation=\"softmax\"),\n",
    "])\n",
    "\n",
    "model.compile(loss='categorical_crossentropy', optimizer=\"adam\", metrics=['accuracy'])\n",
    "model.fit(x_train, y_train, batch_size=128, epochs=20)"
   ]
  },
  {
   "cell_type": "code",
   "execution_count": null,
   "id": "9a30efdf",
   "metadata": {
    "execution": {
     "iopub.execute_input": "2021-08-25T20:36:55.103046Z",
     "iopub.status.busy": "2021-08-25T20:36:55.102324Z",
     "iopub.status.idle": "2021-08-25T20:36:59.887739Z",
     "shell.execute_reply": "2021-08-25T20:36:59.887148Z"
    },
    "papermill": {
     "duration": 7.693197,
     "end_time": "2021-08-25T20:36:59.887887",
     "exception": false,
     "start_time": "2021-08-25T20:36:52.194690",
     "status": "completed"
    },
    "tags": []
   },
   "outputs": [],
   "source": [
    "score = model.evaluate(x_test, y_test, verbose=0)\n",
    "print(\"Test loss:\", score[0])\n",
    "print(\"Test accuracy:\", score[1])"
   ]
  },
  {
   "cell_type": "code",
   "execution_count": null,
   "id": "6701b8ad",
   "metadata": {
    "execution": {
     "iopub.execute_input": "2021-08-25T20:37:05.803209Z",
     "iopub.status.busy": "2021-08-25T20:37:05.802275Z",
     "iopub.status.idle": "2021-08-25T20:37:32.623777Z",
     "shell.execute_reply": "2021-08-25T20:37:32.622733Z"
    },
    "papermill": {
     "duration": 29.784306,
     "end_time": "2021-08-25T20:37:32.623935",
     "exception": false,
     "start_time": "2021-08-25T20:37:02.839629",
     "status": "completed"
    },
    "tags": []
   },
   "outputs": [],
   "source": [
    "coeff, perturbations = xwhy_image(Xi, model=model)\n",
    "\n",
    "num_top_features = 4\n",
    "top_features = np.argsort(coeff)[-num_top_features:] \n",
    "mask = np.zeros(num_superpixels) \n",
    "mask[top_features]= True #Activate top superpixels\n",
    "skimage.io.imshow(perturb_image(Xi/2+0.5,mask,superpixels) )"
   ]
  }
 ],
 "metadata": {
  "kernelspec": {
   "display_name": "Python 3.8.13 ('keras-mfp')",
   "language": "python",
   "name": "python3"
  },
  "language_info": {
   "codemirror_mode": {
    "name": "ipython",
    "version": 3
   },
   "file_extension": ".py",
   "mimetype": "text/x-python",
   "name": "python",
   "nbconvert_exporter": "python",
   "pygments_lexer": "ipython3",
   "version": "3.8.13 (default, Mar 28 2022, 11:38:47) \n[GCC 7.5.0]"
  },
  "papermill": {
   "default_parameters": {},
   "duration": 2455.691805,
   "end_time": "2021-08-25T20:37:38.151478",
   "environment_variables": {},
   "exception": null,
   "input_path": "__notebook__.ipynb",
   "output_path": "__notebook__.ipynb",
   "parameters": {},
   "start_time": "2021-08-25T19:56:42.459673",
   "version": "2.3.3"
  },
  "vscode": {
   "interpreter": {
    "hash": "34b4dbfa8c6b420feb3763eec6bb3c28c39fffb0ebc75aad03c520aa5686e814"
   }
  }
 },
 "nbformat": 4,
 "nbformat_minor": 5
}
